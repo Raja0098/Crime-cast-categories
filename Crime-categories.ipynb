{
 "cells": [
  {
   "cell_type": "code",
   "execution_count": null,
   "id": "9f09cc5a",
   "metadata": {
    "_cell_guid": "b1076dfc-b9ad-4769-8c92-a6c4dae69d19",
    "_uuid": "8f2839f25d086af736a60e9eeb907d3b93b6e0e5",
    "execution": {
     "iopub.execute_input": "2024-08-10T17:49:17.316138Z",
     "iopub.status.busy": "2024-08-10T17:49:17.314983Z",
     "iopub.status.idle": "2024-08-10T17:49:18.343935Z",
     "shell.execute_reply": "2024-08-10T17:49:18.342687Z"
    },
    "papermill": {
     "duration": 1.094817,
     "end_time": "2024-08-10T17:49:18.346805",
     "exception": false,
     "start_time": "2024-08-10T17:49:17.251988",
     "status": "completed"
    },
    "tags": []
   },
   "outputs": [
    {
     "name": "stdout",
     "output_type": "stream",
     "text": [
      "/kaggle/input/crime-cast-forecasting-crime-categories/sample.csv\n",
      "/kaggle/input/crime-cast-forecasting-crime-categories/train.csv\n",
      "/kaggle/input/crime-cast-forecasting-crime-categories/test.csv\n"
     ]
    }
   ],
   "source": [
    "import numpy as np \n",
    "import pandas as pd \n",
    "\n",
    "\n",
    "import os\n",
    "for dirname, _, filenames in os.walk('/kaggle/input'):\n",
    "    for filename in filenames:\n",
    "        print(os.path.join(dirname, filename))\n"
   ]
  },
  {
   "cell_type": "markdown",
   "id": "ac624a68",
   "metadata": {
    "papermill": {
     "duration": 0.057199,
     "end_time": "2024-08-10T17:49:18.460886",
     "exception": false,
     "start_time": "2024-08-10T17:49:18.403687",
     "status": "completed"
    },
    "tags": []
   },
   "source": [
    "# CrimeCast: Forecasting Crime Categories"
   ]
  },
  {
   "cell_type": "markdown",
   "id": "d2458a4f",
   "metadata": {
    "papermill": {
     "duration": 0.056471,
     "end_time": "2024-08-10T17:49:18.575495",
     "exception": false,
     "start_time": "2024-08-10T17:49:18.519024",
     "status": "completed"
    },
    "tags": []
   },
   "source": [
    "# *1. Imported Required Libraries*"
   ]
  },
  {
   "cell_type": "code",
   "execution_count": 2,
   "id": "fc9aa35a",
   "metadata": {
    "execution": {
     "iopub.execute_input": "2024-08-10T17:49:18.693481Z",
     "iopub.status.busy": "2024-08-10T17:49:18.692946Z",
     "iopub.status.idle": "2024-08-10T17:49:21.168669Z",
     "shell.execute_reply": "2024-08-10T17:49:21.167378Z"
    },
    "papermill": {
     "duration": 2.540009,
     "end_time": "2024-08-10T17:49:21.172025",
     "exception": false,
     "start_time": "2024-08-10T17:49:18.632016",
     "status": "completed"
    },
    "tags": []
   },
   "outputs": [],
   "source": [
    "import numpy as np\n",
    "from numpy import nan\n",
    "import pandas as pd\n",
    "import matplotlib.pyplot as plt\n",
    "%matplotlib inline\n",
    "import seaborn as sns\n",
    "\n",
    "\n",
    "from sklearn.preprocessing import OrdinalEncoder\n",
    "from sklearn.preprocessing import StandardScaler\n",
    "from sklearn.preprocessing import LabelEncoder\n",
    "\n",
    "from sklearn.compose import ColumnTransformer\n",
    "\n",
    "from sklearn.impute import SimpleImputer\n",
    "\n",
    "from sklearn.model_selection import train_test_split\n",
    "from sklearn.model_selection import ShuffleSplit\n",
    "from sklearn.model_selection import cross_val_score\n",
    "from sklearn.model_selection import GridSearchCV,RandomizedSearchCV\n",
    "from sklearn.model_selection import learning_curve\n",
    "\n",
    "from sklearn.pipeline import Pipeline\n",
    "\n",
    "from sklearn.metrics import confusion_matrix\n",
    "from sklearn.metrics import ConfusionMatrixDisplay\n",
    "from sklearn.metrics import classification_report, accuracy_score\n",
    "\n",
    "from sklearn.dummy import DummyClassifier\n",
    "\n",
    "from sklearn.svm import SVC\n",
    "from sklearn.svm import LinearSVC\n",
    "\n",
    "from sklearn.ensemble import RandomForestClassifier\n",
    "\n",
    "from xgboost import XGBClassifier\n",
    "\n",
    "from sklearn.linear_model import LogisticRegression\n",
    "\n",
    "from sklearn.naive_bayes import GaussianNB\n",
    "\n",
    "from sklearn.neighbors import KNeighborsClassifier\n",
    "\n",
    "from sklearn.svm import SVC\n",
    "from sklearn.svm import LinearSVC\n",
    "\n",
    "from sklearn.neural_network import MLPClassifier\n",
    "\n",
    "from sklearn.tree import DecisionTreeClassifier\n",
    "\n",
    "from sklearn.utils.multiclass import type_of_target"
   ]
  },
  {
   "cell_type": "code",
   "execution_count": 3,
   "id": "587b16e3",
   "metadata": {
    "execution": {
     "iopub.execute_input": "2024-08-10T17:49:21.359399Z",
     "iopub.status.busy": "2024-08-10T17:49:21.358976Z",
     "iopub.status.idle": "2024-08-10T17:49:21.364940Z",
     "shell.execute_reply": "2024-08-10T17:49:21.363712Z"
    },
    "papermill": {
     "duration": 0.130789,
     "end_time": "2024-08-10T17:49:21.367239",
     "exception": false,
     "start_time": "2024-08-10T17:49:21.236450",
     "status": "completed"
    },
    "tags": []
   },
   "outputs": [],
   "source": [
    "# Seed will ensure that the sequence of random numbers generated by NumPy will be the same each time when we run the code.\n",
    "\n",
    "np.random.seed(306)"
   ]
  },
  {
   "cell_type": "code",
   "execution_count": 4,
   "id": "2b610ce5",
   "metadata": {
    "execution": {
     "iopub.execute_input": "2024-08-10T17:49:21.488362Z",
     "iopub.status.busy": "2024-08-10T17:49:21.487907Z",
     "iopub.status.idle": "2024-08-10T17:49:21.493517Z",
     "shell.execute_reply": "2024-08-10T17:49:21.492251Z"
    },
    "papermill": {
     "duration": 0.071092,
     "end_time": "2024-08-10T17:49:21.495913",
     "exception": false,
     "start_time": "2024-08-10T17:49:21.424821",
     "status": "completed"
    },
    "tags": []
   },
   "outputs": [],
   "source": [
    "# ShuffleSplit is a type of cross-validation technique, where the data is splitted in k folds, each split is created\n",
    "# by shuffling the data and then splitting it.\n",
    "\n",
    "# cv=ShuffleSplit(n_splits=10,test_size=0.2,random_state=42)"
   ]
  },
  {
   "cell_type": "code",
   "execution_count": 5,
   "id": "7587b0bb",
   "metadata": {
    "execution": {
     "iopub.execute_input": "2024-08-10T17:49:21.613843Z",
     "iopub.status.busy": "2024-08-10T17:49:21.613394Z",
     "iopub.status.idle": "2024-08-10T17:49:21.618688Z",
     "shell.execute_reply": "2024-08-10T17:49:21.617476Z"
    },
    "papermill": {
     "duration": 0.067515,
     "end_time": "2024-08-10T17:49:21.621425",
     "exception": false,
     "start_time": "2024-08-10T17:49:21.553910",
     "status": "completed"
    },
    "tags": []
   },
   "outputs": [],
   "source": [
    "import warnings\n",
    "warnings.filterwarnings(\"ignore\")"
   ]
  },
  {
   "cell_type": "markdown",
   "id": "dac21e1a",
   "metadata": {
    "papermill": {
     "duration": 0.056639,
     "end_time": "2024-08-10T17:49:21.736164",
     "exception": false,
     "start_time": "2024-08-10T17:49:21.679525",
     "status": "completed"
    },
    "tags": []
   },
   "source": [
    "# 2. *EDA*"
   ]
  },
  {
   "cell_type": "markdown",
   "id": "f0d034da",
   "metadata": {
    "papermill": {
     "duration": 0.059804,
     "end_time": "2024-08-10T17:49:21.853617",
     "exception": false,
     "start_time": "2024-08-10T17:49:21.793813",
     "status": "completed"
    },
    "tags": []
   },
   "source": [
    "## a) Loading the dataset"
   ]
  },
  {
   "cell_type": "code",
   "execution_count": 6,
   "id": "e5c6a4dc",
   "metadata": {
    "execution": {
     "iopub.execute_input": "2024-08-10T17:49:21.976465Z",
     "iopub.status.busy": "2024-08-10T17:49:21.975849Z",
     "iopub.status.idle": "2024-08-10T17:49:22.249327Z",
     "shell.execute_reply": "2024-08-10T17:49:22.248179Z"
    },
    "papermill": {
     "duration": 0.336127,
     "end_time": "2024-08-10T17:49:22.252130",
     "exception": false,
     "start_time": "2024-08-10T17:49:21.916003",
     "status": "completed"
    },
    "tags": []
   },
   "outputs": [],
   "source": [
    "data=pd.read_csv(\"/kaggle/input/crime-cast-forecasting-crime-categories/train.csv\")\n",
    "test_data=pd.read_csv(\"/kaggle/input/crime-cast-forecasting-crime-categories/test.csv\")"
   ]
  },
  {
   "cell_type": "code",
   "execution_count": 7,
   "id": "1bab509a",
   "metadata": {
    "execution": {
     "iopub.execute_input": "2024-08-10T17:49:22.368771Z",
     "iopub.status.busy": "2024-08-10T17:49:22.368326Z",
     "iopub.status.idle": "2024-08-10T17:49:22.374978Z",
     "shell.execute_reply": "2024-08-10T17:49:22.373471Z"
    },
    "papermill": {
     "duration": 0.068787,
     "end_time": "2024-08-10T17:49:22.377717",
     "exception": false,
     "start_time": "2024-08-10T17:49:22.308930",
     "status": "completed"
    },
    "tags": []
   },
   "outputs": [],
   "source": [
    "pd.set_option(\"display.max_columns\",data.shape[1])"
   ]
  },
  {
   "cell_type": "markdown",
   "id": "5f2b8615",
   "metadata": {
    "papermill": {
     "duration": 0.058865,
     "end_time": "2024-08-10T17:49:22.493740",
     "exception": false,
     "start_time": "2024-08-10T17:49:22.434875",
     "status": "completed"
    },
    "tags": []
   },
   "source": [
    "## Inspecting the Data"
   ]
  },
  {
   "cell_type": "code",
   "execution_count": 8,
   "id": "ec60ef73",
   "metadata": {
    "execution": {
     "iopub.execute_input": "2024-08-10T17:49:22.610112Z",
     "iopub.status.busy": "2024-08-10T17:49:22.609718Z",
     "iopub.status.idle": "2024-08-10T17:49:22.653538Z",
     "shell.execute_reply": "2024-08-10T17:49:22.652288Z"
    },
    "papermill": {
     "duration": 0.104661,
     "end_time": "2024-08-10T17:49:22.656285",
     "exception": false,
     "start_time": "2024-08-10T17:49:22.551624",
     "status": "completed"
    },
    "tags": []
   },
   "outputs": [
    {
     "data": {
      "text/html": [
       "<div>\n",
       "<style scoped>\n",
       "    .dataframe tbody tr th:only-of-type {\n",
       "        vertical-align: middle;\n",
       "    }\n",
       "\n",
       "    .dataframe tbody tr th {\n",
       "        vertical-align: top;\n",
       "    }\n",
       "\n",
       "    .dataframe thead th {\n",
       "        text-align: right;\n",
       "    }\n",
       "</style>\n",
       "<table border=\"1\" class=\"dataframe\">\n",
       "  <thead>\n",
       "    <tr style=\"text-align: right;\">\n",
       "      <th></th>\n",
       "      <th>Location</th>\n",
       "      <th>Cross_Street</th>\n",
       "      <th>Latitude</th>\n",
       "      <th>Longitude</th>\n",
       "      <th>Date_Reported</th>\n",
       "      <th>Date_Occurred</th>\n",
       "      <th>Time_Occurred</th>\n",
       "      <th>Area_ID</th>\n",
       "      <th>Area_Name</th>\n",
       "      <th>Reporting_District_no</th>\n",
       "      <th>Part 1-2</th>\n",
       "      <th>Modus_Operandi</th>\n",
       "      <th>Victim_Age</th>\n",
       "      <th>Victim_Sex</th>\n",
       "      <th>Victim_Descent</th>\n",
       "      <th>Premise_Code</th>\n",
       "      <th>Premise_Description</th>\n",
       "      <th>Weapon_Used_Code</th>\n",
       "      <th>Weapon_Description</th>\n",
       "      <th>Status</th>\n",
       "      <th>Status_Description</th>\n",
       "      <th>Crime_Category</th>\n",
       "    </tr>\n",
       "  </thead>\n",
       "  <tbody>\n",
       "    <tr>\n",
       "      <th>0</th>\n",
       "      <td>4500    CARPENTER                    AV</td>\n",
       "      <td>NaN</td>\n",
       "      <td>34.1522</td>\n",
       "      <td>-118.3910</td>\n",
       "      <td>03/09/2020 12:00:00 AM</td>\n",
       "      <td>03/06/2020 12:00:00 AM</td>\n",
       "      <td>1800.0</td>\n",
       "      <td>15.0</td>\n",
       "      <td>N Hollywood</td>\n",
       "      <td>1563.0</td>\n",
       "      <td>1.0</td>\n",
       "      <td>0385</td>\n",
       "      <td>75.0</td>\n",
       "      <td>M</td>\n",
       "      <td>W</td>\n",
       "      <td>101.0</td>\n",
       "      <td>STREET</td>\n",
       "      <td>NaN</td>\n",
       "      <td>NaN</td>\n",
       "      <td>IC</td>\n",
       "      <td>Invest Cont</td>\n",
       "      <td>Property Crimes</td>\n",
       "    </tr>\n",
       "    <tr>\n",
       "      <th>1</th>\n",
       "      <td>45TH                         ST</td>\n",
       "      <td>ALAMEDA                      ST</td>\n",
       "      <td>34.0028</td>\n",
       "      <td>-118.2391</td>\n",
       "      <td>02/27/2020 12:00:00 AM</td>\n",
       "      <td>02/27/2020 12:00:00 AM</td>\n",
       "      <td>1345.0</td>\n",
       "      <td>13.0</td>\n",
       "      <td>Newton</td>\n",
       "      <td>1367.0</td>\n",
       "      <td>1.0</td>\n",
       "      <td>0906 0352 0371 0446 1822 0344 0416 0417</td>\n",
       "      <td>41.0</td>\n",
       "      <td>M</td>\n",
       "      <td>H</td>\n",
       "      <td>216.0</td>\n",
       "      <td>SWAP MEET</td>\n",
       "      <td>400.0</td>\n",
       "      <td>STRONG-ARM (HANDS, FIST, FEET OR BODILY FORCE)</td>\n",
       "      <td>IC</td>\n",
       "      <td>Invest Cont</td>\n",
       "      <td>Property Crimes</td>\n",
       "    </tr>\n",
       "    <tr>\n",
       "      <th>2</th>\n",
       "      <td>600 E  MARTIN LUTHER KING JR        BL</td>\n",
       "      <td>NaN</td>\n",
       "      <td>34.0111</td>\n",
       "      <td>-118.2653</td>\n",
       "      <td>08/21/2020 12:00:00 AM</td>\n",
       "      <td>08/21/2020 12:00:00 AM</td>\n",
       "      <td>605.0</td>\n",
       "      <td>13.0</td>\n",
       "      <td>Newton</td>\n",
       "      <td>1343.0</td>\n",
       "      <td>2.0</td>\n",
       "      <td>0329 1202</td>\n",
       "      <td>67.0</td>\n",
       "      <td>M</td>\n",
       "      <td>B</td>\n",
       "      <td>501.0</td>\n",
       "      <td>SINGLE FAMILY DWELLING</td>\n",
       "      <td>NaN</td>\n",
       "      <td>NaN</td>\n",
       "      <td>IC</td>\n",
       "      <td>Invest Cont</td>\n",
       "      <td>Property Crimes</td>\n",
       "    </tr>\n",
       "    <tr>\n",
       "      <th>3</th>\n",
       "      <td>14900    ORO GRANDE                   ST</td>\n",
       "      <td>NaN</td>\n",
       "      <td>34.2953</td>\n",
       "      <td>-118.4590</td>\n",
       "      <td>11/08/2020 12:00:00 AM</td>\n",
       "      <td>11/06/2020 12:00:00 AM</td>\n",
       "      <td>1800.0</td>\n",
       "      <td>19.0</td>\n",
       "      <td>Mission</td>\n",
       "      <td>1924.0</td>\n",
       "      <td>1.0</td>\n",
       "      <td>0329 1300</td>\n",
       "      <td>61.0</td>\n",
       "      <td>M</td>\n",
       "      <td>H</td>\n",
       "      <td>101.0</td>\n",
       "      <td>STREET</td>\n",
       "      <td>NaN</td>\n",
       "      <td>NaN</td>\n",
       "      <td>IC</td>\n",
       "      <td>Invest Cont</td>\n",
       "      <td>Property Crimes</td>\n",
       "    </tr>\n",
       "    <tr>\n",
       "      <th>4</th>\n",
       "      <td>7100 S  VERMONT                      AV</td>\n",
       "      <td>NaN</td>\n",
       "      <td>33.9787</td>\n",
       "      <td>-118.2918</td>\n",
       "      <td>02/25/2020 12:00:00 AM</td>\n",
       "      <td>02/25/2020 12:00:00 AM</td>\n",
       "      <td>1130.0</td>\n",
       "      <td>12.0</td>\n",
       "      <td>77th Street</td>\n",
       "      <td>1245.0</td>\n",
       "      <td>1.0</td>\n",
       "      <td>0416 0945 1822 0400 0417 0344</td>\n",
       "      <td>0.0</td>\n",
       "      <td>X</td>\n",
       "      <td>X</td>\n",
       "      <td>401.0</td>\n",
       "      <td>MINI-MART</td>\n",
       "      <td>400.0</td>\n",
       "      <td>STRONG-ARM (HANDS, FIST, FEET OR BODILY FORCE)</td>\n",
       "      <td>IC</td>\n",
       "      <td>Invest Cont</td>\n",
       "      <td>Property Crimes</td>\n",
       "    </tr>\n",
       "  </tbody>\n",
       "</table>\n",
       "</div>"
      ],
      "text/plain": [
       "                                   Location                     Cross_Street  \\\n",
       "0   4500    CARPENTER                    AV                              NaN   \n",
       "1           45TH                         ST  ALAMEDA                      ST   \n",
       "2    600 E  MARTIN LUTHER KING JR        BL                              NaN   \n",
       "3  14900    ORO GRANDE                   ST                              NaN   \n",
       "4   7100 S  VERMONT                      AV                              NaN   \n",
       "\n",
       "   Latitude  Longitude           Date_Reported           Date_Occurred  \\\n",
       "0   34.1522  -118.3910  03/09/2020 12:00:00 AM  03/06/2020 12:00:00 AM   \n",
       "1   34.0028  -118.2391  02/27/2020 12:00:00 AM  02/27/2020 12:00:00 AM   \n",
       "2   34.0111  -118.2653  08/21/2020 12:00:00 AM  08/21/2020 12:00:00 AM   \n",
       "3   34.2953  -118.4590  11/08/2020 12:00:00 AM  11/06/2020 12:00:00 AM   \n",
       "4   33.9787  -118.2918  02/25/2020 12:00:00 AM  02/25/2020 12:00:00 AM   \n",
       "\n",
       "   Time_Occurred  Area_ID    Area_Name  Reporting_District_no  Part 1-2  \\\n",
       "0         1800.0     15.0  N Hollywood                 1563.0       1.0   \n",
       "1         1345.0     13.0       Newton                 1367.0       1.0   \n",
       "2          605.0     13.0       Newton                 1343.0       2.0   \n",
       "3         1800.0     19.0      Mission                 1924.0       1.0   \n",
       "4         1130.0     12.0  77th Street                 1245.0       1.0   \n",
       "\n",
       "                            Modus_Operandi  Victim_Age Victim_Sex  \\\n",
       "0                                     0385        75.0          M   \n",
       "1  0906 0352 0371 0446 1822 0344 0416 0417        41.0          M   \n",
       "2                                0329 1202        67.0          M   \n",
       "3                                0329 1300        61.0          M   \n",
       "4            0416 0945 1822 0400 0417 0344         0.0          X   \n",
       "\n",
       "  Victim_Descent  Premise_Code     Premise_Description  Weapon_Used_Code  \\\n",
       "0              W         101.0                  STREET               NaN   \n",
       "1              H         216.0               SWAP MEET             400.0   \n",
       "2              B         501.0  SINGLE FAMILY DWELLING               NaN   \n",
       "3              H         101.0                  STREET               NaN   \n",
       "4              X         401.0               MINI-MART             400.0   \n",
       "\n",
       "                               Weapon_Description Status Status_Description  \\\n",
       "0                                             NaN     IC        Invest Cont   \n",
       "1  STRONG-ARM (HANDS, FIST, FEET OR BODILY FORCE)     IC        Invest Cont   \n",
       "2                                             NaN     IC        Invest Cont   \n",
       "3                                             NaN     IC        Invest Cont   \n",
       "4  STRONG-ARM (HANDS, FIST, FEET OR BODILY FORCE)     IC        Invest Cont   \n",
       "\n",
       "    Crime_Category  \n",
       "0  Property Crimes  \n",
       "1  Property Crimes  \n",
       "2  Property Crimes  \n",
       "3  Property Crimes  \n",
       "4  Property Crimes  "
      ]
     },
     "execution_count": 8,
     "metadata": {},
     "output_type": "execute_result"
    }
   ],
   "source": [
    "data.head()"
   ]
  },
  {
   "cell_type": "code",
   "execution_count": 9,
   "id": "07bea806",
   "metadata": {
    "execution": {
     "iopub.execute_input": "2024-08-10T17:49:22.774646Z",
     "iopub.status.busy": "2024-08-10T17:49:22.774250Z",
     "iopub.status.idle": "2024-08-10T17:49:22.803609Z",
     "shell.execute_reply": "2024-08-10T17:49:22.802471Z"
    },
    "papermill": {
     "duration": 0.09169,
     "end_time": "2024-08-10T17:49:22.806234",
     "exception": false,
     "start_time": "2024-08-10T17:49:22.714544",
     "status": "completed"
    },
    "tags": []
   },
   "outputs": [
    {
     "data": {
      "text/html": [
       "<div>\n",
       "<style scoped>\n",
       "    .dataframe tbody tr th:only-of-type {\n",
       "        vertical-align: middle;\n",
       "    }\n",
       "\n",
       "    .dataframe tbody tr th {\n",
       "        vertical-align: top;\n",
       "    }\n",
       "\n",
       "    .dataframe thead th {\n",
       "        text-align: right;\n",
       "    }\n",
       "</style>\n",
       "<table border=\"1\" class=\"dataframe\">\n",
       "  <thead>\n",
       "    <tr style=\"text-align: right;\">\n",
       "      <th></th>\n",
       "      <th>Location</th>\n",
       "      <th>Cross_Street</th>\n",
       "      <th>Latitude</th>\n",
       "      <th>Longitude</th>\n",
       "      <th>Date_Reported</th>\n",
       "      <th>Date_Occurred</th>\n",
       "      <th>Time_Occurred</th>\n",
       "      <th>Area_ID</th>\n",
       "      <th>Area_Name</th>\n",
       "      <th>Reporting_District_no</th>\n",
       "      <th>Part 1-2</th>\n",
       "      <th>Modus_Operandi</th>\n",
       "      <th>Victim_Age</th>\n",
       "      <th>Victim_Sex</th>\n",
       "      <th>Victim_Descent</th>\n",
       "      <th>Premise_Code</th>\n",
       "      <th>Premise_Description</th>\n",
       "      <th>Weapon_Used_Code</th>\n",
       "      <th>Weapon_Description</th>\n",
       "      <th>Status</th>\n",
       "      <th>Status_Description</th>\n",
       "    </tr>\n",
       "  </thead>\n",
       "  <tbody>\n",
       "    <tr>\n",
       "      <th>0</th>\n",
       "      <td>1500    LEIGHTON                     AV</td>\n",
       "      <td>NaN</td>\n",
       "      <td>34.0128</td>\n",
       "      <td>-118.3045</td>\n",
       "      <td>03/03/2020 12:00:00 AM</td>\n",
       "      <td>03/03/2020 12:00:00 AM</td>\n",
       "      <td>2000.0</td>\n",
       "      <td>3.0</td>\n",
       "      <td>Southwest</td>\n",
       "      <td>376.0</td>\n",
       "      <td>2.0</td>\n",
       "      <td>0416 1241 1243 1813 1821 2000</td>\n",
       "      <td>28.0</td>\n",
       "      <td>F</td>\n",
       "      <td>H</td>\n",
       "      <td>501.0</td>\n",
       "      <td>SINGLE FAMILY DWELLING</td>\n",
       "      <td>400.0</td>\n",
       "      <td>STRONG-ARM (HANDS, FIST, FEET OR BODILY FORCE)</td>\n",
       "      <td>IC</td>\n",
       "      <td>Invest Cont</td>\n",
       "    </tr>\n",
       "    <tr>\n",
       "      <th>1</th>\n",
       "      <td>100 S  NORMANDIE                    AV</td>\n",
       "      <td>NaN</td>\n",
       "      <td>34.0726</td>\n",
       "      <td>-118.3029</td>\n",
       "      <td>06/01/2020 12:00:00 AM</td>\n",
       "      <td>04/25/2020 12:00:00 AM</td>\n",
       "      <td>1700.0</td>\n",
       "      <td>20.0</td>\n",
       "      <td>Olympic</td>\n",
       "      <td>2014.0</td>\n",
       "      <td>1.0</td>\n",
       "      <td>0344 0394</td>\n",
       "      <td>26.0</td>\n",
       "      <td>M</td>\n",
       "      <td>B</td>\n",
       "      <td>502.0</td>\n",
       "      <td>MULTI-UNIT DWELLING (APARTMENT, DUPLEX, ETC)</td>\n",
       "      <td>NaN</td>\n",
       "      <td>NaN</td>\n",
       "      <td>IC</td>\n",
       "      <td>Invest Cont</td>\n",
       "    </tr>\n",
       "    <tr>\n",
       "      <th>2</th>\n",
       "      <td>300 E  111TH                        ST</td>\n",
       "      <td>NaN</td>\n",
       "      <td>33.9348</td>\n",
       "      <td>-118.2695</td>\n",
       "      <td>08/28/2020 12:00:00 AM</td>\n",
       "      <td>08/27/2020 12:00:00 AM</td>\n",
       "      <td>900.0</td>\n",
       "      <td>18.0</td>\n",
       "      <td>Southeast</td>\n",
       "      <td>1844.0</td>\n",
       "      <td>2.0</td>\n",
       "      <td>1822 0701 1914 0355 1202 0100</td>\n",
       "      <td>62.0</td>\n",
       "      <td>F</td>\n",
       "      <td>B</td>\n",
       "      <td>721.0</td>\n",
       "      <td>HIGH SCHOOL</td>\n",
       "      <td>NaN</td>\n",
       "      <td>NaN</td>\n",
       "      <td>IC</td>\n",
       "      <td>Invest Cont</td>\n",
       "    </tr>\n",
       "    <tr>\n",
       "      <th>3</th>\n",
       "      <td>1300 S  LA BREA                      AV</td>\n",
       "      <td>NaN</td>\n",
       "      <td>34.0497</td>\n",
       "      <td>-118.3442</td>\n",
       "      <td>12/23/2020 12:00:00 AM</td>\n",
       "      <td>12/03/2020 12:00:00 AM</td>\n",
       "      <td>2200.0</td>\n",
       "      <td>7.0</td>\n",
       "      <td>Wilshire</td>\n",
       "      <td>765.0</td>\n",
       "      <td>1.0</td>\n",
       "      <td>NaN</td>\n",
       "      <td>0.0</td>\n",
       "      <td>NaN</td>\n",
       "      <td>NaN</td>\n",
       "      <td>108.0</td>\n",
       "      <td>PARKING LOT</td>\n",
       "      <td>NaN</td>\n",
       "      <td>NaN</td>\n",
       "      <td>IC</td>\n",
       "      <td>Invest Cont</td>\n",
       "    </tr>\n",
       "    <tr>\n",
       "      <th>4</th>\n",
       "      <td>11000    MORRISON                     ST</td>\n",
       "      <td>NaN</td>\n",
       "      <td>34.1611</td>\n",
       "      <td>-118.3704</td>\n",
       "      <td>08/30/2020 12:00:00 AM</td>\n",
       "      <td>08/29/2020 12:00:00 AM</td>\n",
       "      <td>130.0</td>\n",
       "      <td>15.0</td>\n",
       "      <td>N Hollywood</td>\n",
       "      <td>1555.0</td>\n",
       "      <td>2.0</td>\n",
       "      <td>1501</td>\n",
       "      <td>37.0</td>\n",
       "      <td>F</td>\n",
       "      <td>W</td>\n",
       "      <td>501.0</td>\n",
       "      <td>SINGLE FAMILY DWELLING</td>\n",
       "      <td>NaN</td>\n",
       "      <td>NaN</td>\n",
       "      <td>AO</td>\n",
       "      <td>Adult Other</td>\n",
       "    </tr>\n",
       "  </tbody>\n",
       "</table>\n",
       "</div>"
      ],
      "text/plain": [
       "                                   Location Cross_Street  Latitude  Longitude  \\\n",
       "0   1500    LEIGHTON                     AV          NaN   34.0128  -118.3045   \n",
       "1    100 S  NORMANDIE                    AV          NaN   34.0726  -118.3029   \n",
       "2    300 E  111TH                        ST          NaN   33.9348  -118.2695   \n",
       "3   1300 S  LA BREA                      AV          NaN   34.0497  -118.3442   \n",
       "4  11000    MORRISON                     ST          NaN   34.1611  -118.3704   \n",
       "\n",
       "            Date_Reported           Date_Occurred  Time_Occurred  Area_ID  \\\n",
       "0  03/03/2020 12:00:00 AM  03/03/2020 12:00:00 AM         2000.0      3.0   \n",
       "1  06/01/2020 12:00:00 AM  04/25/2020 12:00:00 AM         1700.0     20.0   \n",
       "2  08/28/2020 12:00:00 AM  08/27/2020 12:00:00 AM          900.0     18.0   \n",
       "3  12/23/2020 12:00:00 AM  12/03/2020 12:00:00 AM         2200.0      7.0   \n",
       "4  08/30/2020 12:00:00 AM  08/29/2020 12:00:00 AM          130.0     15.0   \n",
       "\n",
       "     Area_Name  Reporting_District_no  Part 1-2  \\\n",
       "0    Southwest                  376.0       2.0   \n",
       "1      Olympic                 2014.0       1.0   \n",
       "2    Southeast                 1844.0       2.0   \n",
       "3     Wilshire                  765.0       1.0   \n",
       "4  N Hollywood                 1555.0       2.0   \n",
       "\n",
       "                  Modus_Operandi  Victim_Age Victim_Sex Victim_Descent  \\\n",
       "0  0416 1241 1243 1813 1821 2000        28.0          F              H   \n",
       "1                      0344 0394        26.0          M              B   \n",
       "2  1822 0701 1914 0355 1202 0100        62.0          F              B   \n",
       "3                            NaN         0.0        NaN            NaN   \n",
       "4                           1501        37.0          F              W   \n",
       "\n",
       "   Premise_Code                           Premise_Description  \\\n",
       "0         501.0                        SINGLE FAMILY DWELLING   \n",
       "1         502.0  MULTI-UNIT DWELLING (APARTMENT, DUPLEX, ETC)   \n",
       "2         721.0                                   HIGH SCHOOL   \n",
       "3         108.0                                   PARKING LOT   \n",
       "4         501.0                        SINGLE FAMILY DWELLING   \n",
       "\n",
       "   Weapon_Used_Code                              Weapon_Description Status  \\\n",
       "0             400.0  STRONG-ARM (HANDS, FIST, FEET OR BODILY FORCE)     IC   \n",
       "1               NaN                                             NaN     IC   \n",
       "2               NaN                                             NaN     IC   \n",
       "3               NaN                                             NaN     IC   \n",
       "4               NaN                                             NaN     AO   \n",
       "\n",
       "  Status_Description  \n",
       "0        Invest Cont  \n",
       "1        Invest Cont  \n",
       "2        Invest Cont  \n",
       "3        Invest Cont  \n",
       "4        Adult Other  "
      ]
     },
     "execution_count": 9,
     "metadata": {},
     "output_type": "execute_result"
    }
   ],
   "source": [
    "test_data.head()"
   ]
  },
  {
   "cell_type": "markdown",
   "id": "4613ce90",
   "metadata": {
    "papermill": {
     "duration": 0.05742,
     "end_time": "2024-08-10T17:49:22.923414",
     "exception": false,
     "start_time": "2024-08-10T17:49:22.865994",
     "status": "completed"
    },
    "tags": []
   },
   "source": [
    "## Shape of training data"
   ]
  },
  {
   "cell_type": "code",
   "execution_count": 10,
   "id": "078f6669",
   "metadata": {
    "execution": {
     "iopub.execute_input": "2024-08-10T17:49:23.042491Z",
     "iopub.status.busy": "2024-08-10T17:49:23.042047Z",
     "iopub.status.idle": "2024-08-10T17:49:23.050578Z",
     "shell.execute_reply": "2024-08-10T17:49:23.049353Z"
    },
    "papermill": {
     "duration": 0.070371,
     "end_time": "2024-08-10T17:49:23.053169",
     "exception": false,
     "start_time": "2024-08-10T17:49:22.982798",
     "status": "completed"
    },
    "tags": []
   },
   "outputs": [
    {
     "data": {
      "text/plain": [
       "(20000, 22)"
      ]
     },
     "execution_count": 10,
     "metadata": {},
     "output_type": "execute_result"
    }
   ],
   "source": [
    "data.shape"
   ]
  },
  {
   "cell_type": "code",
   "execution_count": 11,
   "id": "6d1491c4",
   "metadata": {
    "execution": {
     "iopub.execute_input": "2024-08-10T17:49:23.172147Z",
     "iopub.status.busy": "2024-08-10T17:49:23.171246Z",
     "iopub.status.idle": "2024-08-10T17:49:23.179028Z",
     "shell.execute_reply": "2024-08-10T17:49:23.177844Z"
    },
    "papermill": {
     "duration": 0.070118,
     "end_time": "2024-08-10T17:49:23.181454",
     "exception": false,
     "start_time": "2024-08-10T17:49:23.111336",
     "status": "completed"
    },
    "tags": []
   },
   "outputs": [
    {
     "data": {
      "text/plain": [
       "(5000, 21)"
      ]
     },
     "execution_count": 11,
     "metadata": {},
     "output_type": "execute_result"
    }
   ],
   "source": [
    "test_data.shape"
   ]
  },
  {
   "cell_type": "markdown",
   "id": "e01341cd",
   "metadata": {
    "papermill": {
     "duration": 0.0578,
     "end_time": "2024-08-10T17:49:23.298991",
     "exception": false,
     "start_time": "2024-08-10T17:49:23.241191",
     "status": "completed"
    },
    "tags": []
   },
   "source": [
    "## Details of features"
   ]
  },
  {
   "cell_type": "code",
   "execution_count": 12,
   "id": "3bbb9901",
   "metadata": {
    "execution": {
     "iopub.execute_input": "2024-08-10T17:49:23.416772Z",
     "iopub.status.busy": "2024-08-10T17:49:23.416297Z",
     "iopub.status.idle": "2024-08-10T17:49:23.475753Z",
     "shell.execute_reply": "2024-08-10T17:49:23.474122Z"
    },
    "papermill": {
     "duration": 0.121299,
     "end_time": "2024-08-10T17:49:23.478348",
     "exception": false,
     "start_time": "2024-08-10T17:49:23.357049",
     "status": "completed"
    },
    "tags": []
   },
   "outputs": [
    {
     "name": "stdout",
     "output_type": "stream",
     "text": [
      "<class 'pandas.core.frame.DataFrame'>\n",
      "RangeIndex: 20000 entries, 0 to 19999\n",
      "Data columns (total 22 columns):\n",
      " #   Column                 Non-Null Count  Dtype  \n",
      "---  ------                 --------------  -----  \n",
      " 0   Location               20000 non-null  object \n",
      " 1   Cross_Street           3448 non-null   object \n",
      " 2   Latitude               20000 non-null  float64\n",
      " 3   Longitude              20000 non-null  float64\n",
      " 4   Date_Reported          20000 non-null  object \n",
      " 5   Date_Occurred          20000 non-null  object \n",
      " 6   Time_Occurred          20000 non-null  float64\n",
      " 7   Area_ID                20000 non-null  float64\n",
      " 8   Area_Name              20000 non-null  object \n",
      " 9   Reporting_District_no  20000 non-null  float64\n",
      " 10  Part 1-2               20000 non-null  float64\n",
      " 11  Modus_Operandi         17259 non-null  object \n",
      " 12  Victim_Age             20000 non-null  float64\n",
      " 13  Victim_Sex             17376 non-null  object \n",
      " 14  Victim_Descent         17376 non-null  object \n",
      " 15  Premise_Code           20000 non-null  float64\n",
      " 16  Premise_Description    19995 non-null  object \n",
      " 17  Weapon_Used_Code       7335 non-null   float64\n",
      " 18  Weapon_Description     7335 non-null   object \n",
      " 19  Status                 20000 non-null  object \n",
      " 20  Status_Description     20000 non-null  object \n",
      " 21  Crime_Category         20000 non-null  object \n",
      "dtypes: float64(9), object(13)\n",
      "memory usage: 3.4+ MB\n"
     ]
    }
   ],
   "source": [
    "data.info()"
   ]
  },
  {
   "cell_type": "code",
   "execution_count": 13,
   "id": "407d333e",
   "metadata": {
    "execution": {
     "iopub.execute_input": "2024-08-10T17:49:23.600473Z",
     "iopub.status.busy": "2024-08-10T17:49:23.600025Z",
     "iopub.status.idle": "2024-08-10T17:49:23.620653Z",
     "shell.execute_reply": "2024-08-10T17:49:23.619291Z"
    },
    "papermill": {
     "duration": 0.084802,
     "end_time": "2024-08-10T17:49:23.623644",
     "exception": false,
     "start_time": "2024-08-10T17:49:23.538842",
     "status": "completed"
    },
    "tags": []
   },
   "outputs": [
    {
     "name": "stdout",
     "output_type": "stream",
     "text": [
      "<class 'pandas.core.frame.DataFrame'>\n",
      "RangeIndex: 5000 entries, 0 to 4999\n",
      "Data columns (total 21 columns):\n",
      " #   Column                 Non-Null Count  Dtype  \n",
      "---  ------                 --------------  -----  \n",
      " 0   Location               5000 non-null   object \n",
      " 1   Cross_Street           810 non-null    object \n",
      " 2   Latitude               5000 non-null   float64\n",
      " 3   Longitude              5000 non-null   float64\n",
      " 4   Date_Reported          5000 non-null   object \n",
      " 5   Date_Occurred          5000 non-null   object \n",
      " 6   Time_Occurred          5000 non-null   float64\n",
      " 7   Area_ID                5000 non-null   float64\n",
      " 8   Area_Name              5000 non-null   object \n",
      " 9   Reporting_District_no  5000 non-null   float64\n",
      " 10  Part 1-2               5000 non-null   float64\n",
      " 11  Modus_Operandi         4316 non-null   object \n",
      " 12  Victim_Age             5000 non-null   float64\n",
      " 13  Victim_Sex             4357 non-null   object \n",
      " 14  Victim_Descent         4357 non-null   object \n",
      " 15  Premise_Code           5000 non-null   float64\n",
      " 16  Premise_Description    4999 non-null   object \n",
      " 17  Weapon_Used_Code       1847 non-null   float64\n",
      " 18  Weapon_Description     1847 non-null   object \n",
      " 19  Status                 5000 non-null   object \n",
      " 20  Status_Description     5000 non-null   object \n",
      "dtypes: float64(9), object(12)\n",
      "memory usage: 820.4+ KB\n"
     ]
    }
   ],
   "source": [
    "test_data.info()"
   ]
  },
  {
   "cell_type": "markdown",
   "id": "3e06cdfc",
   "metadata": {
    "papermill": {
     "duration": 0.061017,
     "end_time": "2024-08-10T17:49:23.745020",
     "exception": false,
     "start_time": "2024-08-10T17:49:23.684003",
     "status": "completed"
    },
    "tags": []
   },
   "source": [
    "## b) Summary Statistics"
   ]
  },
  {
   "cell_type": "code",
   "execution_count": 14,
   "id": "e7b20249",
   "metadata": {
    "execution": {
     "iopub.execute_input": "2024-08-10T17:49:23.866523Z",
     "iopub.status.busy": "2024-08-10T17:49:23.866049Z",
     "iopub.status.idle": "2024-08-10T17:49:23.916714Z",
     "shell.execute_reply": "2024-08-10T17:49:23.915488Z"
    },
    "papermill": {
     "duration": 0.116282,
     "end_time": "2024-08-10T17:49:23.919464",
     "exception": false,
     "start_time": "2024-08-10T17:49:23.803182",
     "status": "completed"
    },
    "tags": []
   },
   "outputs": [
    {
     "data": {
      "text/html": [
       "<div>\n",
       "<style scoped>\n",
       "    .dataframe tbody tr th:only-of-type {\n",
       "        vertical-align: middle;\n",
       "    }\n",
       "\n",
       "    .dataframe tbody tr th {\n",
       "        vertical-align: top;\n",
       "    }\n",
       "\n",
       "    .dataframe thead th {\n",
       "        text-align: right;\n",
       "    }\n",
       "</style>\n",
       "<table border=\"1\" class=\"dataframe\">\n",
       "  <thead>\n",
       "    <tr style=\"text-align: right;\">\n",
       "      <th></th>\n",
       "      <th>Latitude</th>\n",
       "      <th>Longitude</th>\n",
       "      <th>Time_Occurred</th>\n",
       "      <th>Area_ID</th>\n",
       "      <th>Reporting_District_no</th>\n",
       "      <th>Part 1-2</th>\n",
       "      <th>Victim_Age</th>\n",
       "      <th>Premise_Code</th>\n",
       "      <th>Weapon_Used_Code</th>\n",
       "    </tr>\n",
       "  </thead>\n",
       "  <tbody>\n",
       "    <tr>\n",
       "      <th>count</th>\n",
       "      <td>20000.000000</td>\n",
       "      <td>20000.000000</td>\n",
       "      <td>20000.000000</td>\n",
       "      <td>20000.000000</td>\n",
       "      <td>20000.000000</td>\n",
       "      <td>20000.000000</td>\n",
       "      <td>20000.000000</td>\n",
       "      <td>20000.000000</td>\n",
       "      <td>7335.000000</td>\n",
       "    </tr>\n",
       "    <tr>\n",
       "      <th>mean</th>\n",
       "      <td>33.940704</td>\n",
       "      <td>-117.893072</td>\n",
       "      <td>1352.380350</td>\n",
       "      <td>10.834250</td>\n",
       "      <td>1129.599200</td>\n",
       "      <td>1.418150</td>\n",
       "      <td>30.135000</td>\n",
       "      <td>297.176950</td>\n",
       "      <td>366.405044</td>\n",
       "    </tr>\n",
       "    <tr>\n",
       "      <th>std</th>\n",
       "      <td>2.126810</td>\n",
       "      <td>7.377726</td>\n",
       "      <td>646.100291</td>\n",
       "      <td>6.033166</td>\n",
       "      <td>603.330519</td>\n",
       "      <td>0.493267</td>\n",
       "      <td>21.863645</td>\n",
       "      <td>212.007298</td>\n",
       "      <td>120.485687</td>\n",
       "    </tr>\n",
       "    <tr>\n",
       "      <th>min</th>\n",
       "      <td>0.000000</td>\n",
       "      <td>-118.663400</td>\n",
       "      <td>1.000000</td>\n",
       "      <td>1.000000</td>\n",
       "      <td>101.000000</td>\n",
       "      <td>1.000000</td>\n",
       "      <td>-2.000000</td>\n",
       "      <td>101.000000</td>\n",
       "      <td>101.000000</td>\n",
       "    </tr>\n",
       "    <tr>\n",
       "      <th>25%</th>\n",
       "      <td>34.009200</td>\n",
       "      <td>-118.429700</td>\n",
       "      <td>930.000000</td>\n",
       "      <td>6.000000</td>\n",
       "      <td>632.000000</td>\n",
       "      <td>1.000000</td>\n",
       "      <td>12.000000</td>\n",
       "      <td>101.000000</td>\n",
       "      <td>312.000000</td>\n",
       "    </tr>\n",
       "    <tr>\n",
       "      <th>50%</th>\n",
       "      <td>34.058700</td>\n",
       "      <td>-118.323000</td>\n",
       "      <td>1430.000000</td>\n",
       "      <td>11.000000</td>\n",
       "      <td>1162.000000</td>\n",
       "      <td>1.000000</td>\n",
       "      <td>31.000000</td>\n",
       "      <td>203.000000</td>\n",
       "      <td>400.000000</td>\n",
       "    </tr>\n",
       "    <tr>\n",
       "      <th>75%</th>\n",
       "      <td>34.165025</td>\n",
       "      <td>-118.274400</td>\n",
       "      <td>1900.000000</td>\n",
       "      <td>16.000000</td>\n",
       "      <td>1622.000000</td>\n",
       "      <td>2.000000</td>\n",
       "      <td>46.000000</td>\n",
       "      <td>501.000000</td>\n",
       "      <td>400.000000</td>\n",
       "    </tr>\n",
       "    <tr>\n",
       "      <th>max</th>\n",
       "      <td>34.328100</td>\n",
       "      <td>0.000000</td>\n",
       "      <td>2359.000000</td>\n",
       "      <td>21.000000</td>\n",
       "      <td>2197.000000</td>\n",
       "      <td>2.000000</td>\n",
       "      <td>99.000000</td>\n",
       "      <td>969.000000</td>\n",
       "      <td>515.000000</td>\n",
       "    </tr>\n",
       "  </tbody>\n",
       "</table>\n",
       "</div>"
      ],
      "text/plain": [
       "           Latitude     Longitude  Time_Occurred       Area_ID  \\\n",
       "count  20000.000000  20000.000000   20000.000000  20000.000000   \n",
       "mean      33.940704   -117.893072    1352.380350     10.834250   \n",
       "std        2.126810      7.377726     646.100291      6.033166   \n",
       "min        0.000000   -118.663400       1.000000      1.000000   \n",
       "25%       34.009200   -118.429700     930.000000      6.000000   \n",
       "50%       34.058700   -118.323000    1430.000000     11.000000   \n",
       "75%       34.165025   -118.274400    1900.000000     16.000000   \n",
       "max       34.328100      0.000000    2359.000000     21.000000   \n",
       "\n",
       "       Reporting_District_no      Part 1-2    Victim_Age  Premise_Code  \\\n",
       "count           20000.000000  20000.000000  20000.000000  20000.000000   \n",
       "mean             1129.599200      1.418150     30.135000    297.176950   \n",
       "std               603.330519      0.493267     21.863645    212.007298   \n",
       "min               101.000000      1.000000     -2.000000    101.000000   \n",
       "25%               632.000000      1.000000     12.000000    101.000000   \n",
       "50%              1162.000000      1.000000     31.000000    203.000000   \n",
       "75%              1622.000000      2.000000     46.000000    501.000000   \n",
       "max              2197.000000      2.000000     99.000000    969.000000   \n",
       "\n",
       "       Weapon_Used_Code  \n",
       "count       7335.000000  \n",
       "mean         366.405044  \n",
       "std          120.485687  \n",
       "min          101.000000  \n",
       "25%          312.000000  \n",
       "50%          400.000000  \n",
       "75%          400.000000  \n",
       "max          515.000000  "
      ]
     },
     "execution_count": 14,
     "metadata": {},
     "output_type": "execute_result"
    }
   ],
   "source": [
    "data.describe()"
   ]
  },
  {
   "cell_type": "code",
   "execution_count": 15,
   "id": "70b37d6d",
   "metadata": {
    "execution": {
     "iopub.execute_input": "2024-08-10T17:49:24.039419Z",
     "iopub.status.busy": "2024-08-10T17:49:24.038982Z",
     "iopub.status.idle": "2024-08-10T17:49:24.151946Z",
     "shell.execute_reply": "2024-08-10T17:49:24.150612Z"
    },
    "papermill": {
     "duration": 0.175738,
     "end_time": "2024-08-10T17:49:24.154685",
     "exception": false,
     "start_time": "2024-08-10T17:49:23.978947",
     "status": "completed"
    },
    "tags": []
   },
   "outputs": [
    {
     "data": {
      "text/html": [
       "<div>\n",
       "<style scoped>\n",
       "    .dataframe tbody tr th:only-of-type {\n",
       "        vertical-align: middle;\n",
       "    }\n",
       "\n",
       "    .dataframe tbody tr th {\n",
       "        vertical-align: top;\n",
       "    }\n",
       "\n",
       "    .dataframe thead th {\n",
       "        text-align: right;\n",
       "    }\n",
       "</style>\n",
       "<table border=\"1\" class=\"dataframe\">\n",
       "  <thead>\n",
       "    <tr style=\"text-align: right;\">\n",
       "      <th></th>\n",
       "      <th>Location</th>\n",
       "      <th>Cross_Street</th>\n",
       "      <th>Date_Reported</th>\n",
       "      <th>Date_Occurred</th>\n",
       "      <th>Area_Name</th>\n",
       "      <th>Modus_Operandi</th>\n",
       "      <th>Victim_Sex</th>\n",
       "      <th>Victim_Descent</th>\n",
       "      <th>Premise_Description</th>\n",
       "      <th>Weapon_Description</th>\n",
       "      <th>Status</th>\n",
       "      <th>Status_Description</th>\n",
       "      <th>Crime_Category</th>\n",
       "    </tr>\n",
       "  </thead>\n",
       "  <tbody>\n",
       "    <tr>\n",
       "      <th>count</th>\n",
       "      <td>20000</td>\n",
       "      <td>3448</td>\n",
       "      <td>20000</td>\n",
       "      <td>20000</td>\n",
       "      <td>20000</td>\n",
       "      <td>17259</td>\n",
       "      <td>17376</td>\n",
       "      <td>17376</td>\n",
       "      <td>19995</td>\n",
       "      <td>7335</td>\n",
       "      <td>20000</td>\n",
       "      <td>20000</td>\n",
       "      <td>20000</td>\n",
       "    </tr>\n",
       "    <tr>\n",
       "      <th>unique</th>\n",
       "      <td>12399</td>\n",
       "      <td>1495</td>\n",
       "      <td>811</td>\n",
       "      <td>366</td>\n",
       "      <td>21</td>\n",
       "      <td>10489</td>\n",
       "      <td>4</td>\n",
       "      <td>17</td>\n",
       "      <td>216</td>\n",
       "      <td>57</td>\n",
       "      <td>5</td>\n",
       "      <td>5</td>\n",
       "      <td>6</td>\n",
       "    </tr>\n",
       "    <tr>\n",
       "      <th>top</th>\n",
       "      <td>6TH</td>\n",
       "      <td>BROADWAY</td>\n",
       "      <td>07/13/2020 12:00:00 AM</td>\n",
       "      <td>01/01/2020 12:00:00 AM</td>\n",
       "      <td>77th Street</td>\n",
       "      <td>0344</td>\n",
       "      <td>M</td>\n",
       "      <td>H</td>\n",
       "      <td>STREET</td>\n",
       "      <td>STRONG-ARM (HANDS, FIST, FEET OR BODILY FORCE)</td>\n",
       "      <td>IC</td>\n",
       "      <td>Invest Cont</td>\n",
       "      <td>Property Crimes</td>\n",
       "    </tr>\n",
       "    <tr>\n",
       "      <th>freq</th>\n",
       "      <td>33</td>\n",
       "      <td>56</td>\n",
       "      <td>87</td>\n",
       "      <td>137</td>\n",
       "      <td>1345</td>\n",
       "      <td>826</td>\n",
       "      <td>8538</td>\n",
       "      <td>6143</td>\n",
       "      <td>5033</td>\n",
       "      <td>3990</td>\n",
       "      <td>15236</td>\n",
       "      <td>15236</td>\n",
       "      <td>11666</td>\n",
       "    </tr>\n",
       "  </tbody>\n",
       "</table>\n",
       "</div>"
      ],
      "text/plain": [
       "       Location Cross_Street           Date_Reported           Date_Occurred  \\\n",
       "count     20000         3448                   20000                   20000   \n",
       "unique    12399         1495                     811                     366   \n",
       "top         6TH     BROADWAY  07/13/2020 12:00:00 AM  01/01/2020 12:00:00 AM   \n",
       "freq         33           56                      87                     137   \n",
       "\n",
       "          Area_Name Modus_Operandi Victim_Sex Victim_Descent  \\\n",
       "count         20000          17259      17376          17376   \n",
       "unique           21          10489          4             17   \n",
       "top     77th Street           0344          M              H   \n",
       "freq           1345            826       8538           6143   \n",
       "\n",
       "       Premise_Description                              Weapon_Description  \\\n",
       "count                19995                                            7335   \n",
       "unique                 216                                              57   \n",
       "top                 STREET  STRONG-ARM (HANDS, FIST, FEET OR BODILY FORCE)   \n",
       "freq                  5033                                            3990   \n",
       "\n",
       "       Status Status_Description   Crime_Category  \n",
       "count   20000              20000            20000  \n",
       "unique      5                  5                6  \n",
       "top        IC        Invest Cont  Property Crimes  \n",
       "freq    15236              15236            11666  "
      ]
     },
     "execution_count": 15,
     "metadata": {},
     "output_type": "execute_result"
    }
   ],
   "source": [
    "data.describe(include=object)"
   ]
  },
  {
   "cell_type": "code",
   "execution_count": 16,
   "id": "efc688c0",
   "metadata": {
    "execution": {
     "iopub.execute_input": "2024-08-10T17:49:24.278637Z",
     "iopub.status.busy": "2024-08-10T17:49:24.278176Z",
     "iopub.status.idle": "2024-08-10T17:49:24.317846Z",
     "shell.execute_reply": "2024-08-10T17:49:24.316700Z"
    },
    "papermill": {
     "duration": 0.105223,
     "end_time": "2024-08-10T17:49:24.320699",
     "exception": false,
     "start_time": "2024-08-10T17:49:24.215476",
     "status": "completed"
    },
    "tags": []
   },
   "outputs": [
    {
     "data": {
      "text/html": [
       "<div>\n",
       "<style scoped>\n",
       "    .dataframe tbody tr th:only-of-type {\n",
       "        vertical-align: middle;\n",
       "    }\n",
       "\n",
       "    .dataframe tbody tr th {\n",
       "        vertical-align: top;\n",
       "    }\n",
       "\n",
       "    .dataframe thead th {\n",
       "        text-align: right;\n",
       "    }\n",
       "</style>\n",
       "<table border=\"1\" class=\"dataframe\">\n",
       "  <thead>\n",
       "    <tr style=\"text-align: right;\">\n",
       "      <th></th>\n",
       "      <th>Latitude</th>\n",
       "      <th>Longitude</th>\n",
       "      <th>Time_Occurred</th>\n",
       "      <th>Area_ID</th>\n",
       "      <th>Reporting_District_no</th>\n",
       "      <th>Part 1-2</th>\n",
       "      <th>Victim_Age</th>\n",
       "      <th>Premise_Code</th>\n",
       "      <th>Weapon_Used_Code</th>\n",
       "    </tr>\n",
       "  </thead>\n",
       "  <tbody>\n",
       "    <tr>\n",
       "      <th>count</th>\n",
       "      <td>5000.000000</td>\n",
       "      <td>5000.000000</td>\n",
       "      <td>5000.000000</td>\n",
       "      <td>5000.000000</td>\n",
       "      <td>5000.000000</td>\n",
       "      <td>5000.000000</td>\n",
       "      <td>5000.000000</td>\n",
       "      <td>5000.000000</td>\n",
       "      <td>1847.000000</td>\n",
       "    </tr>\n",
       "    <tr>\n",
       "      <th>mean</th>\n",
       "      <td>33.957169</td>\n",
       "      <td>-117.952663</td>\n",
       "      <td>1337.737400</td>\n",
       "      <td>10.736600</td>\n",
       "      <td>1119.879800</td>\n",
       "      <td>1.414000</td>\n",
       "      <td>30.592000</td>\n",
       "      <td>300.858800</td>\n",
       "      <td>364.014077</td>\n",
       "    </tr>\n",
       "    <tr>\n",
       "      <th>std</th>\n",
       "      <td>1.986742</td>\n",
       "      <td>6.890957</td>\n",
       "      <td>663.922202</td>\n",
       "      <td>6.051524</td>\n",
       "      <td>605.143645</td>\n",
       "      <td>0.492598</td>\n",
       "      <td>21.897905</td>\n",
       "      <td>212.253742</td>\n",
       "      <td>119.489932</td>\n",
       "    </tr>\n",
       "    <tr>\n",
       "      <th>min</th>\n",
       "      <td>0.000000</td>\n",
       "      <td>-118.650300</td>\n",
       "      <td>1.000000</td>\n",
       "      <td>1.000000</td>\n",
       "      <td>101.000000</td>\n",
       "      <td>1.000000</td>\n",
       "      <td>-2.000000</td>\n",
       "      <td>101.000000</td>\n",
       "      <td>101.000000</td>\n",
       "    </tr>\n",
       "    <tr>\n",
       "      <th>25%</th>\n",
       "      <td>34.010800</td>\n",
       "      <td>-118.431200</td>\n",
       "      <td>900.000000</td>\n",
       "      <td>6.000000</td>\n",
       "      <td>628.000000</td>\n",
       "      <td>1.000000</td>\n",
       "      <td>14.000000</td>\n",
       "      <td>101.000000</td>\n",
       "      <td>309.000000</td>\n",
       "    </tr>\n",
       "    <tr>\n",
       "      <th>50%</th>\n",
       "      <td>34.058000</td>\n",
       "      <td>-118.323200</td>\n",
       "      <td>1430.000000</td>\n",
       "      <td>11.000000</td>\n",
       "      <td>1138.000000</td>\n",
       "      <td>1.000000</td>\n",
       "      <td>31.000000</td>\n",
       "      <td>203.000000</td>\n",
       "      <td>400.000000</td>\n",
       "    </tr>\n",
       "    <tr>\n",
       "      <th>75%</th>\n",
       "      <td>34.162250</td>\n",
       "      <td>-118.274600</td>\n",
       "      <td>1900.000000</td>\n",
       "      <td>16.000000</td>\n",
       "      <td>1622.250000</td>\n",
       "      <td>2.000000</td>\n",
       "      <td>46.000000</td>\n",
       "      <td>501.000000</td>\n",
       "      <td>400.000000</td>\n",
       "    </tr>\n",
       "    <tr>\n",
       "      <th>max</th>\n",
       "      <td>34.327500</td>\n",
       "      <td>0.000000</td>\n",
       "      <td>2359.000000</td>\n",
       "      <td>21.000000</td>\n",
       "      <td>2197.000000</td>\n",
       "      <td>2.000000</td>\n",
       "      <td>99.000000</td>\n",
       "      <td>957.000000</td>\n",
       "      <td>516.000000</td>\n",
       "    </tr>\n",
       "  </tbody>\n",
       "</table>\n",
       "</div>"
      ],
      "text/plain": [
       "          Latitude    Longitude  Time_Occurred      Area_ID  \\\n",
       "count  5000.000000  5000.000000    5000.000000  5000.000000   \n",
       "mean     33.957169  -117.952663    1337.737400    10.736600   \n",
       "std       1.986742     6.890957     663.922202     6.051524   \n",
       "min       0.000000  -118.650300       1.000000     1.000000   \n",
       "25%      34.010800  -118.431200     900.000000     6.000000   \n",
       "50%      34.058000  -118.323200    1430.000000    11.000000   \n",
       "75%      34.162250  -118.274600    1900.000000    16.000000   \n",
       "max      34.327500     0.000000    2359.000000    21.000000   \n",
       "\n",
       "       Reporting_District_no     Part 1-2   Victim_Age  Premise_Code  \\\n",
       "count            5000.000000  5000.000000  5000.000000   5000.000000   \n",
       "mean             1119.879800     1.414000    30.592000    300.858800   \n",
       "std               605.143645     0.492598    21.897905    212.253742   \n",
       "min               101.000000     1.000000    -2.000000    101.000000   \n",
       "25%               628.000000     1.000000    14.000000    101.000000   \n",
       "50%              1138.000000     1.000000    31.000000    203.000000   \n",
       "75%              1622.250000     2.000000    46.000000    501.000000   \n",
       "max              2197.000000     2.000000    99.000000    957.000000   \n",
       "\n",
       "       Weapon_Used_Code  \n",
       "count       1847.000000  \n",
       "mean         364.014077  \n",
       "std          119.489932  \n",
       "min          101.000000  \n",
       "25%          309.000000  \n",
       "50%          400.000000  \n",
       "75%          400.000000  \n",
       "max          516.000000  "
      ]
     },
     "execution_count": 16,
     "metadata": {},
     "output_type": "execute_result"
    }
   ],
   "source": [
    "test_data.describe()"
   ]
  },
  {
   "cell_type": "code",
   "execution_count": 17,
   "id": "daff696e",
   "metadata": {
    "execution": {
     "iopub.execute_input": "2024-08-10T17:49:24.442471Z",
     "iopub.status.busy": "2024-08-10T17:49:24.442004Z",
     "iopub.status.idle": "2024-08-10T17:49:24.496803Z",
     "shell.execute_reply": "2024-08-10T17:49:24.495508Z"
    },
    "papermill": {
     "duration": 0.118804,
     "end_time": "2024-08-10T17:49:24.499371",
     "exception": false,
     "start_time": "2024-08-10T17:49:24.380567",
     "status": "completed"
    },
    "tags": []
   },
   "outputs": [
    {
     "data": {
      "text/html": [
       "<div>\n",
       "<style scoped>\n",
       "    .dataframe tbody tr th:only-of-type {\n",
       "        vertical-align: middle;\n",
       "    }\n",
       "\n",
       "    .dataframe tbody tr th {\n",
       "        vertical-align: top;\n",
       "    }\n",
       "\n",
       "    .dataframe thead th {\n",
       "        text-align: right;\n",
       "    }\n",
       "</style>\n",
       "<table border=\"1\" class=\"dataframe\">\n",
       "  <thead>\n",
       "    <tr style=\"text-align: right;\">\n",
       "      <th></th>\n",
       "      <th>Location</th>\n",
       "      <th>Cross_Street</th>\n",
       "      <th>Date_Reported</th>\n",
       "      <th>Date_Occurred</th>\n",
       "      <th>Area_Name</th>\n",
       "      <th>Modus_Operandi</th>\n",
       "      <th>Victim_Sex</th>\n",
       "      <th>Victim_Descent</th>\n",
       "      <th>Premise_Description</th>\n",
       "      <th>Weapon_Description</th>\n",
       "      <th>Status</th>\n",
       "      <th>Status_Description</th>\n",
       "    </tr>\n",
       "  </thead>\n",
       "  <tbody>\n",
       "    <tr>\n",
       "      <th>count</th>\n",
       "      <td>5000</td>\n",
       "      <td>810</td>\n",
       "      <td>5000</td>\n",
       "      <td>5000</td>\n",
       "      <td>5000</td>\n",
       "      <td>4316</td>\n",
       "      <td>4357</td>\n",
       "      <td>4357</td>\n",
       "      <td>4999</td>\n",
       "      <td>1847</td>\n",
       "      <td>5000</td>\n",
       "      <td>5000</td>\n",
       "    </tr>\n",
       "    <tr>\n",
       "      <th>unique</th>\n",
       "      <td>4165</td>\n",
       "      <td>547</td>\n",
       "      <td>514</td>\n",
       "      <td>366</td>\n",
       "      <td>21</td>\n",
       "      <td>2961</td>\n",
       "      <td>4</td>\n",
       "      <td>16</td>\n",
       "      <td>145</td>\n",
       "      <td>53</td>\n",
       "      <td>5</td>\n",
       "      <td>5</td>\n",
       "    </tr>\n",
       "    <tr>\n",
       "      <th>top</th>\n",
       "      <td>7TH                          ST</td>\n",
       "      <td>FIGUEROA                     ST</td>\n",
       "      <td>06/19/2020 12:00:00 AM</td>\n",
       "      <td>01/01/2020 12:00:00 AM</td>\n",
       "      <td>77th Street</td>\n",
       "      <td>0344</td>\n",
       "      <td>M</td>\n",
       "      <td>H</td>\n",
       "      <td>STREET</td>\n",
       "      <td>STRONG-ARM (HANDS, FIST, FEET OR BODILY FORCE)</td>\n",
       "      <td>IC</td>\n",
       "      <td>Invest Cont</td>\n",
       "    </tr>\n",
       "    <tr>\n",
       "      <th>freq</th>\n",
       "      <td>10</td>\n",
       "      <td>12</td>\n",
       "      <td>31</td>\n",
       "      <td>27</td>\n",
       "      <td>301</td>\n",
       "      <td>199</td>\n",
       "      <td>2121</td>\n",
       "      <td>1536</td>\n",
       "      <td>1257</td>\n",
       "      <td>1003</td>\n",
       "      <td>3830</td>\n",
       "      <td>3830</td>\n",
       "    </tr>\n",
       "  </tbody>\n",
       "</table>\n",
       "</div>"
      ],
      "text/plain": [
       "                               Location                     Cross_Street  \\\n",
       "count                              5000                              810   \n",
       "unique                             4165                              547   \n",
       "top     7TH                          ST  FIGUEROA                     ST   \n",
       "freq                                 10                               12   \n",
       "\n",
       "                 Date_Reported           Date_Occurred    Area_Name  \\\n",
       "count                     5000                    5000         5000   \n",
       "unique                     514                     366           21   \n",
       "top     06/19/2020 12:00:00 AM  01/01/2020 12:00:00 AM  77th Street   \n",
       "freq                        31                      27          301   \n",
       "\n",
       "       Modus_Operandi Victim_Sex Victim_Descent Premise_Description  \\\n",
       "count            4316       4357           4357                4999   \n",
       "unique           2961          4             16                 145   \n",
       "top              0344          M              H              STREET   \n",
       "freq              199       2121           1536                1257   \n",
       "\n",
       "                                    Weapon_Description Status  \\\n",
       "count                                             1847   5000   \n",
       "unique                                              53      5   \n",
       "top     STRONG-ARM (HANDS, FIST, FEET OR BODILY FORCE)     IC   \n",
       "freq                                              1003   3830   \n",
       "\n",
       "       Status_Description  \n",
       "count                5000  \n",
       "unique                  5  \n",
       "top           Invest Cont  \n",
       "freq                 3830  "
      ]
     },
     "execution_count": 17,
     "metadata": {},
     "output_type": "execute_result"
    }
   ],
   "source": [
    "test_data.describe(include='object')"
   ]
  },
  {
   "cell_type": "markdown",
   "id": "3be7b72e",
   "metadata": {
    "papermill": {
     "duration": 0.05942,
     "end_time": "2024-08-10T17:49:24.619025",
     "exception": false,
     "start_time": "2024-08-10T17:49:24.559605",
     "status": "completed"
    },
    "tags": []
   },
   "source": [
    "## *Insights*\n",
    "## *It helped in identifying high values (outliers) or missing data patterns.*\n",
    "## *Numerical features have varying scales, so it need to be scaled.*"
   ]
  },
  {
   "cell_type": "markdown",
   "id": "2b3363ba",
   "metadata": {
    "papermill": {
     "duration": 0.060395,
     "end_time": "2024-08-10T17:49:24.739444",
     "exception": false,
     "start_time": "2024-08-10T17:49:24.679049",
     "status": "completed"
    },
    "tags": []
   },
   "source": [
    "## c) Identify Missing Values"
   ]
  },
  {
   "cell_type": "code",
   "execution_count": 18,
   "id": "30476ead",
   "metadata": {
    "execution": {
     "iopub.execute_input": "2024-08-10T17:49:24.863768Z",
     "iopub.status.busy": "2024-08-10T17:49:24.863335Z",
     "iopub.status.idle": "2024-08-10T17:49:24.899257Z",
     "shell.execute_reply": "2024-08-10T17:49:24.898184Z"
    },
    "papermill": {
     "duration": 0.102248,
     "end_time": "2024-08-10T17:49:24.902004",
     "exception": false,
     "start_time": "2024-08-10T17:49:24.799756",
     "status": "completed"
    },
    "tags": []
   },
   "outputs": [
    {
     "data": {
      "text/plain": [
       "Location                     0\n",
       "Cross_Street             16552\n",
       "Latitude                     0\n",
       "Longitude                    0\n",
       "Date_Reported                0\n",
       "Date_Occurred                0\n",
       "Time_Occurred                0\n",
       "Area_ID                      0\n",
       "Area_Name                    0\n",
       "Reporting_District_no        0\n",
       "Part 1-2                     0\n",
       "Modus_Operandi            2741\n",
       "Victim_Age                   0\n",
       "Victim_Sex                2624\n",
       "Victim_Descent            2624\n",
       "Premise_Code                 0\n",
       "Premise_Description          5\n",
       "Weapon_Used_Code         12665\n",
       "Weapon_Description       12665\n",
       "Status                       0\n",
       "Status_Description           0\n",
       "Crime_Category               0\n",
       "dtype: int64"
      ]
     },
     "execution_count": 18,
     "metadata": {},
     "output_type": "execute_result"
    }
   ],
   "source": [
    "data.isnull().sum()"
   ]
  },
  {
   "cell_type": "code",
   "execution_count": 19,
   "id": "6d7521bc",
   "metadata": {
    "execution": {
     "iopub.execute_input": "2024-08-10T17:49:25.024699Z",
     "iopub.status.busy": "2024-08-10T17:49:25.024299Z",
     "iopub.status.idle": "2024-08-10T17:49:25.040242Z",
     "shell.execute_reply": "2024-08-10T17:49:25.039145Z"
    },
    "papermill": {
     "duration": 0.079927,
     "end_time": "2024-08-10T17:49:25.042922",
     "exception": false,
     "start_time": "2024-08-10T17:49:24.962995",
     "status": "completed"
    },
    "tags": []
   },
   "outputs": [
    {
     "data": {
      "text/plain": [
       "Location                    0\n",
       "Cross_Street             4190\n",
       "Latitude                    0\n",
       "Longitude                   0\n",
       "Date_Reported               0\n",
       "Date_Occurred               0\n",
       "Time_Occurred               0\n",
       "Area_ID                     0\n",
       "Area_Name                   0\n",
       "Reporting_District_no       0\n",
       "Part 1-2                    0\n",
       "Modus_Operandi            684\n",
       "Victim_Age                  0\n",
       "Victim_Sex                643\n",
       "Victim_Descent            643\n",
       "Premise_Code                0\n",
       "Premise_Description         1\n",
       "Weapon_Used_Code         3153\n",
       "Weapon_Description       3153\n",
       "Status                      0\n",
       "Status_Description          0\n",
       "dtype: int64"
      ]
     },
     "execution_count": 19,
     "metadata": {},
     "output_type": "execute_result"
    }
   ],
   "source": [
    "test_data.isnull().sum()"
   ]
  },
  {
   "cell_type": "markdown",
   "id": "3b5b24ae",
   "metadata": {
    "papermill": {
     "duration": 0.060002,
     "end_time": "2024-08-10T17:49:25.163876",
     "exception": false,
     "start_time": "2024-08-10T17:49:25.103874",
     "status": "completed"
    },
    "tags": []
   },
   "source": [
    "## *Insights*\n",
    "## *Here some columns have missing values, which need to be addressed before modeling.*"
   ]
  },
  {
   "cell_type": "markdown",
   "id": "fc64eafc",
   "metadata": {
    "papermill": {
     "duration": 0.0645,
     "end_time": "2024-08-10T17:49:25.291928",
     "exception": false,
     "start_time": "2024-08-10T17:49:25.227428",
     "status": "completed"
    },
    "tags": []
   },
   "source": [
    "## d) Visualize Data Distributions"
   ]
  },
  {
   "cell_type": "markdown",
   "id": "723e68cf",
   "metadata": {
    "papermill": {
     "duration": 0.060621,
     "end_time": "2024-08-10T17:49:25.414505",
     "exception": false,
     "start_time": "2024-08-10T17:49:25.353884",
     "status": "completed"
    },
    "tags": []
   },
   "source": [
    "## Name of the Numerical Features"
   ]
  },
  {
   "cell_type": "code",
   "execution_count": 20,
   "id": "44b09066",
   "metadata": {
    "execution": {
     "iopub.execute_input": "2024-08-10T17:49:25.537364Z",
     "iopub.status.busy": "2024-08-10T17:49:25.536942Z",
     "iopub.status.idle": "2024-08-10T17:49:25.544718Z",
     "shell.execute_reply": "2024-08-10T17:49:25.543323Z"
    },
    "papermill": {
     "duration": 0.071904,
     "end_time": "2024-08-10T17:49:25.547151",
     "exception": false,
     "start_time": "2024-08-10T17:49:25.475247",
     "status": "completed"
    },
    "tags": []
   },
   "outputs": [
    {
     "name": "stdout",
     "output_type": "stream",
     "text": [
      "Index(['Latitude', 'Longitude', 'Time_Occurred', 'Area_ID',\n",
      "       'Reporting_District_no', 'Part 1-2', 'Victim_Age', 'Premise_Code',\n",
      "       'Weapon_Used_Code'],\n",
      "      dtype='object')\n"
     ]
    }
   ],
   "source": [
    "num_features=data.select_dtypes(include=['float64', 'int64']).columns\n",
    "print(num_features)"
   ]
  },
  {
   "cell_type": "markdown",
   "id": "a8a019da",
   "metadata": {
    "papermill": {
     "duration": 0.060441,
     "end_time": "2024-08-10T17:49:25.668032",
     "exception": false,
     "start_time": "2024-08-10T17:49:25.607591",
     "status": "completed"
    },
    "tags": []
   },
   "source": [
    "## Plotted histograms for numerical features"
   ]
  },
  {
   "cell_type": "code",
   "execution_count": 21,
   "id": "0281565a",
   "metadata": {
    "execution": {
     "iopub.execute_input": "2024-08-10T17:49:25.792718Z",
     "iopub.status.busy": "2024-08-10T17:49:25.792241Z",
     "iopub.status.idle": "2024-08-10T17:49:25.840004Z",
     "shell.execute_reply": "2024-08-10T17:49:25.838801Z"
    },
    "papermill": {
     "duration": 0.112346,
     "end_time": "2024-08-10T17:49:25.842680",
     "exception": false,
     "start_time": "2024-08-10T17:49:25.730334",
     "status": "completed"
    },
    "tags": []
   },
   "outputs": [
    {
     "data": {
      "text/html": [
       "<div>\n",
       "<style scoped>\n",
       "    .dataframe tbody tr th:only-of-type {\n",
       "        vertical-align: middle;\n",
       "    }\n",
       "\n",
       "    .dataframe tbody tr th {\n",
       "        vertical-align: top;\n",
       "    }\n",
       "\n",
       "    .dataframe thead th {\n",
       "        text-align: right;\n",
       "    }\n",
       "</style>\n",
       "<table border=\"1\" class=\"dataframe\">\n",
       "  <thead>\n",
       "    <tr style=\"text-align: right;\">\n",
       "      <th></th>\n",
       "      <th>Latitude</th>\n",
       "      <th>Longitude</th>\n",
       "      <th>Time_Occurred</th>\n",
       "      <th>Area_ID</th>\n",
       "      <th>Reporting_District_no</th>\n",
       "      <th>Part 1-2</th>\n",
       "      <th>Victim_Age</th>\n",
       "      <th>Premise_Code</th>\n",
       "      <th>Weapon_Used_Code</th>\n",
       "    </tr>\n",
       "  </thead>\n",
       "  <tbody>\n",
       "    <tr>\n",
       "      <th>count</th>\n",
       "      <td>20000.000000</td>\n",
       "      <td>20000.000000</td>\n",
       "      <td>20000.000000</td>\n",
       "      <td>20000.000000</td>\n",
       "      <td>20000.000000</td>\n",
       "      <td>20000.000000</td>\n",
       "      <td>20000.000000</td>\n",
       "      <td>20000.000000</td>\n",
       "      <td>7335.000000</td>\n",
       "    </tr>\n",
       "    <tr>\n",
       "      <th>mean</th>\n",
       "      <td>33.940704</td>\n",
       "      <td>-117.893072</td>\n",
       "      <td>1352.380350</td>\n",
       "      <td>10.834250</td>\n",
       "      <td>1129.599200</td>\n",
       "      <td>1.418150</td>\n",
       "      <td>30.135000</td>\n",
       "      <td>297.176950</td>\n",
       "      <td>366.405044</td>\n",
       "    </tr>\n",
       "    <tr>\n",
       "      <th>std</th>\n",
       "      <td>2.126810</td>\n",
       "      <td>7.377726</td>\n",
       "      <td>646.100291</td>\n",
       "      <td>6.033166</td>\n",
       "      <td>603.330519</td>\n",
       "      <td>0.493267</td>\n",
       "      <td>21.863645</td>\n",
       "      <td>212.007298</td>\n",
       "      <td>120.485687</td>\n",
       "    </tr>\n",
       "    <tr>\n",
       "      <th>min</th>\n",
       "      <td>0.000000</td>\n",
       "      <td>-118.663400</td>\n",
       "      <td>1.000000</td>\n",
       "      <td>1.000000</td>\n",
       "      <td>101.000000</td>\n",
       "      <td>1.000000</td>\n",
       "      <td>-2.000000</td>\n",
       "      <td>101.000000</td>\n",
       "      <td>101.000000</td>\n",
       "    </tr>\n",
       "    <tr>\n",
       "      <th>25%</th>\n",
       "      <td>34.009200</td>\n",
       "      <td>-118.429700</td>\n",
       "      <td>930.000000</td>\n",
       "      <td>6.000000</td>\n",
       "      <td>632.000000</td>\n",
       "      <td>1.000000</td>\n",
       "      <td>12.000000</td>\n",
       "      <td>101.000000</td>\n",
       "      <td>312.000000</td>\n",
       "    </tr>\n",
       "    <tr>\n",
       "      <th>50%</th>\n",
       "      <td>34.058700</td>\n",
       "      <td>-118.323000</td>\n",
       "      <td>1430.000000</td>\n",
       "      <td>11.000000</td>\n",
       "      <td>1162.000000</td>\n",
       "      <td>1.000000</td>\n",
       "      <td>31.000000</td>\n",
       "      <td>203.000000</td>\n",
       "      <td>400.000000</td>\n",
       "    </tr>\n",
       "    <tr>\n",
       "      <th>75%</th>\n",
       "      <td>34.165025</td>\n",
       "      <td>-118.274400</td>\n",
       "      <td>1900.000000</td>\n",
       "      <td>16.000000</td>\n",
       "      <td>1622.000000</td>\n",
       "      <td>2.000000</td>\n",
       "      <td>46.000000</td>\n",
       "      <td>501.000000</td>\n",
       "      <td>400.000000</td>\n",
       "    </tr>\n",
       "    <tr>\n",
       "      <th>max</th>\n",
       "      <td>34.328100</td>\n",
       "      <td>0.000000</td>\n",
       "      <td>2359.000000</td>\n",
       "      <td>21.000000</td>\n",
       "      <td>2197.000000</td>\n",
       "      <td>2.000000</td>\n",
       "      <td>99.000000</td>\n",
       "      <td>969.000000</td>\n",
       "      <td>515.000000</td>\n",
       "    </tr>\n",
       "  </tbody>\n",
       "</table>\n",
       "</div>"
      ],
      "text/plain": [
       "           Latitude     Longitude  Time_Occurred       Area_ID  \\\n",
       "count  20000.000000  20000.000000   20000.000000  20000.000000   \n",
       "mean      33.940704   -117.893072    1352.380350     10.834250   \n",
       "std        2.126810      7.377726     646.100291      6.033166   \n",
       "min        0.000000   -118.663400       1.000000      1.000000   \n",
       "25%       34.009200   -118.429700     930.000000      6.000000   \n",
       "50%       34.058700   -118.323000    1430.000000     11.000000   \n",
       "75%       34.165025   -118.274400    1900.000000     16.000000   \n",
       "max       34.328100      0.000000    2359.000000     21.000000   \n",
       "\n",
       "       Reporting_District_no      Part 1-2    Victim_Age  Premise_Code  \\\n",
       "count           20000.000000  20000.000000  20000.000000  20000.000000   \n",
       "mean             1129.599200      1.418150     30.135000    297.176950   \n",
       "std               603.330519      0.493267     21.863645    212.007298   \n",
       "min               101.000000      1.000000     -2.000000    101.000000   \n",
       "25%               632.000000      1.000000     12.000000    101.000000   \n",
       "50%              1162.000000      1.000000     31.000000    203.000000   \n",
       "75%              1622.000000      2.000000     46.000000    501.000000   \n",
       "max              2197.000000      2.000000     99.000000    969.000000   \n",
       "\n",
       "       Weapon_Used_Code  \n",
       "count       7335.000000  \n",
       "mean         366.405044  \n",
       "std          120.485687  \n",
       "min          101.000000  \n",
       "25%          312.000000  \n",
       "50%          400.000000  \n",
       "75%          400.000000  \n",
       "max          515.000000  "
      ]
     },
     "execution_count": 21,
     "metadata": {},
     "output_type": "execute_result"
    }
   ],
   "source": [
    "data.describe()"
   ]
  },
  {
   "cell_type": "code",
   "execution_count": 22,
   "id": "ed888e5d",
   "metadata": {
    "execution": {
     "iopub.execute_input": "2024-08-10T17:49:25.967604Z",
     "iopub.status.busy": "2024-08-10T17:49:25.967122Z",
     "iopub.status.idle": "2024-08-10T17:49:25.979155Z",
     "shell.execute_reply": "2024-08-10T17:49:25.977755Z"
    },
    "papermill": {
     "duration": 0.077514,
     "end_time": "2024-08-10T17:49:25.982079",
     "exception": false,
     "start_time": "2024-08-10T17:49:25.904565",
     "status": "completed"
    },
    "tags": []
   },
   "outputs": [
    {
     "data": {
      "text/plain": [
       "78"
      ]
     },
     "execution_count": 22,
     "metadata": {},
     "output_type": "execute_result"
    }
   ],
   "source": [
    "data[data['Latitude']==0].shape[0]"
   ]
  },
  {
   "cell_type": "code",
   "execution_count": 23,
   "id": "7859de92",
   "metadata": {
    "execution": {
     "iopub.execute_input": "2024-08-10T17:49:26.105920Z",
     "iopub.status.busy": "2024-08-10T17:49:26.105115Z",
     "iopub.status.idle": "2024-08-10T17:49:26.507431Z",
     "shell.execute_reply": "2024-08-10T17:49:26.505985Z"
    },
    "papermill": {
     "duration": 0.467374,
     "end_time": "2024-08-10T17:49:26.510423",
     "exception": false,
     "start_time": "2024-08-10T17:49:26.043049",
     "status": "completed"
    },
    "tags": []
   },
   "outputs": [
    {
     "data": {
      "text/plain": [
       "Text(0.5, 1.0, 'Distribution of Latitude Values')"
      ]
     },
     "execution_count": 23,
     "metadata": {},
     "output_type": "execute_result"
    },
    {
     "data": {
      "image/png": "[encoded data removed]",
      "text/plain": [
       "<Figure size 640x480 with 1 Axes>"
      ]
     },
     "metadata": {},
     "output_type": "display_data"
    }
   ],
   "source": [
    "data['Latitude'].plot(kind='hist', bins=10, edgecolor='black')\n",
    "plt.xlabel('Latitude')\n",
    "plt.ylabel('Frequency')\n",
    "plt.title('Distribution of Latitude Values')"
   ]
  },
  {
   "cell_type": "markdown",
   "id": "9a39eb1b",
   "metadata": {
    "papermill": {
     "duration": 0.061008,
     "end_time": "2024-08-10T17:49:26.632971",
     "exception": false,
     "start_time": "2024-08-10T17:49:26.571963",
     "status": "completed"
    },
    "tags": []
   },
   "source": [
    "## *Insights*\n",
    "## *The Latitude has a minimum value of 0.000000 and a maximum value of 34.328100 which means there is a potential outliers at the lower end.*"
   ]
  },
  {
   "cell_type": "code",
   "execution_count": 24,
   "id": "36a5348d",
   "metadata": {
    "execution": {
     "iopub.execute_input": "2024-08-10T17:49:26.759091Z",
     "iopub.status.busy": "2024-08-10T17:49:26.758669Z",
     "iopub.status.idle": "2024-08-10T17:49:26.767772Z",
     "shell.execute_reply": "2024-08-10T17:49:26.766412Z"
    },
    "papermill": {
     "duration": 0.07476,
     "end_time": "2024-08-10T17:49:26.770450",
     "exception": false,
     "start_time": "2024-08-10T17:49:26.695690",
     "status": "completed"
    },
    "tags": []
   },
   "outputs": [
    {
     "data": {
      "text/plain": [
       "78"
      ]
     },
     "execution_count": 24,
     "metadata": {},
     "output_type": "execute_result"
    }
   ],
   "source": [
    "data[data['Longitude']==0].shape[0]"
   ]
  },
  {
   "cell_type": "code",
   "execution_count": 25,
   "id": "8cd3338b",
   "metadata": {
    "execution": {
     "iopub.execute_input": "2024-08-10T17:49:26.900859Z",
     "iopub.status.busy": "2024-08-10T17:49:26.900447Z",
     "iopub.status.idle": "2024-08-10T17:49:27.276472Z",
     "shell.execute_reply": "2024-08-10T17:49:27.275225Z"
    },
    "papermill": {
     "duration": 0.445232,
     "end_time": "2024-08-10T17:49:27.279351",
     "exception": false,
     "start_time": "2024-08-10T17:49:26.834119",
     "status": "completed"
    },
    "tags": []
   },
   "outputs": [
    {
     "data": {
      "text/plain": [
       "Text(0.5, 1.0, 'Distribution of Longitude Values')"
      ]
     },
     "execution_count": 25,
     "metadata": {},
     "output_type": "execute_result"
    },
    {
     "data": {
      "image/png": "[encoded data removed]",
      "text/plain": [
       "<Figure size 640x480 with 1 Axes>"
      ]
     },
     "metadata": {},
     "output_type": "display_data"
    }
   ],
   "source": [
    "data['Longitude'].plot(kind='hist', bins=10, edgecolor='black')\n",
    "plt.xlabel('Longitude')\n",
    "plt.ylabel('Frequency')\n",
    "plt.title('Distribution of Longitude Values')"
   ]
  },
  {
   "cell_type": "markdown",
   "id": "956c0d8b",
   "metadata": {
    "papermill": {
     "duration": 0.062517,
     "end_time": "2024-08-10T17:49:27.404149",
     "exception": false,
     "start_time": "2024-08-10T17:49:27.341632",
     "status": "completed"
    },
    "tags": []
   },
   "source": [
    "## *Insights*\n",
    "## *The Longitude also has a minimum value of -118.663400 and a maximum value of 0.000000, which is unusual for longitude values which indicates that outliers are present.*"
   ]
  },
  {
   "cell_type": "code",
   "execution_count": 26,
   "id": "5b639d89",
   "metadata": {
    "execution": {
     "iopub.execute_input": "2024-08-10T17:49:27.531047Z",
     "iopub.status.busy": "2024-08-10T17:49:27.530660Z",
     "iopub.status.idle": "2024-08-10T17:49:27.864753Z",
     "shell.execute_reply": "2024-08-10T17:49:27.863357Z"
    },
    "papermill": {
     "duration": 0.400569,
     "end_time": "2024-08-10T17:49:27.867551",
     "exception": false,
     "start_time": "2024-08-10T17:49:27.466982",
     "status": "completed"
    },
    "tags": []
   },
   "outputs": [
    {
     "data": {
      "text/plain": [
       "Text(0.5, 1.0, 'Distribution of Time_Occurred Values')"
      ]
     },
     "execution_count": 26,
     "metadata": {},
     "output_type": "execute_result"
    },
    {
     "data": {
      "image/png": "[encoded data removed]",
      "text/plain": [
       "<Figure size 640x480 with 1 Axes>"
      ]
     },
     "metadata": {},
     "output_type": "display_data"
    }
   ],
   "source": [
    "data['Time_Occurred'].plot(kind='hist', bins=10, edgecolor='black')\n",
    "plt.xlabel('Time_Occurred')\n",
    "plt.ylabel('Frequency')\n",
    "plt.title('Distribution of Time_Occurred Values')"
   ]
  },
  {
   "cell_type": "code",
   "execution_count": 27,
   "id": "108b8e1c",
   "metadata": {
    "execution": {
     "iopub.execute_input": "2024-08-10T17:49:27.998447Z",
     "iopub.status.busy": "2024-08-10T17:49:27.997993Z",
     "iopub.status.idle": "2024-08-10T17:49:28.321964Z",
     "shell.execute_reply": "2024-08-10T17:49:28.320416Z"
    },
    "papermill": {
     "duration": 0.392995,
     "end_time": "2024-08-10T17:49:28.324833",
     "exception": false,
     "start_time": "2024-08-10T17:49:27.931838",
     "status": "completed"
    },
    "tags": []
   },
   "outputs": [
    {
     "data": {
      "text/plain": [
       "Text(0.5, 1.0, 'Distribution of Area_ID Values')"
      ]
     },
     "execution_count": 27,
     "metadata": {},
     "output_type": "execute_result"
    },
    {
     "data": {
      "image/png": "[encoded data removed]",
      "text/plain": [
       "<Figure size 640x480 with 1 Axes>"
      ]
     },
     "metadata": {},
     "output_type": "display_data"
    }
   ],
   "source": [
    "data['Area_ID'].plot(kind='hist', bins=10, edgecolor='black')\n",
    "plt.xlabel('Area_ID')\n",
    "plt.ylabel('Frequency')\n",
    "plt.title('Distribution of Area_ID Values')"
   ]
  },
  {
   "cell_type": "code",
   "execution_count": 28,
   "id": "c0f5e7b6",
   "metadata": {
    "execution": {
     "iopub.execute_input": "2024-08-10T17:49:28.455733Z",
     "iopub.status.busy": "2024-08-10T17:49:28.455283Z",
     "iopub.status.idle": "2024-08-10T17:49:28.784348Z",
     "shell.execute_reply": "2024-08-10T17:49:28.782790Z"
    },
    "papermill": {
     "duration": 0.398514,
     "end_time": "2024-08-10T17:49:28.787317",
     "exception": false,
     "start_time": "2024-08-10T17:49:28.388803",
     "status": "completed"
    },
    "tags": []
   },
   "outputs": [
    {
     "data": {
      "text/plain": [
       "Text(0.5, 1.0, 'Distribution of Reporting_District_no Values')"
      ]
     },
     "execution_count": 28,
     "metadata": {},
     "output_type": "execute_result"
    },
    {
     "data": {
      "image/png": "[encoded data removed]",
      "text/plain": [
       "<Figure size 640x480 with 1 Axes>"
      ]
     },
     "metadata": {},
     "output_type": "display_data"
    }
   ],
   "source": [
    "data['Reporting_District_no'].plot(kind='hist', bins=10, edgecolor='black')\n",
    "plt.xlabel('Reporting_District_no')\n",
    "plt.ylabel('Frequency')\n",
    "plt.title('Distribution of Reporting_District_no Values')"
   ]
  },
  {
   "cell_type": "code",
   "execution_count": 29,
   "id": "773adec8",
   "metadata": {
    "execution": {
     "iopub.execute_input": "2024-08-10T17:49:28.921259Z",
     "iopub.status.busy": "2024-08-10T17:49:28.920824Z",
     "iopub.status.idle": "2024-08-10T17:49:29.276214Z",
     "shell.execute_reply": "2024-08-10T17:49:29.274973Z"
    },
    "papermill": {
     "duration": 0.425257,
     "end_time": "2024-08-10T17:49:29.279209",
     "exception": false,
     "start_time": "2024-08-10T17:49:28.853952",
     "status": "completed"
    },
    "tags": []
   },
   "outputs": [
    {
     "data": {
      "text/plain": [
       "Text(0.5, 1.0, 'Distribution of Part 1-2 Values')"
      ]
     },
     "execution_count": 29,
     "metadata": {},
     "output_type": "execute_result"
    },
    {
     "data": {
      "image/png": "[encoded data removed]",
      "text/plain": [
       "<Figure size 640x480 with 1 Axes>"
      ]
     },
     "metadata": {},
     "output_type": "display_data"
    }
   ],
   "source": [
    "data['Part 1-2'].plot(kind='hist', bins=10, edgecolor='black')\n",
    "plt.xlabel('Part 1-2')\n",
    "plt.ylabel('Frequency')\n",
    "plt.title('Distribution of Part 1-2 Values')"
   ]
  },
  {
   "cell_type": "code",
   "execution_count": 30,
   "id": "7b1f52fe",
   "metadata": {
    "execution": {
     "iopub.execute_input": "2024-08-10T17:49:29.412347Z",
     "iopub.status.busy": "2024-08-10T17:49:29.411918Z",
     "iopub.status.idle": "2024-08-10T17:49:29.751777Z",
     "shell.execute_reply": "2024-08-10T17:49:29.750590Z"
    },
    "papermill": {
     "duration": 0.40963,
     "end_time": "2024-08-10T17:49:29.754639",
     "exception": false,
     "start_time": "2024-08-10T17:49:29.345009",
     "status": "completed"
    },
    "tags": []
   },
   "outputs": [
    {
     "data": {
      "text/plain": [
       "Text(0.5, 1.0, 'Distribution of Victim_Age Values')"
      ]
     },
     "execution_count": 30,
     "metadata": {},
     "output_type": "execute_result"
    },
    {
     "data": {
      "image/png": "[encoded data removed]",
      "text/plain": [
       "<Figure size 640x480 with 1 Axes>"
      ]
     },
     "metadata": {},
     "output_type": "display_data"
    }
   ],
   "source": [
    "data['Victim_Age'].plot(kind='hist', bins=10, edgecolor='black')\n",
    "plt.xlabel('Victim_Age')\n",
    "plt.ylabel('Frequency')\n",
    "plt.title('Distribution of Victim_Age Values')"
   ]
  },
  {
   "cell_type": "markdown",
   "id": "1a12236d",
   "metadata": {
    "papermill": {
     "duration": 0.068235,
     "end_time": "2024-08-10T17:49:29.889442",
     "exception": false,
     "start_time": "2024-08-10T17:49:29.821207",
     "status": "completed"
    },
    "tags": []
   },
   "source": [
    "## *Insights*\n",
    "## *Victim_Age has values ranging from -2.0 to 99.0, which seems unrealistic because of the negative age.*"
   ]
  },
  {
   "cell_type": "code",
   "execution_count": 31,
   "id": "27a98209",
   "metadata": {
    "execution": {
     "iopub.execute_input": "2024-08-10T17:49:30.024490Z",
     "iopub.status.busy": "2024-08-10T17:49:30.024035Z",
     "iopub.status.idle": "2024-08-10T17:49:30.326524Z",
     "shell.execute_reply": "2024-08-10T17:49:30.325026Z"
    },
    "papermill": {
     "duration": 0.374013,
     "end_time": "2024-08-10T17:49:30.329703",
     "exception": false,
     "start_time": "2024-08-10T17:49:29.955690",
     "status": "completed"
    },
    "tags": []
   },
   "outputs": [
    {
     "data": {
      "text/plain": [
       "Text(0.5, 1.0, 'Distribution of Premise_Code Values')"
      ]
     },
     "execution_count": 31,
     "metadata": {},
     "output_type": "execute_result"
    },
    {
     "data": {
      "image/png": "[encoded data removed]",
      "text/plain": [
       "<Figure size 640x480 with 1 Axes>"
      ]
     },
     "metadata": {},
     "output_type": "display_data"
    }
   ],
   "source": [
    "data['Premise_Code'].plot(kind='hist', bins=10, edgecolor='black')\n",
    "plt.xlabel('Premise_Code')\n",
    "plt.ylabel('Frequency')\n",
    "plt.title('Distribution of Premise_Code Values')"
   ]
  },
  {
   "cell_type": "code",
   "execution_count": 32,
   "id": "ca664764",
   "metadata": {
    "execution": {
     "iopub.execute_input": "2024-08-10T17:49:30.467732Z",
     "iopub.status.busy": "2024-08-10T17:49:30.467185Z",
     "iopub.status.idle": "2024-08-10T17:49:30.793796Z",
     "shell.execute_reply": "2024-08-10T17:49:30.792490Z"
    },
    "papermill": {
     "duration": 0.397528,
     "end_time": "2024-08-10T17:49:30.796509",
     "exception": false,
     "start_time": "2024-08-10T17:49:30.398981",
     "status": "completed"
    },
    "tags": []
   },
   "outputs": [
    {
     "data": {
      "text/plain": [
       "Text(0.5, 1.0, 'Distribution of Weapon_Used_Code Values')"
      ]
     },
     "execution_count": 32,
     "metadata": {},
     "output_type": "execute_result"
    },
    {
     "data": {
      "image/png": "[encoded data removed]",
      "text/plain": [
       "<Figure size 640x480 with 1 Axes>"
      ]
     },
     "metadata": {},
     "output_type": "display_data"
    }
   ],
   "source": [
    "data['Weapon_Used_Code'].plot(kind='hist', bins=10, edgecolor='black')\n",
    "plt.xlabel('Weapon_Used_Code')\n",
    "plt.ylabel('Frequency')\n",
    "plt.title('Distribution of Weapon_Used_Code Values')"
   ]
  },
  {
   "cell_type": "markdown",
   "id": "02709328",
   "metadata": {
    "papermill": {
     "duration": 0.068532,
     "end_time": "2024-08-10T17:49:30.935003",
     "exception": false,
     "start_time": "2024-08-10T17:49:30.866471",
     "status": "completed"
    },
    "tags": []
   },
   "source": [
    "## *Insights*\n",
    "## *Visualized the distribution of numerical features.*\n",
    "## *It Helped in understanding the range and frequency of data points for each numerical feature.*\n",
    "## *Helped in understanding the data's shape, identifying outliers, comparing distributions.*\n",
    "## *It provides a clear visual representation, also facilitate better data analysis and decision making.*"
   ]
  },
  {
   "cell_type": "markdown",
   "id": "96fb12bc",
   "metadata": {
    "papermill": {
     "duration": 0.067552,
     "end_time": "2024-08-10T17:49:31.105292",
     "exception": false,
     "start_time": "2024-08-10T17:49:31.037740",
     "status": "completed"
    },
    "tags": []
   },
   "source": [
    "## e) Outlier Detection"
   ]
  },
  {
   "cell_type": "code",
   "execution_count": 33,
   "id": "02adf4ce",
   "metadata": {
    "execution": {
     "iopub.execute_input": "2024-08-10T17:49:31.242509Z",
     "iopub.status.busy": "2024-08-10T17:49:31.242036Z",
     "iopub.status.idle": "2024-08-10T17:49:31.880914Z",
     "shell.execute_reply": "2024-08-10T17:49:31.879655Z"
    },
    "papermill": {
     "duration": 0.70994,
     "end_time": "2024-08-10T17:49:31.883868",
     "exception": false,
     "start_time": "2024-08-10T17:49:31.173928",
     "status": "completed"
    },
    "tags": []
   },
   "outputs": [
    {
     "data": {
      "text/plain": [
       "(array([1, 2, 3, 4, 5, 6, 7, 8, 9]),\n",
       " [Text(1, 0, 'Latitude'),\n",
       "  Text(2, 0, 'Longitude'),\n",
       "  Text(3, 0, 'Time_Occurred'),\n",
       "  Text(4, 0, 'Area_ID'),\n",
       "  Text(5, 0, 'Reporting_District_no'),\n",
       "  Text(6, 0, 'Part 1-2'),\n",
       "  Text(7, 0, 'Victim_Age'),\n",
       "  Text(8, 0, 'Premise_Code'),\n",
       "  Text(9, 0, 'Weapon_Used_Code')])"
      ]
     },
     "execution_count": 33,
     "metadata": {},
     "output_type": "execute_result"
    },
    {
     "data": {
      "image/png": "[encoded data removed]",
      "text/plain": [
       "<Figure size 1000x500 with 1 Axes>"
      ]
     },
     "metadata": {},
     "output_type": "display_data"
    }
   ],
   "source": [
    "# Plot box plot for numerical features to detect outliers\n",
    "\n",
    "plt.figure(figsize=(10, 5))\n",
    "data.boxplot()\n",
    "plt.xticks(rotation=45)"
   ]
  },
  {
   "cell_type": "markdown",
   "id": "2e47b768",
   "metadata": {
    "papermill": {
     "duration": 0.06825,
     "end_time": "2024-08-10T17:49:32.024536",
     "exception": false,
     "start_time": "2024-08-10T17:49:31.956286",
     "status": "completed"
    },
    "tags": []
   },
   "source": [
    "## *Insights*\n",
    "\n",
    "## *The box represents the IQR.*\n",
    "## *The line inside the box represents the median.*\n",
    "## *Any points outside the whiskers would be considered outliers and plotted individually.*\n",
    "## *This visualization helps in quickly assessing the distribution characteristics and comparing different features in the dataset.*\n",
    "## *Outliers can impact model performance, so it need to be handled appropriately.*\n",
    "\n",
    "## *The Latitude has a minimum value of 0.000000 and a maximum value of 34.328100 which means there is a potential outliers at the lower end.*\n",
    "## *The Longitude also has a minimum value of -118.663400 and a maximum value of 0.000000, which is unusual for longitude values which indicates that outliers are present.*\n",
    "## *Victim_Age has values ranging from -2.0 to 99.0, which seems unrealistic because of the negative age.*"
   ]
  },
  {
   "cell_type": "markdown",
   "id": "43978772",
   "metadata": {
    "papermill": {
     "duration": 0.067222,
     "end_time": "2024-08-10T17:49:32.160765",
     "exception": false,
     "start_time": "2024-08-10T17:49:32.093543",
     "status": "completed"
    },
    "tags": []
   },
   "source": [
    "## Pairplot"
   ]
  },
  {
   "cell_type": "code",
   "execution_count": 34,
   "id": "41c9e3d9",
   "metadata": {
    "execution": {
     "iopub.execute_input": "2024-08-10T17:49:32.300775Z",
     "iopub.status.busy": "2024-08-10T17:49:32.300350Z",
     "iopub.status.idle": "2024-08-10T17:49:32.305992Z",
     "shell.execute_reply": "2024-08-10T17:49:32.304563Z"
    },
    "papermill": {
     "duration": 0.078685,
     "end_time": "2024-08-10T17:49:32.308531",
     "exception": false,
     "start_time": "2024-08-10T17:49:32.229846",
     "status": "completed"
    },
    "tags": []
   },
   "outputs": [],
   "source": [
    "# sns.pairplot(data=data,hue='Crime_Category')"
   ]
  },
  {
   "cell_type": "markdown",
   "id": "af8df446",
   "metadata": {
    "papermill": {
     "duration": 0.068603,
     "end_time": "2024-08-10T17:49:32.445242",
     "exception": false,
     "start_time": "2024-08-10T17:49:32.376639",
     "status": "completed"
    },
    "tags": []
   },
   "source": [
    "## *Insights*\n",
    "## *It is a visualization tool for exploring relationships between multiple features in a dataset. By displaying scatterplots of each pair of features and the distribution of individual features helps in identifying patterns, correlations, and potential outliers. The hue-based coloring allows more detailed analysis of how different categories in the data compare with each other.*"
   ]
  },
  {
   "cell_type": "markdown",
   "id": "932e44a2",
   "metadata": {
    "papermill": {
     "duration": 0.067669,
     "end_time": "2024-08-10T17:49:32.584851",
     "exception": false,
     "start_time": "2024-08-10T17:49:32.517182",
     "status": "completed"
    },
    "tags": []
   },
   "source": [
    "## Violinplot"
   ]
  },
  {
   "cell_type": "code",
   "execution_count": 35,
   "id": "7b6db012",
   "metadata": {
    "execution": {
     "iopub.execute_input": "2024-08-10T17:49:32.722359Z",
     "iopub.status.busy": "2024-08-10T17:49:32.721955Z",
     "iopub.status.idle": "2024-08-10T17:49:34.213217Z",
     "shell.execute_reply": "2024-08-10T17:49:34.211993Z"
    },
    "papermill": {
     "duration": 1.563547,
     "end_time": "2024-08-10T17:49:34.216100",
     "exception": false,
     "start_time": "2024-08-10T17:49:32.652553",
     "status": "completed"
    },
    "tags": []
   },
   "outputs": [
    {
     "data": {
      "text/plain": [
       "<Axes: >"
      ]
     },
     "execution_count": 35,
     "metadata": {},
     "output_type": "execute_result"
    },
    {
     "data": {
      "image/png": "[encoded data removed]",
      "text/plain": [
       "<Figure size 640x480 with 1 Axes>"
      ]
     },
     "metadata": {},
     "output_type": "display_data"
    }
   ],
   "source": [
    "sns.violinplot(data=data, orient=\"h\", palette=\"Set2\",  scale=\"width\")"
   ]
  },
  {
   "cell_type": "markdown",
   "id": "b8c1c89d",
   "metadata": {
    "papermill": {
     "duration": 0.069524,
     "end_time": "2024-08-10T17:49:34.356137",
     "exception": false,
     "start_time": "2024-08-10T17:49:34.286613",
     "status": "completed"
    },
    "tags": []
   },
   "source": [
    "## *Insights*\n",
    "## *Violin plots are  useful for visualizing complex distributions of features and making comparisons across multiple groups or categories in a dataset.*"
   ]
  },
  {
   "cell_type": "markdown",
   "id": "e1ef9e13",
   "metadata": {
    "papermill": {
     "duration": 0.069796,
     "end_time": "2024-08-10T17:49:34.496013",
     "exception": false,
     "start_time": "2024-08-10T17:49:34.426217",
     "status": "completed"
    },
    "tags": []
   },
   "source": [
    "## f) Feature Relationships"
   ]
  },
  {
   "cell_type": "code",
   "execution_count": 36,
   "id": "558930c9",
   "metadata": {
    "execution": {
     "iopub.execute_input": "2024-08-10T17:49:34.634449Z",
     "iopub.status.busy": "2024-08-10T17:49:34.634026Z",
     "iopub.status.idle": "2024-08-10T17:49:35.216634Z",
     "shell.execute_reply": "2024-08-10T17:49:35.215368Z"
    },
    "papermill": {
     "duration": 0.656029,
     "end_time": "2024-08-10T17:49:35.220265",
     "exception": false,
     "start_time": "2024-08-10T17:49:34.564236",
     "status": "completed"
    },
    "tags": []
   },
   "outputs": [
    {
     "data": {
      "image/png": "[encoded data removed]",
      "text/plain": [
       "<Figure size 1000x600 with 2 Axes>"
      ]
     },
     "metadata": {},
     "output_type": "display_data"
    }
   ],
   "source": [
    "# Visualizing the correlation matrix for numerical features\n",
    "# Correlation matrix and heatmap \n",
    "\n",
    "corr_mat = data[num_features].corr()\n",
    "plt.figure(figsize=(10, 6))\n",
    "sns.heatmap(corr_mat, annot=True)\n",
    "plt.title('Correlation Matrix Heatmap')\n",
    "plt.show()"
   ]
  },
  {
   "cell_type": "markdown",
   "id": "9ed6daba",
   "metadata": {
    "papermill": {
     "duration": 0.069836,
     "end_time": "2024-08-10T17:49:35.363010",
     "exception": false,
     "start_time": "2024-08-10T17:49:35.293174",
     "status": "completed"
    },
    "tags": []
   },
   "source": [
    "## *Insights*\n",
    "## *It shows the pairwise correlation between numerical features.*\n",
    "## *Also helped in understanding the relationship between numerical features and identifying redundant features.*\n",
    "## *High correlation between certain features indicate multicollinearity, which can affect the stability and interpretability of models.*\n",
    "## *From the pair of features which are highly correlated take only one feature.*\n",
    "## *This type of visualization is essential during exploratory data analysis beacuse it makes easier to make informed decisions about statistical analyses or machine learning model development.*"
   ]
  },
  {
   "cell_type": "markdown",
   "id": "884db0f2",
   "metadata": {
    "papermill": {
     "duration": 0.069177,
     "end_time": "2024-08-10T17:49:35.501962",
     "exception": false,
     "start_time": "2024-08-10T17:49:35.432785",
     "status": "completed"
    },
    "tags": []
   },
   "source": [
    "## g) Categorical Features Analysis"
   ]
  },
  {
   "cell_type": "markdown",
   "id": "28c8467c",
   "metadata": {
    "papermill": {
     "duration": 0.069781,
     "end_time": "2024-08-10T17:49:35.641103",
     "exception": false,
     "start_time": "2024-08-10T17:49:35.571322",
     "status": "completed"
    },
    "tags": []
   },
   "source": [
    "## Name of the Categorical Features"
   ]
  },
  {
   "cell_type": "code",
   "execution_count": 37,
   "id": "fe9d02ae",
   "metadata": {
    "execution": {
     "iopub.execute_input": "2024-08-10T17:49:35.784626Z",
     "iopub.status.busy": "2024-08-10T17:49:35.784203Z",
     "iopub.status.idle": "2024-08-10T17:49:35.795370Z",
     "shell.execute_reply": "2024-08-10T17:49:35.793999Z"
    },
    "papermill": {
     "duration": 0.08658,
     "end_time": "2024-08-10T17:49:35.797933",
     "exception": false,
     "start_time": "2024-08-10T17:49:35.711353",
     "status": "completed"
    },
    "tags": []
   },
   "outputs": [
    {
     "data": {
      "text/plain": [
       "Index(['Location', 'Cross_Street', 'Date_Reported', 'Date_Occurred',\n",
       "       'Area_Name', 'Modus_Operandi', 'Victim_Sex', 'Victim_Descent',\n",
       "       'Premise_Description', 'Weapon_Description', 'Status',\n",
       "       'Status_Description', 'Crime_Category'],\n",
       "      dtype='object')"
      ]
     },
     "execution_count": 37,
     "metadata": {},
     "output_type": "execute_result"
    }
   ],
   "source": [
    "cat_features = data.select_dtypes(include=['object']).columns\n",
    "cat_features"
   ]
  },
  {
   "cell_type": "code",
   "execution_count": 38,
   "id": "96e44eea",
   "metadata": {
    "execution": {
     "iopub.execute_input": "2024-08-10T17:49:35.944251Z",
     "iopub.status.busy": "2024-08-10T17:49:35.943857Z",
     "iopub.status.idle": "2024-08-10T17:49:35.949562Z",
     "shell.execute_reply": "2024-08-10T17:49:35.948090Z"
    },
    "papermill": {
     "duration": 0.081964,
     "end_time": "2024-08-10T17:49:35.952124",
     "exception": false,
     "start_time": "2024-08-10T17:49:35.870160",
     "status": "completed"
    },
    "tags": []
   },
   "outputs": [],
   "source": [
    "# cat_features = data.select_dtypes(include=['object']).columns\n",
    "# for column in cat_features:\n",
    "#     plt.figure(figsize=(10, 5))\n",
    "#     sns.countplot(y=column, data=data)\n",
    "#     plt.show()"
   ]
  },
  {
   "cell_type": "markdown",
   "id": "db07c369",
   "metadata": {
    "papermill": {
     "duration": 0.070333,
     "end_time": "2024-08-10T17:49:36.093595",
     "exception": false,
     "start_time": "2024-08-10T17:49:36.023262",
     "status": "completed"
    },
    "tags": []
   },
   "source": [
    "## *Insights*\n",
    "## *Bar plots for categorical features to visualize the distribution of each category.*\n",
    "## *By analyzing the frequency of each category, you can identify the most and least common categories. This helps in understanding the distribution of the categorical features.*\n",
    "## *The mode of a categorical feature indicates the most common category, which can be an important insight, especially in understanding the dominant behavior in the data.*"
   ]
  },
  {
   "cell_type": "markdown",
   "id": "c7eab17f",
   "metadata": {
    "papermill": {
     "duration": 0.070529,
     "end_time": "2024-08-10T17:49:36.236063",
     "exception": false,
     "start_time": "2024-08-10T17:49:36.165534",
     "status": "completed"
    },
    "tags": []
   },
   "source": [
    "## Unique Label names"
   ]
  },
  {
   "cell_type": "code",
   "execution_count": 39,
   "id": "8418680b",
   "metadata": {
    "execution": {
     "iopub.execute_input": "2024-08-10T17:49:36.382333Z",
     "iopub.status.busy": "2024-08-10T17:49:36.381891Z",
     "iopub.status.idle": "2024-08-10T17:49:36.391302Z",
     "shell.execute_reply": "2024-08-10T17:49:36.390094Z"
    },
    "papermill": {
     "duration": 0.086661,
     "end_time": "2024-08-10T17:49:36.394253",
     "exception": false,
     "start_time": "2024-08-10T17:49:36.307592",
     "status": "completed"
    },
    "tags": []
   },
   "outputs": [
    {
     "data": {
      "text/plain": [
       "array(['Property Crimes', 'Violent Crimes', 'Other Crimes',\n",
       "       'Crimes against Public Order', 'Fraud and White-Collar Crimes',\n",
       "       'Crimes against Persons'], dtype=object)"
      ]
     },
     "execution_count": 39,
     "metadata": {},
     "output_type": "execute_result"
    }
   ],
   "source": [
    "data['Crime_Category'].unique()"
   ]
  },
  {
   "cell_type": "markdown",
   "id": "252ce7d0",
   "metadata": {
    "papermill": {
     "duration": 0.070132,
     "end_time": "2024-08-10T17:49:36.535426",
     "exception": false,
     "start_time": "2024-08-10T17:49:36.465294",
     "status": "completed"
    },
    "tags": []
   },
   "source": [
    "## Unique Label Counts"
   ]
  },
  {
   "cell_type": "code",
   "execution_count": 40,
   "id": "1c039f7a",
   "metadata": {
    "execution": {
     "iopub.execute_input": "2024-08-10T17:49:36.678769Z",
     "iopub.status.busy": "2024-08-10T17:49:36.678221Z",
     "iopub.status.idle": "2024-08-10T17:49:36.690853Z",
     "shell.execute_reply": "2024-08-10T17:49:36.689528Z"
    },
    "papermill": {
     "duration": 0.087159,
     "end_time": "2024-08-10T17:49:36.693504",
     "exception": false,
     "start_time": "2024-08-10T17:49:36.606345",
     "status": "completed"
    },
    "tags": []
   },
   "outputs": [
    {
     "data": {
      "text/plain": [
       "Crime_Category\n",
       "Property Crimes                  11666\n",
       "Violent Crimes                    4767\n",
       "Crimes against Public Order       1808\n",
       "Fraud and White-Collar Crimes     1355\n",
       "Crimes against Persons             225\n",
       "Other Crimes                       179\n",
       "Name: count, dtype: int64"
      ]
     },
     "execution_count": 40,
     "metadata": {},
     "output_type": "execute_result"
    }
   ],
   "source": [
    "data['Crime_Category'].value_counts()"
   ]
  },
  {
   "cell_type": "markdown",
   "id": "3bc594c7",
   "metadata": {
    "papermill": {
     "duration": 0.071078,
     "end_time": "2024-08-10T17:49:36.836205",
     "exception": false,
     "start_time": "2024-08-10T17:49:36.765127",
     "status": "completed"
    },
    "tags": []
   },
   "source": [
    "## Distribution of samples in each classes"
   ]
  },
  {
   "cell_type": "code",
   "execution_count": 41,
   "id": "2c65210c",
   "metadata": {
    "execution": {
     "iopub.execute_input": "2024-08-10T17:49:36.983259Z",
     "iopub.status.busy": "2024-08-10T17:49:36.982837Z",
     "iopub.status.idle": "2024-08-10T17:49:37.287503Z",
     "shell.execute_reply": "2024-08-10T17:49:37.286349Z"
    },
    "papermill": {
     "duration": 0.38158,
     "end_time": "2024-08-10T17:49:37.290155",
     "exception": false,
     "start_time": "2024-08-10T17:49:36.908575",
     "status": "completed"
    },
    "tags": []
   },
   "outputs": [
    {
     "data": {
      "text/plain": [
       "Text(0, 0.5, 'Count')"
      ]
     },
     "execution_count": 41,
     "metadata": {},
     "output_type": "execute_result"
    },
    {
     "data": {
      "image/png": "[encoded data removed]",
      "text/plain": [
       "<Figure size 640x480 with 1 Axes>"
      ]
     },
     "metadata": {},
     "output_type": "display_data"
    }
   ],
   "source": [
    "data['Crime_Category'].value_counts().plot(kind='bar')\n",
    "plt.xlabel('Crime Category')\n",
    "plt.ylabel('Count')\n",
    "# plt.xticks(rotation=0)\n",
    "# plt.figure(figsize=(20,5))\n",
    "# plt.tight_layout()"
   ]
  },
  {
   "cell_type": "markdown",
   "id": "c9482500",
   "metadata": {
    "papermill": {
     "duration": 0.070703,
     "end_time": "2024-08-10T17:49:37.433342",
     "exception": false,
     "start_time": "2024-08-10T17:49:37.362639",
     "status": "completed"
    },
    "tags": []
   },
   "source": [
    "## *Insights*\n",
    "## *Property crimes are the most frequent, followed by violent crimes and other.*"
   ]
  },
  {
   "cell_type": "markdown",
   "id": "67f66155",
   "metadata": {
    "papermill": {
     "duration": 0.0755,
     "end_time": "2024-08-10T17:49:37.582805",
     "exception": false,
     "start_time": "2024-08-10T17:49:37.507305",
     "status": "completed"
    },
    "tags": []
   },
   "source": [
    "# 3. *Data Preprocessing and Cleaning*"
   ]
  },
  {
   "cell_type": "code",
   "execution_count": 42,
   "id": "8a7afd66",
   "metadata": {
    "execution": {
     "iopub.execute_input": "2024-08-10T17:49:37.726981Z",
     "iopub.status.busy": "2024-08-10T17:49:37.726564Z",
     "iopub.status.idle": "2024-08-10T17:49:37.757498Z",
     "shell.execute_reply": "2024-08-10T17:49:37.756311Z"
    },
    "papermill": {
     "duration": 0.106373,
     "end_time": "2024-08-10T17:49:37.759873",
     "exception": false,
     "start_time": "2024-08-10T17:49:37.653500",
     "status": "completed"
    },
    "tags": []
   },
   "outputs": [
    {
     "data": {
      "text/html": [
       "<div>\n",
       "<style scoped>\n",
       "    .dataframe tbody tr th:only-of-type {\n",
       "        vertical-align: middle;\n",
       "    }\n",
       "\n",
       "    .dataframe tbody tr th {\n",
       "        vertical-align: top;\n",
       "    }\n",
       "\n",
       "    .dataframe thead th {\n",
       "        text-align: right;\n",
       "    }\n",
       "</style>\n",
       "<table border=\"1\" class=\"dataframe\">\n",
       "  <thead>\n",
       "    <tr style=\"text-align: right;\">\n",
       "      <th></th>\n",
       "      <th>Location</th>\n",
       "      <th>Cross_Street</th>\n",
       "      <th>Latitude</th>\n",
       "      <th>Longitude</th>\n",
       "      <th>Date_Reported</th>\n",
       "      <th>Date_Occurred</th>\n",
       "      <th>Time_Occurred</th>\n",
       "      <th>Area_ID</th>\n",
       "      <th>Area_Name</th>\n",
       "      <th>Reporting_District_no</th>\n",
       "      <th>Part 1-2</th>\n",
       "      <th>Modus_Operandi</th>\n",
       "      <th>Victim_Age</th>\n",
       "      <th>Victim_Sex</th>\n",
       "      <th>Victim_Descent</th>\n",
       "      <th>Premise_Code</th>\n",
       "      <th>Premise_Description</th>\n",
       "      <th>Weapon_Used_Code</th>\n",
       "      <th>Weapon_Description</th>\n",
       "      <th>Status</th>\n",
       "      <th>Status_Description</th>\n",
       "      <th>Crime_Category</th>\n",
       "    </tr>\n",
       "  </thead>\n",
       "  <tbody>\n",
       "    <tr>\n",
       "      <th>0</th>\n",
       "      <td>4500    CARPENTER                    AV</td>\n",
       "      <td>NaN</td>\n",
       "      <td>34.1522</td>\n",
       "      <td>-118.3910</td>\n",
       "      <td>03/09/2020 12:00:00 AM</td>\n",
       "      <td>03/06/2020 12:00:00 AM</td>\n",
       "      <td>1800.0</td>\n",
       "      <td>15.0</td>\n",
       "      <td>N Hollywood</td>\n",
       "      <td>1563.0</td>\n",
       "      <td>1.0</td>\n",
       "      <td>0385</td>\n",
       "      <td>75.0</td>\n",
       "      <td>M</td>\n",
       "      <td>W</td>\n",
       "      <td>101.0</td>\n",
       "      <td>STREET</td>\n",
       "      <td>NaN</td>\n",
       "      <td>NaN</td>\n",
       "      <td>IC</td>\n",
       "      <td>Invest Cont</td>\n",
       "      <td>Property Crimes</td>\n",
       "    </tr>\n",
       "    <tr>\n",
       "      <th>1</th>\n",
       "      <td>45TH                         ST</td>\n",
       "      <td>ALAMEDA                      ST</td>\n",
       "      <td>34.0028</td>\n",
       "      <td>-118.2391</td>\n",
       "      <td>02/27/2020 12:00:00 AM</td>\n",
       "      <td>02/27/2020 12:00:00 AM</td>\n",
       "      <td>1345.0</td>\n",
       "      <td>13.0</td>\n",
       "      <td>Newton</td>\n",
       "      <td>1367.0</td>\n",
       "      <td>1.0</td>\n",
       "      <td>0906 0352 0371 0446 1822 0344 0416 0417</td>\n",
       "      <td>41.0</td>\n",
       "      <td>M</td>\n",
       "      <td>H</td>\n",
       "      <td>216.0</td>\n",
       "      <td>SWAP MEET</td>\n",
       "      <td>400.0</td>\n",
       "      <td>STRONG-ARM (HANDS, FIST, FEET OR BODILY FORCE)</td>\n",
       "      <td>IC</td>\n",
       "      <td>Invest Cont</td>\n",
       "      <td>Property Crimes</td>\n",
       "    </tr>\n",
       "    <tr>\n",
       "      <th>2</th>\n",
       "      <td>600 E  MARTIN LUTHER KING JR        BL</td>\n",
       "      <td>NaN</td>\n",
       "      <td>34.0111</td>\n",
       "      <td>-118.2653</td>\n",
       "      <td>08/21/2020 12:00:00 AM</td>\n",
       "      <td>08/21/2020 12:00:00 AM</td>\n",
       "      <td>605.0</td>\n",
       "      <td>13.0</td>\n",
       "      <td>Newton</td>\n",
       "      <td>1343.0</td>\n",
       "      <td>2.0</td>\n",
       "      <td>0329 1202</td>\n",
       "      <td>67.0</td>\n",
       "      <td>M</td>\n",
       "      <td>B</td>\n",
       "      <td>501.0</td>\n",
       "      <td>SINGLE FAMILY DWELLING</td>\n",
       "      <td>NaN</td>\n",
       "      <td>NaN</td>\n",
       "      <td>IC</td>\n",
       "      <td>Invest Cont</td>\n",
       "      <td>Property Crimes</td>\n",
       "    </tr>\n",
       "    <tr>\n",
       "      <th>3</th>\n",
       "      <td>14900    ORO GRANDE                   ST</td>\n",
       "      <td>NaN</td>\n",
       "      <td>34.2953</td>\n",
       "      <td>-118.4590</td>\n",
       "      <td>11/08/2020 12:00:00 AM</td>\n",
       "      <td>11/06/2020 12:00:00 AM</td>\n",
       "      <td>1800.0</td>\n",
       "      <td>19.0</td>\n",
       "      <td>Mission</td>\n",
       "      <td>1924.0</td>\n",
       "      <td>1.0</td>\n",
       "      <td>0329 1300</td>\n",
       "      <td>61.0</td>\n",
       "      <td>M</td>\n",
       "      <td>H</td>\n",
       "      <td>101.0</td>\n",
       "      <td>STREET</td>\n",
       "      <td>NaN</td>\n",
       "      <td>NaN</td>\n",
       "      <td>IC</td>\n",
       "      <td>Invest Cont</td>\n",
       "      <td>Property Crimes</td>\n",
       "    </tr>\n",
       "    <tr>\n",
       "      <th>4</th>\n",
       "      <td>7100 S  VERMONT                      AV</td>\n",
       "      <td>NaN</td>\n",
       "      <td>33.9787</td>\n",
       "      <td>-118.2918</td>\n",
       "      <td>02/25/2020 12:00:00 AM</td>\n",
       "      <td>02/25/2020 12:00:00 AM</td>\n",
       "      <td>1130.0</td>\n",
       "      <td>12.0</td>\n",
       "      <td>77th Street</td>\n",
       "      <td>1245.0</td>\n",
       "      <td>1.0</td>\n",
       "      <td>0416 0945 1822 0400 0417 0344</td>\n",
       "      <td>0.0</td>\n",
       "      <td>X</td>\n",
       "      <td>X</td>\n",
       "      <td>401.0</td>\n",
       "      <td>MINI-MART</td>\n",
       "      <td>400.0</td>\n",
       "      <td>STRONG-ARM (HANDS, FIST, FEET OR BODILY FORCE)</td>\n",
       "      <td>IC</td>\n",
       "      <td>Invest Cont</td>\n",
       "      <td>Property Crimes</td>\n",
       "    </tr>\n",
       "  </tbody>\n",
       "</table>\n",
       "</div>"
      ],
      "text/plain": [
       "                                   Location                     Cross_Street  \\\n",
       "0   4500    CARPENTER                    AV                              NaN   \n",
       "1           45TH                         ST  ALAMEDA                      ST   \n",
       "2    600 E  MARTIN LUTHER KING JR        BL                              NaN   \n",
       "3  14900    ORO GRANDE                   ST                              NaN   \n",
       "4   7100 S  VERMONT                      AV                              NaN   \n",
       "\n",
       "   Latitude  Longitude           Date_Reported           Date_Occurred  \\\n",
       "0   34.1522  -118.3910  03/09/2020 12:00:00 AM  03/06/2020 12:00:00 AM   \n",
       "1   34.0028  -118.2391  02/27/2020 12:00:00 AM  02/27/2020 12:00:00 AM   \n",
       "2   34.0111  -118.2653  08/21/2020 12:00:00 AM  08/21/2020 12:00:00 AM   \n",
       "3   34.2953  -118.4590  11/08/2020 12:00:00 AM  11/06/2020 12:00:00 AM   \n",
       "4   33.9787  -118.2918  02/25/2020 12:00:00 AM  02/25/2020 12:00:00 AM   \n",
       "\n",
       "   Time_Occurred  Area_ID    Area_Name  Reporting_District_no  Part 1-2  \\\n",
       "0         1800.0     15.0  N Hollywood                 1563.0       1.0   \n",
       "1         1345.0     13.0       Newton                 1367.0       1.0   \n",
       "2          605.0     13.0       Newton                 1343.0       2.0   \n",
       "3         1800.0     19.0      Mission                 1924.0       1.0   \n",
       "4         1130.0     12.0  77th Street                 1245.0       1.0   \n",
       "\n",
       "                            Modus_Operandi  Victim_Age Victim_Sex  \\\n",
       "0                                     0385        75.0          M   \n",
       "1  0906 0352 0371 0446 1822 0344 0416 0417        41.0          M   \n",
       "2                                0329 1202        67.0          M   \n",
       "3                                0329 1300        61.0          M   \n",
       "4            0416 0945 1822 0400 0417 0344         0.0          X   \n",
       "\n",
       "  Victim_Descent  Premise_Code     Premise_Description  Weapon_Used_Code  \\\n",
       "0              W         101.0                  STREET               NaN   \n",
       "1              H         216.0               SWAP MEET             400.0   \n",
       "2              B         501.0  SINGLE FAMILY DWELLING               NaN   \n",
       "3              H         101.0                  STREET               NaN   \n",
       "4              X         401.0               MINI-MART             400.0   \n",
       "\n",
       "                               Weapon_Description Status Status_Description  \\\n",
       "0                                             NaN     IC        Invest Cont   \n",
       "1  STRONG-ARM (HANDS, FIST, FEET OR BODILY FORCE)     IC        Invest Cont   \n",
       "2                                             NaN     IC        Invest Cont   \n",
       "3                                             NaN     IC        Invest Cont   \n",
       "4  STRONG-ARM (HANDS, FIST, FEET OR BODILY FORCE)     IC        Invest Cont   \n",
       "\n",
       "    Crime_Category  \n",
       "0  Property Crimes  \n",
       "1  Property Crimes  \n",
       "2  Property Crimes  \n",
       "3  Property Crimes  \n",
       "4  Property Crimes  "
      ]
     },
     "execution_count": 42,
     "metadata": {},
     "output_type": "execute_result"
    }
   ],
   "source": [
    "data.head()"
   ]
  },
  {
   "cell_type": "markdown",
   "id": "762caa1d",
   "metadata": {
    "papermill": {
     "duration": 0.138817,
     "end_time": "2024-08-10T17:49:37.970943",
     "exception": false,
     "start_time": "2024-08-10T17:49:37.832126",
     "status": "completed"
    },
    "tags": []
   },
   "source": [
    "## Checking for null values in training and test dataset"
   ]
  },
  {
   "cell_type": "code",
   "execution_count": 43,
   "id": "20a7258f",
   "metadata": {
    "execution": {
     "iopub.execute_input": "2024-08-10T17:49:38.119039Z",
     "iopub.status.busy": "2024-08-10T17:49:38.118648Z",
     "iopub.status.idle": "2024-08-10T17:49:38.156726Z",
     "shell.execute_reply": "2024-08-10T17:49:38.155283Z"
    },
    "papermill": {
     "duration": 0.116466,
     "end_time": "2024-08-10T17:49:38.159630",
     "exception": false,
     "start_time": "2024-08-10T17:49:38.043164",
     "status": "completed"
    },
    "tags": []
   },
   "outputs": [
    {
     "data": {
      "text/plain": [
       "Location                     0\n",
       "Cross_Street             16552\n",
       "Latitude                     0\n",
       "Longitude                    0\n",
       "Date_Reported                0\n",
       "Date_Occurred                0\n",
       "Time_Occurred                0\n",
       "Area_ID                      0\n",
       "Area_Name                    0\n",
       "Reporting_District_no        0\n",
       "Part 1-2                     0\n",
       "Modus_Operandi            2741\n",
       "Victim_Age                   0\n",
       "Victim_Sex                2624\n",
       "Victim_Descent            2624\n",
       "Premise_Code                 0\n",
       "Premise_Description          5\n",
       "Weapon_Used_Code         12665\n",
       "Weapon_Description       12665\n",
       "Status                       0\n",
       "Status_Description           0\n",
       "Crime_Category               0\n",
       "dtype: int64"
      ]
     },
     "execution_count": 43,
     "metadata": {},
     "output_type": "execute_result"
    }
   ],
   "source": [
    "data.isna().sum()"
   ]
  },
  {
   "cell_type": "code",
   "execution_count": 44,
   "id": "77dc4a1f",
   "metadata": {
    "execution": {
     "iopub.execute_input": "2024-08-10T17:49:38.315442Z",
     "iopub.status.busy": "2024-08-10T17:49:38.314947Z",
     "iopub.status.idle": "2024-08-10T17:49:38.332633Z",
     "shell.execute_reply": "2024-08-10T17:49:38.331329Z"
    },
    "papermill": {
     "duration": 0.100183,
     "end_time": "2024-08-10T17:49:38.335788",
     "exception": false,
     "start_time": "2024-08-10T17:49:38.235605",
     "status": "completed"
    },
    "tags": []
   },
   "outputs": [
    {
     "data": {
      "text/plain": [
       "Location                    0\n",
       "Cross_Street             4190\n",
       "Latitude                    0\n",
       "Longitude                   0\n",
       "Date_Reported               0\n",
       "Date_Occurred               0\n",
       "Time_Occurred               0\n",
       "Area_ID                     0\n",
       "Area_Name                   0\n",
       "Reporting_District_no       0\n",
       "Part 1-2                    0\n",
       "Modus_Operandi            684\n",
       "Victim_Age                  0\n",
       "Victim_Sex                643\n",
       "Victim_Descent            643\n",
       "Premise_Code                0\n",
       "Premise_Description         1\n",
       "Weapon_Used_Code         3153\n",
       "Weapon_Description       3153\n",
       "Status                      0\n",
       "Status_Description          0\n",
       "dtype: int64"
      ]
     },
     "execution_count": 44,
     "metadata": {},
     "output_type": "execute_result"
    }
   ],
   "source": [
    "test_data.isna().sum()"
   ]
  },
  {
   "cell_type": "markdown",
   "id": "199bf8c3",
   "metadata": {
    "papermill": {
     "duration": 0.072457,
     "end_time": "2024-08-10T17:49:38.480581",
     "exception": false,
     "start_time": "2024-08-10T17:49:38.408124",
     "status": "completed"
    },
    "tags": []
   },
   "source": [
    "## Convert Date_Reported and Date_Occurred to datetime for training dataset"
   ]
  },
  {
   "cell_type": "markdown",
   "id": "b5553895",
   "metadata": {
    "papermill": {
     "duration": 0.072618,
     "end_time": "2024-08-10T17:49:38.625873",
     "exception": false,
     "start_time": "2024-08-10T17:49:38.553255",
     "status": "completed"
    },
    "tags": []
   },
   "source": [
    "## Extract day, month and year from Date_Reported and Date_Occured from training dataset"
   ]
  },
  {
   "cell_type": "markdown",
   "id": "276d640a",
   "metadata": {
    "papermill": {
     "duration": 0.07541,
     "end_time": "2024-08-10T17:49:38.775451",
     "exception": false,
     "start_time": "2024-08-10T17:49:38.700041",
     "status": "completed"
    },
    "tags": []
   },
   "source": [
    "## Extracting features such as day, month and year from Date_Reported and Date_Occurred provides additional dimensions for the analysis."
   ]
  },
  {
   "cell_type": "code",
   "execution_count": 45,
   "id": "cc00b4d2",
   "metadata": {
    "execution": {
     "iopub.execute_input": "2024-08-10T17:49:38.928727Z",
     "iopub.status.busy": "2024-08-10T17:49:38.928257Z",
     "iopub.status.idle": "2024-08-10T17:49:39.127622Z",
     "shell.execute_reply": "2024-08-10T17:49:39.126412Z"
    },
    "papermill": {
     "duration": 0.280741,
     "end_time": "2024-08-10T17:49:39.130589",
     "exception": false,
     "start_time": "2024-08-10T17:49:38.849848",
     "status": "completed"
    },
    "tags": []
   },
   "outputs": [],
   "source": [
    "# Convert 'Date_Reported' and 'Date_Occurred' to datetime for training dataset\n",
    "\n",
    "data['Date_Reported']=pd.to_datetime(data['Date_Reported'])\n",
    "data['Date_Occurred']=pd.to_datetime(data['Date_Occurred'])\n",
    "\n",
    "# Extracting additional features from 'Date_Reported' and 'Date_Occurred' like\n",
    "# year, month, day, day of week and hour\n",
    "\n",
    "data['Reported_Year']=data['Date_Reported'].dt.year\n",
    "data['Reported_Month']=data['Date_Reported'].dt.month\n",
    "data['Reported_Day']=data['Date_Reported'].dt.day\n",
    "\n",
    "\n",
    "data['Occurred_Year']=data['Date_Occurred'].dt.year\n",
    "data['Occurred_Month']=data['Date_Occurred'].dt.month\n",
    "data['Occurred_Day']=data['Date_Occurred'].dt.day\n",
    "\n",
    "\n"
   ]
  },
  {
   "cell_type": "markdown",
   "id": "424fb375",
   "metadata": {
    "papermill": {
     "duration": 0.072181,
     "end_time": "2024-08-10T17:49:39.275442",
     "exception": false,
     "start_time": "2024-08-10T17:49:39.203261",
     "status": "completed"
    },
    "tags": []
   },
   "source": [
    "## Extract day, month and year from Date_Reported and Date_Occured from test dataset"
   ]
  },
  {
   "cell_type": "code",
   "execution_count": 46,
   "id": "e246dfd5",
   "metadata": {
    "execution": {
     "iopub.execute_input": "2024-08-10T17:49:39.424711Z",
     "iopub.status.busy": "2024-08-10T17:49:39.424337Z",
     "iopub.status.idle": "2024-08-10T17:49:39.565478Z",
     "shell.execute_reply": "2024-08-10T17:49:39.564133Z"
    },
    "papermill": {
     "duration": 0.218478,
     "end_time": "2024-08-10T17:49:39.568149",
     "exception": false,
     "start_time": "2024-08-10T17:49:39.349671",
     "status": "completed"
    },
    "tags": []
   },
   "outputs": [],
   "source": [
    "# Convert 'Date_Reported' and 'Date_Occurred' to datetime for test dataset\n",
    "\n",
    "test_data['Date_Reported']=pd.to_datetime(test_data['Date_Reported'])\n",
    "test_data['Date_Occurred']=pd.to_datetime(test_data['Date_Occurred'])\n",
    "\n",
    "# Extracting additional features from 'Date_Reported' and 'Date_Occurred' like\n",
    "# year, month, day, day of week and hour\n",
    "\n",
    "test_data['Reported_Year']=test_data['Date_Reported'].dt.year\n",
    "test_data['Reported_Month']=test_data['Date_Reported'].dt.month\n",
    "test_data['Reported_Day']=test_data['Date_Reported'].dt.day\n",
    "\n",
    "\n",
    "test_data['Occurred_Year']=test_data['Date_Occurred'].dt.year\n",
    "test_data['Occurred_Month']=test_data['Date_Occurred'].dt.month\n",
    "test_data['Occurred_Day']=test_data['Date_Occurred'].dt.day"
   ]
  },
  {
   "cell_type": "markdown",
   "id": "01605298",
   "metadata": {
    "papermill": {
     "duration": 0.075279,
     "end_time": "2024-08-10T17:49:39.716135",
     "exception": false,
     "start_time": "2024-08-10T17:49:39.640856",
     "status": "completed"
    },
    "tags": []
   },
   "source": [
    "## *Insights*\n",
    "## *Extracting and creating new features from the existing ones gives additional information and helps in improving the model performance.*"
   ]
  },
  {
   "cell_type": "code",
   "execution_count": 47,
   "id": "704d13b7",
   "metadata": {
    "execution": {
     "iopub.execute_input": "2024-08-10T17:49:39.866110Z",
     "iopub.status.busy": "2024-08-10T17:49:39.865702Z",
     "iopub.status.idle": "2024-08-10T17:49:39.872329Z",
     "shell.execute_reply": "2024-08-10T17:49:39.871024Z"
    },
    "papermill": {
     "duration": 0.084494,
     "end_time": "2024-08-10T17:49:39.874943",
     "exception": false,
     "start_time": "2024-08-10T17:49:39.790449",
     "status": "completed"
    },
    "tags": []
   },
   "outputs": [
    {
     "name": "stdout",
     "output_type": "stream",
     "text": [
      "(20000, 28)\n",
      "(5000, 27)\n"
     ]
    }
   ],
   "source": [
    "print(data.shape)\n",
    "print(test_data.shape)"
   ]
  },
  {
   "cell_type": "markdown",
   "id": "8d93b219",
   "metadata": {
    "papermill": {
     "duration": 0.072777,
     "end_time": "2024-08-10T17:49:40.024555",
     "exception": false,
     "start_time": "2024-08-10T17:49:39.951778",
     "status": "completed"
    },
    "tags": []
   },
   "source": [
    "## Delete Date_Reported and Date_Occured feature fron train and test dataset"
   ]
  },
  {
   "cell_type": "code",
   "execution_count": 48,
   "id": "ceb1b3e4",
   "metadata": {
    "execution": {
     "iopub.execute_input": "2024-08-10T17:49:40.172773Z",
     "iopub.status.busy": "2024-08-10T17:49:40.172344Z",
     "iopub.status.idle": "2024-08-10T17:49:40.188440Z",
     "shell.execute_reply": "2024-08-10T17:49:40.187166Z"
    },
    "papermill": {
     "duration": 0.093292,
     "end_time": "2024-08-10T17:49:40.191140",
     "exception": false,
     "start_time": "2024-08-10T17:49:40.097848",
     "status": "completed"
    },
    "tags": []
   },
   "outputs": [],
   "source": [
    "data.drop(['Date_Reported', 'Date_Occurred'], axis=1, inplace=True)\n",
    "test_data.drop(['Date_Reported', 'Date_Occurred'], axis=1, inplace=True)"
   ]
  },
  {
   "cell_type": "code",
   "execution_count": 49,
   "id": "7ec3580f",
   "metadata": {
    "execution": {
     "iopub.execute_input": "2024-08-10T17:49:40.339792Z",
     "iopub.status.busy": "2024-08-10T17:49:40.339348Z",
     "iopub.status.idle": "2024-08-10T17:49:40.344796Z",
     "shell.execute_reply": "2024-08-10T17:49:40.343682Z"
    },
    "papermill": {
     "duration": 0.083265,
     "end_time": "2024-08-10T17:49:40.348019",
     "exception": false,
     "start_time": "2024-08-10T17:49:40.264754",
     "status": "completed"
    },
    "tags": []
   },
   "outputs": [
    {
     "name": "stdout",
     "output_type": "stream",
     "text": [
      "(20000, 26)\n",
      "(5000, 25)\n"
     ]
    }
   ],
   "source": [
    "print(data.shape)\n",
    "print(test_data.shape)"
   ]
  },
  {
   "cell_type": "markdown",
   "id": "fd1dd333",
   "metadata": {
    "papermill": {
     "duration": 0.07228,
     "end_time": "2024-08-10T17:49:40.492674",
     "exception": false,
     "start_time": "2024-08-10T17:49:40.420394",
     "status": "completed"
    },
    "tags": []
   },
   "source": [
    "## Remove Outliers"
   ]
  },
  {
   "cell_type": "code",
   "execution_count": 50,
   "id": "0c5a543f",
   "metadata": {
    "execution": {
     "iopub.execute_input": "2024-08-10T17:49:40.639803Z",
     "iopub.status.busy": "2024-08-10T17:49:40.639385Z",
     "iopub.status.idle": "2024-08-10T17:49:40.672989Z",
     "shell.execute_reply": "2024-08-10T17:49:40.671762Z"
    },
    "papermill": {
     "duration": 0.110277,
     "end_time": "2024-08-10T17:49:40.675659",
     "exception": false,
     "start_time": "2024-08-10T17:49:40.565382",
     "status": "completed"
    },
    "tags": []
   },
   "outputs": [],
   "source": [
    "min_latitude = 33.0\n",
    "max_latitude = 34.5\n",
    "min_longitude = -119.0\n",
    "max_longitude = -117.0\n",
    "\n",
    "# Remove outliers in Latitude and Longitude\n",
    "data = data[(data['Latitude'] >= min_latitude) & (data['Latitude'] <= max_latitude)] \n",
    "data = data[(data['Longitude'] >= min_longitude) & (data['Longitude'] <= max_longitude)]\n",
    "\n",
    "\n",
    "# Remove unrealistic Victim_Age values\n",
    "data = data[(data['Victim_Age'] >= 0) & (data['Victim_Age'] <= 100)]"
   ]
  },
  {
   "cell_type": "markdown",
   "id": "61f2bffb",
   "metadata": {
    "papermill": {
     "duration": 0.074945,
     "end_time": "2024-08-10T17:49:40.824698",
     "exception": false,
     "start_time": "2024-08-10T17:49:40.749753",
     "status": "completed"
    },
    "tags": []
   },
   "source": [
    "## Detecting missing values and imputation for training dataset"
   ]
  },
  {
   "cell_type": "markdown",
   "id": "4769a50f",
   "metadata": {
    "papermill": {
     "duration": 0.087561,
     "end_time": "2024-08-10T17:49:40.986593",
     "exception": false,
     "start_time": "2024-08-10T17:49:40.899032",
     "status": "completed"
    },
    "tags": []
   },
   "source": [
    "## Filling missing values with placeholders like 'Unknown' or 'None' for categorical features and with median value for numerical features, to ensure that the models can handle the incomplete data without giving any error."
   ]
  },
  {
   "cell_type": "code",
   "execution_count": 51,
   "id": "336a572f",
   "metadata": {
    "execution": {
     "iopub.execute_input": "2024-08-10T17:49:41.144117Z",
     "iopub.status.busy": "2024-08-10T17:49:41.143709Z",
     "iopub.status.idle": "2024-08-10T17:49:41.175950Z",
     "shell.execute_reply": "2024-08-10T17:49:41.174683Z"
    },
    "papermill": {
     "duration": 0.108947,
     "end_time": "2024-08-10T17:49:41.178665",
     "exception": false,
     "start_time": "2024-08-10T17:49:41.069718",
     "status": "completed"
    },
    "tags": []
   },
   "outputs": [
    {
     "data": {
      "text/plain": [
       "Location                     0\n",
       "Cross_Street             16484\n",
       "Latitude                     0\n",
       "Longitude                    0\n",
       "Time_Occurred                0\n",
       "Area_ID                      0\n",
       "Area_Name                    0\n",
       "Reporting_District_no        0\n",
       "Part 1-2                     0\n",
       "Modus_Operandi            2740\n",
       "Victim_Age                   0\n",
       "Victim_Sex                2624\n",
       "Victim_Descent            2624\n",
       "Premise_Code                 0\n",
       "Premise_Description          5\n",
       "Weapon_Used_Code         12605\n",
       "Weapon_Description       12605\n",
       "Status                       0\n",
       "Status_Description           0\n",
       "Crime_Category               0\n",
       "Reported_Year                0\n",
       "Reported_Month               0\n",
       "Reported_Day                 0\n",
       "Occurred_Year                0\n",
       "Occurred_Month               0\n",
       "Occurred_Day                 0\n",
       "dtype: int64"
      ]
     },
     "execution_count": 51,
     "metadata": {},
     "output_type": "execute_result"
    }
   ],
   "source": [
    "# Checking for nan values in training dataset\n",
    "\n",
    "data.isnull().sum()"
   ]
  },
  {
   "cell_type": "code",
   "execution_count": 52,
   "id": "8617d048",
   "metadata": {
    "execution": {
     "iopub.execute_input": "2024-08-10T17:49:41.346754Z",
     "iopub.status.busy": "2024-08-10T17:49:41.345159Z",
     "iopub.status.idle": "2024-08-10T17:49:41.373536Z",
     "shell.execute_reply": "2024-08-10T17:49:41.372322Z"
    },
    "papermill": {
     "duration": 0.125114,
     "end_time": "2024-08-10T17:49:41.376295",
     "exception": false,
     "start_time": "2024-08-10T17:49:41.251181",
     "status": "completed"
    },
    "tags": []
   },
   "outputs": [],
   "source": [
    "# Filled NaN values for training dataset\n",
    "# Filled NaN Values in categorical columns with placeholders\n",
    "# Filled missing values in numerical columns with the median value\n",
    "\n",
    "\n",
    "data['Cross_Street'].fillna('Unknown', inplace=True)\n",
    "data['Modus_Operandi'].fillna('Unknown', inplace=True)\n",
    "data['Victim_Sex'].fillna('Unknown', inplace=True)\n",
    "data['Victim_Descent'].fillna('Unknown', inplace=True)\n",
    "data['Premise_Description'].fillna('Unknown', inplace=True)\n",
    "data['Weapon_Used_Code'].fillna(data['Weapon_Used_Code'].median(), inplace=True)\n",
    "data['Weapon_Description'].fillna('None', inplace=True)"
   ]
  },
  {
   "cell_type": "code",
   "execution_count": 53,
   "id": "299cb7f4",
   "metadata": {
    "execution": {
     "iopub.execute_input": "2024-08-10T17:49:41.522465Z",
     "iopub.status.busy": "2024-08-10T17:49:41.522022Z",
     "iopub.status.idle": "2024-08-10T17:49:41.556862Z",
     "shell.execute_reply": "2024-08-10T17:49:41.555498Z"
    },
    "papermill": {
     "duration": 0.110914,
     "end_time": "2024-08-10T17:49:41.559400",
     "exception": false,
     "start_time": "2024-08-10T17:49:41.448486",
     "status": "completed"
    },
    "tags": []
   },
   "outputs": [
    {
     "data": {
      "text/plain": [
       "Location                 0\n",
       "Cross_Street             0\n",
       "Latitude                 0\n",
       "Longitude                0\n",
       "Time_Occurred            0\n",
       "Area_ID                  0\n",
       "Area_Name                0\n",
       "Reporting_District_no    0\n",
       "Part 1-2                 0\n",
       "Modus_Operandi           0\n",
       "Victim_Age               0\n",
       "Victim_Sex               0\n",
       "Victim_Descent           0\n",
       "Premise_Code             0\n",
       "Premise_Description      0\n",
       "Weapon_Used_Code         0\n",
       "Weapon_Description       0\n",
       "Status                   0\n",
       "Status_Description       0\n",
       "Crime_Category           0\n",
       "Reported_Year            0\n",
       "Reported_Month           0\n",
       "Reported_Day             0\n",
       "Occurred_Year            0\n",
       "Occurred_Month           0\n",
       "Occurred_Day             0\n",
       "dtype: int64"
      ]
     },
     "execution_count": 53,
     "metadata": {},
     "output_type": "execute_result"
    }
   ],
   "source": [
    "# Verifing for NaN values in training dataset\n",
    "\n",
    "data.isnull().sum()"
   ]
  },
  {
   "cell_type": "markdown",
   "id": "ea63d5fd",
   "metadata": {
    "papermill": {
     "duration": 0.07248,
     "end_time": "2024-08-10T17:49:41.704431",
     "exception": false,
     "start_time": "2024-08-10T17:49:41.631951",
     "status": "completed"
    },
    "tags": []
   },
   "source": [
    "## Detecting missing values and imputation for test dataset"
   ]
  },
  {
   "cell_type": "code",
   "execution_count": 54,
   "id": "e6858213",
   "metadata": {
    "execution": {
     "iopub.execute_input": "2024-08-10T17:49:41.854541Z",
     "iopub.status.busy": "2024-08-10T17:49:41.854112Z",
     "iopub.status.idle": "2024-08-10T17:49:41.870807Z",
     "shell.execute_reply": "2024-08-10T17:49:41.869562Z"
    },
    "papermill": {
     "duration": 0.095528,
     "end_time": "2024-08-10T17:49:41.873398",
     "exception": false,
     "start_time": "2024-08-10T17:49:41.777870",
     "status": "completed"
    },
    "tags": []
   },
   "outputs": [
    {
     "data": {
      "text/plain": [
       "Location                    0\n",
       "Cross_Street             4190\n",
       "Latitude                    0\n",
       "Longitude                   0\n",
       "Time_Occurred               0\n",
       "Area_ID                     0\n",
       "Area_Name                   0\n",
       "Reporting_District_no       0\n",
       "Part 1-2                    0\n",
       "Modus_Operandi            684\n",
       "Victim_Age                  0\n",
       "Victim_Sex                643\n",
       "Victim_Descent            643\n",
       "Premise_Code                0\n",
       "Premise_Description         1\n",
       "Weapon_Used_Code         3153\n",
       "Weapon_Description       3153\n",
       "Status                      0\n",
       "Status_Description          0\n",
       "Reported_Year               0\n",
       "Reported_Month              0\n",
       "Reported_Day                0\n",
       "Occurred_Year               0\n",
       "Occurred_Month              0\n",
       "Occurred_Day                0\n",
       "dtype: int64"
      ]
     },
     "execution_count": 54,
     "metadata": {},
     "output_type": "execute_result"
    }
   ],
   "source": [
    "# Checking for nan values in test dataset\n",
    "\n",
    "test_data.isnull().sum()"
   ]
  },
  {
   "cell_type": "code",
   "execution_count": 55,
   "id": "76da3e17",
   "metadata": {
    "execution": {
     "iopub.execute_input": "2024-08-10T17:49:42.026788Z",
     "iopub.status.busy": "2024-08-10T17:49:42.025979Z",
     "iopub.status.idle": "2024-08-10T17:49:42.043084Z",
     "shell.execute_reply": "2024-08-10T17:49:42.042019Z"
    },
    "papermill": {
     "duration": 0.096223,
     "end_time": "2024-08-10T17:49:42.045803",
     "exception": false,
     "start_time": "2024-08-10T17:49:41.949580",
     "status": "completed"
    },
    "tags": []
   },
   "outputs": [],
   "source": [
    "# Filled NaN values for test dataset\n",
    "# Filled NaN Values in categorical columns with placeholders\n",
    "# Filled missing values in numerical columns with the median value\n",
    "\n",
    "\n",
    "test_data['Cross_Street'].fillna('Unknown', inplace=True)\n",
    "test_data['Modus_Operandi'].fillna('Unknown', inplace=True)\n",
    "test_data['Victim_Sex'].fillna('Unknown', inplace=True)\n",
    "test_data['Victim_Descent'].fillna('Unknown', inplace=True)\n",
    "test_data['Premise_Description'].fillna('Unknown', inplace=True)\n",
    "test_data['Weapon_Used_Code'].fillna(test_data['Weapon_Used_Code'].median(), inplace=True)\n",
    "test_data['Weapon_Description'].fillna('None', inplace=True)"
   ]
  },
  {
   "cell_type": "code",
   "execution_count": 56,
   "id": "8dca85cf",
   "metadata": {
    "execution": {
     "iopub.execute_input": "2024-08-10T17:49:42.194816Z",
     "iopub.status.busy": "2024-08-10T17:49:42.193656Z",
     "iopub.status.idle": "2024-08-10T17:49:42.210845Z",
     "shell.execute_reply": "2024-08-10T17:49:42.209434Z"
    },
    "papermill": {
     "duration": 0.095025,
     "end_time": "2024-08-10T17:49:42.213445",
     "exception": false,
     "start_time": "2024-08-10T17:49:42.118420",
     "status": "completed"
    },
    "tags": []
   },
   "outputs": [
    {
     "data": {
      "text/plain": [
       "Location                 0\n",
       "Cross_Street             0\n",
       "Latitude                 0\n",
       "Longitude                0\n",
       "Time_Occurred            0\n",
       "Area_ID                  0\n",
       "Area_Name                0\n",
       "Reporting_District_no    0\n",
       "Part 1-2                 0\n",
       "Modus_Operandi           0\n",
       "Victim_Age               0\n",
       "Victim_Sex               0\n",
       "Victim_Descent           0\n",
       "Premise_Code             0\n",
       "Premise_Description      0\n",
       "Weapon_Used_Code         0\n",
       "Weapon_Description       0\n",
       "Status                   0\n",
       "Status_Description       0\n",
       "Reported_Year            0\n",
       "Reported_Month           0\n",
       "Reported_Day             0\n",
       "Occurred_Year            0\n",
       "Occurred_Month           0\n",
       "Occurred_Day             0\n",
       "dtype: int64"
      ]
     },
     "execution_count": 56,
     "metadata": {},
     "output_type": "execute_result"
    }
   ],
   "source": [
    "# Verifing for NaN values in test dataset\n",
    "\n",
    "test_data.isnull().sum()"
   ]
  },
  {
   "cell_type": "code",
   "execution_count": 57,
   "id": "1885173d",
   "metadata": {
    "execution": {
     "iopub.execute_input": "2024-08-10T17:49:42.362895Z",
     "iopub.status.busy": "2024-08-10T17:49:42.361927Z",
     "iopub.status.idle": "2024-08-10T17:49:42.369354Z",
     "shell.execute_reply": "2024-08-10T17:49:42.368221Z"
    },
    "papermill": {
     "duration": 0.085273,
     "end_time": "2024-08-10T17:49:42.371992",
     "exception": false,
     "start_time": "2024-08-10T17:49:42.286719",
     "status": "completed"
    },
    "tags": []
   },
   "outputs": [
    {
     "data": {
      "text/plain": [
       "(19916, 26)"
      ]
     },
     "execution_count": 57,
     "metadata": {},
     "output_type": "execute_result"
    }
   ],
   "source": [
    "data.shape"
   ]
  },
  {
   "cell_type": "markdown",
   "id": "0ad98bb4",
   "metadata": {
    "papermill": {
     "duration": 0.073582,
     "end_time": "2024-08-10T17:49:42.520482",
     "exception": false,
     "start_time": "2024-08-10T17:49:42.446900",
     "status": "completed"
    },
    "tags": []
   },
   "source": [
    "## *Insights*\n",
    "## *Depending on the nature and proportion of missing values, considered imputation and removed some affected rows.*\n",
    "## *Crime cannot happen with negative age people, so age of a person must be greater than or equal to zero.*"
   ]
  },
  {
   "cell_type": "code",
   "execution_count": 58,
   "id": "2f889e18",
   "metadata": {
    "execution": {
     "iopub.execute_input": "2024-08-10T17:49:42.669302Z",
     "iopub.status.busy": "2024-08-10T17:49:42.668840Z",
     "iopub.status.idle": "2024-08-10T17:49:42.676178Z",
     "shell.execute_reply": "2024-08-10T17:49:42.675086Z"
    },
    "papermill": {
     "duration": 0.084457,
     "end_time": "2024-08-10T17:49:42.678528",
     "exception": false,
     "start_time": "2024-08-10T17:49:42.594071",
     "status": "completed"
    },
    "tags": []
   },
   "outputs": [
    {
     "data": {
      "text/plain": [
       "(19916, 26)"
      ]
     },
     "execution_count": 58,
     "metadata": {},
     "output_type": "execute_result"
    }
   ],
   "source": [
    "data.shape"
   ]
  },
  {
   "cell_type": "code",
   "execution_count": 59,
   "id": "49064e65",
   "metadata": {
    "execution": {
     "iopub.execute_input": "2024-08-10T17:49:42.828878Z",
     "iopub.status.busy": "2024-08-10T17:49:42.828469Z",
     "iopub.status.idle": "2024-08-10T17:49:42.835889Z",
     "shell.execute_reply": "2024-08-10T17:49:42.834762Z"
    },
    "papermill": {
     "duration": 0.084714,
     "end_time": "2024-08-10T17:49:42.838251",
     "exception": false,
     "start_time": "2024-08-10T17:49:42.753537",
     "status": "completed"
    },
    "tags": []
   },
   "outputs": [
    {
     "data": {
      "text/plain": [
       "(5000, 25)"
      ]
     },
     "execution_count": 59,
     "metadata": {},
     "output_type": "execute_result"
    }
   ],
   "source": [
    "test_data.shape"
   ]
  },
  {
   "cell_type": "code",
   "execution_count": 60,
   "id": "75671545",
   "metadata": {
    "execution": {
     "iopub.execute_input": "2024-08-10T17:49:42.990448Z",
     "iopub.status.busy": "2024-08-10T17:49:42.990022Z",
     "iopub.status.idle": "2024-08-10T17:49:43.027452Z",
     "shell.execute_reply": "2024-08-10T17:49:43.026312Z"
    },
    "papermill": {
     "duration": 0.116535,
     "end_time": "2024-08-10T17:49:43.030474",
     "exception": false,
     "start_time": "2024-08-10T17:49:42.913939",
     "status": "completed"
    },
    "tags": []
   },
   "outputs": [
    {
     "name": "stdout",
     "output_type": "stream",
     "text": [
      "<class 'pandas.core.frame.DataFrame'>\n",
      "Index: 19916 entries, 0 to 19999\n",
      "Data columns (total 26 columns):\n",
      " #   Column                 Non-Null Count  Dtype  \n",
      "---  ------                 --------------  -----  \n",
      " 0   Location               19916 non-null  object \n",
      " 1   Cross_Street           19916 non-null  object \n",
      " 2   Latitude               19916 non-null  float64\n",
      " 3   Longitude              19916 non-null  float64\n",
      " 4   Time_Occurred          19916 non-null  float64\n",
      " 5   Area_ID                19916 non-null  float64\n",
      " 6   Area_Name              19916 non-null  object \n",
      " 7   Reporting_District_no  19916 non-null  float64\n",
      " 8   Part 1-2               19916 non-null  float64\n",
      " 9   Modus_Operandi         19916 non-null  object \n",
      " 10  Victim_Age             19916 non-null  float64\n",
      " 11  Victim_Sex             19916 non-null  object \n",
      " 12  Victim_Descent         19916 non-null  object \n",
      " 13  Premise_Code           19916 non-null  float64\n",
      " 14  Premise_Description    19916 non-null  object \n",
      " 15  Weapon_Used_Code       19916 non-null  float64\n",
      " 16  Weapon_Description     19916 non-null  object \n",
      " 17  Status                 19916 non-null  object \n",
      " 18  Status_Description     19916 non-null  object \n",
      " 19  Crime_Category         19916 non-null  object \n",
      " 20  Reported_Year          19916 non-null  int32  \n",
      " 21  Reported_Month         19916 non-null  int32  \n",
      " 22  Reported_Day           19916 non-null  int32  \n",
      " 23  Occurred_Year          19916 non-null  int32  \n",
      " 24  Occurred_Month         19916 non-null  int32  \n",
      " 25  Occurred_Day           19916 non-null  int32  \n",
      "dtypes: float64(9), int32(6), object(11)\n",
      "memory usage: 3.6+ MB\n"
     ]
    }
   ],
   "source": [
    "data.info()"
   ]
  },
  {
   "cell_type": "markdown",
   "id": "fec6d75c",
   "metadata": {
    "papermill": {
     "duration": 0.073027,
     "end_time": "2024-08-10T17:49:43.176728",
     "exception": false,
     "start_time": "2024-08-10T17:49:43.103701",
     "status": "completed"
    },
    "tags": []
   },
   "source": [
    "## Numerical Features"
   ]
  },
  {
   "cell_type": "code",
   "execution_count": 61,
   "id": "fdd3615f",
   "metadata": {
    "execution": {
     "iopub.execute_input": "2024-08-10T17:49:43.327946Z",
     "iopub.status.busy": "2024-08-10T17:49:43.327543Z",
     "iopub.status.idle": "2024-08-10T17:49:43.337168Z",
     "shell.execute_reply": "2024-08-10T17:49:43.336025Z"
    },
    "papermill": {
     "duration": 0.088617,
     "end_time": "2024-08-10T17:49:43.339633",
     "exception": false,
     "start_time": "2024-08-10T17:49:43.251016",
     "status": "completed"
    },
    "tags": []
   },
   "outputs": [
    {
     "data": {
      "text/plain": [
       "Index(['Latitude', 'Longitude', 'Time_Occurred', 'Area_ID',\n",
       "       'Reporting_District_no', 'Part 1-2', 'Victim_Age', 'Premise_Code',\n",
       "       'Weapon_Used_Code', 'Reported_Year', 'Reported_Month', 'Reported_Day',\n",
       "       'Occurred_Year', 'Occurred_Month', 'Occurred_Day'],\n",
       "      dtype='object')"
      ]
     },
     "execution_count": 61,
     "metadata": {},
     "output_type": "execute_result"
    }
   ],
   "source": [
    "numeric_features = data.select_dtypes(include=['float64', 'int32']).columns\n",
    "numeric_features"
   ]
  },
  {
   "cell_type": "markdown",
   "id": "935f44bd",
   "metadata": {
    "papermill": {
     "duration": 0.075479,
     "end_time": "2024-08-10T17:49:43.492500",
     "exception": false,
     "start_time": "2024-08-10T17:49:43.417021",
     "status": "completed"
    },
    "tags": []
   },
   "source": [
    "## Categorical Features"
   ]
  },
  {
   "cell_type": "code",
   "execution_count": 62,
   "id": "d569923f",
   "metadata": {
    "execution": {
     "iopub.execute_input": "2024-08-10T17:49:43.643403Z",
     "iopub.status.busy": "2024-08-10T17:49:43.642959Z",
     "iopub.status.idle": "2024-08-10T17:49:43.653820Z",
     "shell.execute_reply": "2024-08-10T17:49:43.652621Z"
    },
    "papermill": {
     "duration": 0.08898,
     "end_time": "2024-08-10T17:49:43.656392",
     "exception": false,
     "start_time": "2024-08-10T17:49:43.567412",
     "status": "completed"
    },
    "tags": []
   },
   "outputs": [
    {
     "data": {
      "text/plain": [
       "Index(['Location', 'Cross_Street', 'Area_Name', 'Modus_Operandi', 'Victim_Sex',\n",
       "       'Victim_Descent', 'Premise_Description', 'Weapon_Description', 'Status',\n",
       "       'Status_Description', 'Crime_Category'],\n",
       "      dtype='object')"
      ]
     },
     "execution_count": 62,
     "metadata": {},
     "output_type": "execute_result"
    }
   ],
   "source": [
    "categorical_features = data.select_dtypes(exclude=['float64', 'int32']).columns\n",
    "categorical_features"
   ]
  },
  {
   "cell_type": "markdown",
   "id": "01ca4603",
   "metadata": {
    "papermill": {
     "duration": 0.075917,
     "end_time": "2024-08-10T17:49:43.809774",
     "exception": false,
     "start_time": "2024-08-10T17:49:43.733857",
     "status": "completed"
    },
    "tags": []
   },
   "source": [
    "## Encoded the target variable Crime_Category using Label Encoder"
   ]
  },
  {
   "cell_type": "code",
   "execution_count": 63,
   "id": "5a6b1458",
   "metadata": {
    "execution": {
     "iopub.execute_input": "2024-08-10T17:49:43.968161Z",
     "iopub.status.busy": "2024-08-10T17:49:43.967728Z",
     "iopub.status.idle": "2024-08-10T17:49:43.980917Z",
     "shell.execute_reply": "2024-08-10T17:49:43.979742Z"
    },
    "papermill": {
     "duration": 0.096888,
     "end_time": "2024-08-10T17:49:43.983722",
     "exception": false,
     "start_time": "2024-08-10T17:49:43.886834",
     "status": "completed"
    },
    "tags": []
   },
   "outputs": [],
   "source": [
    "# Encoded the target variable Crime_Category\n",
    "\n",
    "label_encoder_crime=LabelEncoder()\n",
    "data['Crime_Category']=label_encoder_crime.fit_transform(data['Crime_Category'])\n"
   ]
  },
  {
   "cell_type": "markdown",
   "id": "e3cb32ed",
   "metadata": {
    "papermill": {
     "duration": 0.074366,
     "end_time": "2024-08-10T17:49:44.132367",
     "exception": false,
     "start_time": "2024-08-10T17:49:44.058001",
     "status": "completed"
    },
    "tags": []
   },
   "source": [
    "## *Insights*\n",
    "## *Label encoding is a preprocessing step that is used to convert categorical data (labels) into a numerical format that can be used by machine learning algorithms. This is important because many algorithms can only process numerical input.*\n"
   ]
  },
  {
   "cell_type": "markdown",
   "id": "a6ba042c",
   "metadata": {
    "papermill": {
     "duration": 0.076345,
     "end_time": "2024-08-10T17:49:44.285482",
     "exception": false,
     "start_time": "2024-08-10T17:49:44.209137",
     "status": "completed"
    },
    "tags": []
   },
   "source": [
    "## Encoded the categorical features using Label Encoder"
   ]
  },
  {
   "cell_type": "code",
   "execution_count": 64,
   "id": "410c8e91",
   "metadata": {
    "execution": {
     "iopub.execute_input": "2024-08-10T17:49:44.438511Z",
     "iopub.status.busy": "2024-08-10T17:49:44.437965Z",
     "iopub.status.idle": "2024-08-10T17:49:51.061238Z",
     "shell.execute_reply": "2024-08-10T17:49:51.060315Z"
    },
    "papermill": {
     "duration": 6.704231,
     "end_time": "2024-08-10T17:49:51.063949",
     "exception": false,
     "start_time": "2024-08-10T17:49:44.359718",
     "status": "completed"
    },
    "scrolled": true,
    "tags": []
   },
   "outputs": [],
   "source": [
    "# Encoded the categorical features\n",
    "\n",
    "\n",
    "cat_columns = ['Location','Cross_Street','Area_Name','Modus_Operandi',\n",
    "                'Victim_Sex','Victim_Descent','Premise_Description',\n",
    "                'Weapon_Description','Status','Status_Description']\n",
    "\n",
    "label_encoder = {}\n",
    "for col in cat_columns:\n",
    "    lb_enco_cat = LabelEncoder()\n",
    "    data[col] = lb_enco_cat.fit_transform(data[col])\n",
    "    \n",
    "    #store the label encoder\n",
    "    label_encoder[col] = lb_enco_cat\n",
    "    \n",
    "\n",
    "    # handle unseen labels in test data\n",
    "    test_data[col] = test_data[col].map(lambda x: '<unknown>' if x not in lb_enco_cat.classes_ else x)\n",
    "    \n",
    "    lb_enco_cat.classes_ = np.append(lb_enco_cat.classes_, '<unknown>')\n",
    "    test_data[col] = lb_enco_cat.transform(test_data[col])"
   ]
  },
  {
   "cell_type": "markdown",
   "id": "9269772a",
   "metadata": {
    "papermill": {
     "duration": 0.07323,
     "end_time": "2024-08-10T17:49:51.210680",
     "exception": false,
     "start_time": "2024-08-10T17:49:51.137450",
     "status": "completed"
    },
    "tags": []
   },
   "source": [
    "## Scaling the numerical features"
   ]
  },
  {
   "cell_type": "markdown",
   "id": "d1563f85",
   "metadata": {
    "papermill": {
     "duration": 0.073606,
     "end_time": "2024-08-10T17:49:51.357999",
     "exception": false,
     "start_time": "2024-08-10T17:49:51.284393",
     "status": "completed"
    },
    "tags": []
   },
   "source": [
    "## Scaling numerical features helps in balancing the importance of features and ensure that the models converges faster and performs better."
   ]
  },
  {
   "cell_type": "code",
   "execution_count": 65,
   "id": "6af56021",
   "metadata": {
    "execution": {
     "iopub.execute_input": "2024-08-10T17:49:51.517522Z",
     "iopub.status.busy": "2024-08-10T17:49:51.516213Z",
     "iopub.status.idle": "2024-08-10T17:49:51.540527Z",
     "shell.execute_reply": "2024-08-10T17:49:51.539357Z"
    },
    "papermill": {
     "duration": 0.106589,
     "end_time": "2024-08-10T17:49:51.543512",
     "exception": false,
     "start_time": "2024-08-10T17:49:51.436923",
     "status": "completed"
    },
    "tags": []
   },
   "outputs": [],
   "source": [
    "# Scaling the numerical features\n",
    "\n",
    "scaler = StandardScaler()\n",
    "num_columns = ['Latitude','Longitude','Time_Occurred','Area_ID',\n",
    "               'Reporting_District_no','Part 1-2','Victim_Age',\n",
    "               'Premise_Code','Weapon_Used_Code','Reported_Year',\n",
    "               'Reported_Month','Reported_Day','Occurred_Year',\n",
    "               'Occurred_Month','Occurred_Day']\n",
    "\n",
    "data[num_columns] = scaler.fit_transform(data[num_columns])\n",
    "test_data[num_columns] = scaler.transform(test_data[num_columns])"
   ]
  },
  {
   "cell_type": "code",
   "execution_count": 66,
   "id": "4843a47c",
   "metadata": {
    "execution": {
     "iopub.execute_input": "2024-08-10T17:49:51.695362Z",
     "iopub.status.busy": "2024-08-10T17:49:51.694952Z",
     "iopub.status.idle": "2024-08-10T17:49:51.726391Z",
     "shell.execute_reply": "2024-08-10T17:49:51.725309Z"
    },
    "papermill": {
     "duration": 0.110378,
     "end_time": "2024-08-10T17:49:51.729092",
     "exception": false,
     "start_time": "2024-08-10T17:49:51.618714",
     "status": "completed"
    },
    "tags": []
   },
   "outputs": [
    {
     "data": {
      "text/html": [
       "<div>\n",
       "<style scoped>\n",
       "    .dataframe tbody tr th:only-of-type {\n",
       "        vertical-align: middle;\n",
       "    }\n",
       "\n",
       "    .dataframe tbody tr th {\n",
       "        vertical-align: top;\n",
       "    }\n",
       "\n",
       "    .dataframe thead th {\n",
       "        text-align: right;\n",
       "    }\n",
       "</style>\n",
       "<table border=\"1\" class=\"dataframe\">\n",
       "  <thead>\n",
       "    <tr style=\"text-align: right;\">\n",
       "      <th></th>\n",
       "      <th>Location</th>\n",
       "      <th>Cross_Street</th>\n",
       "      <th>Latitude</th>\n",
       "      <th>Longitude</th>\n",
       "      <th>Time_Occurred</th>\n",
       "      <th>Area_ID</th>\n",
       "      <th>Area_Name</th>\n",
       "      <th>Reporting_District_no</th>\n",
       "      <th>Part 1-2</th>\n",
       "      <th>Modus_Operandi</th>\n",
       "      <th>Victim_Age</th>\n",
       "      <th>...</th>\n",
       "      <th>Weapon_Used_Code</th>\n",
       "      <th>Weapon_Description</th>\n",
       "      <th>Status</th>\n",
       "      <th>Status_Description</th>\n",
       "      <th>Crime_Category</th>\n",
       "      <th>Reported_Year</th>\n",
       "      <th>Reported_Month</th>\n",
       "      <th>Reported_Day</th>\n",
       "      <th>Occurred_Year</th>\n",
       "      <th>Occurred_Month</th>\n",
       "      <th>Occurred_Day</th>\n",
       "    </tr>\n",
       "  </thead>\n",
       "  <tbody>\n",
       "    <tr>\n",
       "      <th>0</th>\n",
       "      <td>7224</td>\n",
       "      <td>1321</td>\n",
       "      <td>0.693081</td>\n",
       "      <td>-0.351462</td>\n",
       "      <td>0.691622</td>\n",
       "      <td>0.690506</td>\n",
       "      <td>8</td>\n",
       "      <td>0.718402</td>\n",
       "      <td>-0.845911</td>\n",
       "      <td>2635</td>\n",
       "      <td>2.051516</td>\n",
       "      <td>...</td>\n",
       "      <td>0.165459</td>\n",
       "      <td>29</td>\n",
       "      <td>2</td>\n",
       "      <td>2</td>\n",
       "      <td>4</td>\n",
       "      <td>-0.184068</td>\n",
       "      <td>-0.986057</td>\n",
       "      <td>-0.769102</td>\n",
       "      <td>0.0</td>\n",
       "      <td>-0.990429</td>\n",
       "      <td>-1.069774</td>\n",
       "    </tr>\n",
       "    <tr>\n",
       "      <th>1</th>\n",
       "      <td>7286</td>\n",
       "      <td>167</td>\n",
       "      <td>-0.623938</td>\n",
       "      <td>1.116388</td>\n",
       "      <td>-0.012004</td>\n",
       "      <td>0.358978</td>\n",
       "      <td>9</td>\n",
       "      <td>0.393515</td>\n",
       "      <td>-0.845911</td>\n",
       "      <td>4421</td>\n",
       "      <td>0.496439</td>\n",
       "      <td>...</td>\n",
       "      <td>0.165459</td>\n",
       "      <td>48</td>\n",
       "      <td>2</td>\n",
       "      <td>2</td>\n",
       "      <td>4</td>\n",
       "      <td>-0.184068</td>\n",
       "      <td>-1.275626</td>\n",
       "      <td>1.271047</td>\n",
       "      <td>0.0</td>\n",
       "      <td>-1.279411</td>\n",
       "      <td>1.278372</td>\n",
       "    </tr>\n",
       "    <tr>\n",
       "      <th>2</th>\n",
       "      <td>8508</td>\n",
       "      <td>1321</td>\n",
       "      <td>-0.550770</td>\n",
       "      <td>0.863210</td>\n",
       "      <td>-1.156363</td>\n",
       "      <td>0.358978</td>\n",
       "      <td>9</td>\n",
       "      <td>0.353733</td>\n",
       "      <td>1.182157</td>\n",
       "      <td>747</td>\n",
       "      <td>1.685616</td>\n",
       "      <td>...</td>\n",
       "      <td>0.165459</td>\n",
       "      <td>29</td>\n",
       "      <td>2</td>\n",
       "      <td>2</td>\n",
       "      <td>4</td>\n",
       "      <td>-0.184068</td>\n",
       "      <td>0.461790</td>\n",
       "      <td>0.590997</td>\n",
       "      <td>0.0</td>\n",
       "      <td>0.454484</td>\n",
       "      <td>0.607473</td>\n",
       "    </tr>\n",
       "    <tr>\n",
       "      <th>3</th>\n",
       "      <td>2873</td>\n",
       "      <td>1321</td>\n",
       "      <td>1.954564</td>\n",
       "      <td>-1.008563</td>\n",
       "      <td>0.691622</td>\n",
       "      <td>1.353562</td>\n",
       "      <td>7</td>\n",
       "      <td>1.316791</td>\n",
       "      <td>-0.845911</td>\n",
       "      <td>777</td>\n",
       "      <td>1.411191</td>\n",
       "      <td>...</td>\n",
       "      <td>0.165459</td>\n",
       "      <td>29</td>\n",
       "      <td>2</td>\n",
       "      <td>2</td>\n",
       "      <td>4</td>\n",
       "      <td>-0.184068</td>\n",
       "      <td>1.330498</td>\n",
       "      <td>-0.882444</td>\n",
       "      <td>0.0</td>\n",
       "      <td>1.321432</td>\n",
       "      <td>-1.069774</td>\n",
       "    </tr>\n",
       "    <tr>\n",
       "      <th>4</th>\n",
       "      <td>9565</td>\n",
       "      <td>1321</td>\n",
       "      <td>-0.836389</td>\n",
       "      <td>0.607134</td>\n",
       "      <td>-0.344487</td>\n",
       "      <td>0.193214</td>\n",
       "      <td>0</td>\n",
       "      <td>0.191289</td>\n",
       "      <td>-0.845911</td>\n",
       "      <td>3409</td>\n",
       "      <td>-1.378800</td>\n",
       "      <td>...</td>\n",
       "      <td>0.165459</td>\n",
       "      <td>48</td>\n",
       "      <td>2</td>\n",
       "      <td>2</td>\n",
       "      <td>4</td>\n",
       "      <td>-0.184068</td>\n",
       "      <td>-1.275626</td>\n",
       "      <td>1.044364</td>\n",
       "      <td>0.0</td>\n",
       "      <td>-1.279411</td>\n",
       "      <td>1.054739</td>\n",
       "    </tr>\n",
       "  </tbody>\n",
       "</table>\n",
       "<p>5 rows × 26 columns</p>\n",
       "</div>"
      ],
      "text/plain": [
       "   Location  Cross_Street  Latitude  Longitude  Time_Occurred   Area_ID  \\\n",
       "0      7224          1321  0.693081  -0.351462       0.691622  0.690506   \n",
       "1      7286           167 -0.623938   1.116388      -0.012004  0.358978   \n",
       "2      8508          1321 -0.550770   0.863210      -1.156363  0.358978   \n",
       "3      2873          1321  1.954564  -1.008563       0.691622  1.353562   \n",
       "4      9565          1321 -0.836389   0.607134      -0.344487  0.193214   \n",
       "\n",
       "   Area_Name  Reporting_District_no  Part 1-2  Modus_Operandi  Victim_Age  \\\n",
       "0          8               0.718402 -0.845911            2635    2.051516   \n",
       "1          9               0.393515 -0.845911            4421    0.496439   \n",
       "2          9               0.353733  1.182157             747    1.685616   \n",
       "3          7               1.316791 -0.845911             777    1.411191   \n",
       "4          0               0.191289 -0.845911            3409   -1.378800   \n",
       "\n",
       "   ...  Weapon_Used_Code  Weapon_Description  Status  Status_Description  \\\n",
       "0  ...          0.165459                  29       2                   2   \n",
       "1  ...          0.165459                  48       2                   2   \n",
       "2  ...          0.165459                  29       2                   2   \n",
       "3  ...          0.165459                  29       2                   2   \n",
       "4  ...          0.165459                  48       2                   2   \n",
       "\n",
       "   Crime_Category  Reported_Year  Reported_Month  Reported_Day  Occurred_Year  \\\n",
       "0               4      -0.184068       -0.986057     -0.769102            0.0   \n",
       "1               4      -0.184068       -1.275626      1.271047            0.0   \n",
       "2               4      -0.184068        0.461790      0.590997            0.0   \n",
       "3               4      -0.184068        1.330498     -0.882444            0.0   \n",
       "4               4      -0.184068       -1.275626      1.044364            0.0   \n",
       "\n",
       "   Occurred_Month  Occurred_Day  \n",
       "0       -0.990429     -1.069774  \n",
       "1       -1.279411      1.278372  \n",
       "2        0.454484      0.607473  \n",
       "3        1.321432     -1.069774  \n",
       "4       -1.279411      1.054739  \n",
       "\n",
       "[5 rows x 26 columns]"
      ]
     },
     "execution_count": 66,
     "metadata": {},
     "output_type": "execute_result"
    }
   ],
   "source": [
    "data.head()"
   ]
  },
  {
   "cell_type": "code",
   "execution_count": 67,
   "id": "cec116e4",
   "metadata": {
    "execution": {
     "iopub.execute_input": "2024-08-10T17:49:51.882004Z",
     "iopub.status.busy": "2024-08-10T17:49:51.881588Z",
     "iopub.status.idle": "2024-08-10T17:49:51.915811Z",
     "shell.execute_reply": "2024-08-10T17:49:51.914576Z"
    },
    "papermill": {
     "duration": 0.114376,
     "end_time": "2024-08-10T17:49:51.918984",
     "exception": false,
     "start_time": "2024-08-10T17:49:51.804608",
     "status": "completed"
    },
    "tags": []
   },
   "outputs": [
    {
     "data": {
      "text/html": [
       "<div>\n",
       "<style scoped>\n",
       "    .dataframe tbody tr th:only-of-type {\n",
       "        vertical-align: middle;\n",
       "    }\n",
       "\n",
       "    .dataframe tbody tr th {\n",
       "        vertical-align: top;\n",
       "    }\n",
       "\n",
       "    .dataframe thead th {\n",
       "        text-align: right;\n",
       "    }\n",
       "</style>\n",
       "<table border=\"1\" class=\"dataframe\">\n",
       "  <thead>\n",
       "    <tr style=\"text-align: right;\">\n",
       "      <th></th>\n",
       "      <th>Location</th>\n",
       "      <th>Cross_Street</th>\n",
       "      <th>Latitude</th>\n",
       "      <th>Longitude</th>\n",
       "      <th>Time_Occurred</th>\n",
       "      <th>Area_ID</th>\n",
       "      <th>Area_Name</th>\n",
       "      <th>Reporting_District_no</th>\n",
       "      <th>Part 1-2</th>\n",
       "      <th>Modus_Operandi</th>\n",
       "      <th>Victim_Age</th>\n",
       "      <th>...</th>\n",
       "      <th>Premise_Description</th>\n",
       "      <th>Weapon_Used_Code</th>\n",
       "      <th>Weapon_Description</th>\n",
       "      <th>Status</th>\n",
       "      <th>Status_Description</th>\n",
       "      <th>Reported_Year</th>\n",
       "      <th>Reported_Month</th>\n",
       "      <th>Reported_Day</th>\n",
       "      <th>Occurred_Year</th>\n",
       "      <th>Occurred_Month</th>\n",
       "      <th>Occurred_Day</th>\n",
       "    </tr>\n",
       "  </thead>\n",
       "  <tbody>\n",
       "    <tr>\n",
       "      <th>0</th>\n",
       "      <td>12375</td>\n",
       "      <td>1321</td>\n",
       "      <td>-0.535784</td>\n",
       "      <td>0.484411</td>\n",
       "      <td>1.000908</td>\n",
       "      <td>-1.298662</td>\n",
       "      <td>15</td>\n",
       "      <td>-1.249154</td>\n",
       "      <td>1.182157</td>\n",
       "      <td>10452</td>\n",
       "      <td>-0.098149</td>\n",
       "      <td>...</td>\n",
       "      <td>177</td>\n",
       "      <td>0.165459</td>\n",
       "      <td>48</td>\n",
       "      <td>2</td>\n",
       "      <td>2</td>\n",
       "      <td>-0.184068</td>\n",
       "      <td>-0.986057</td>\n",
       "      <td>-1.449152</td>\n",
       "      <td>0.0</td>\n",
       "      <td>-0.990429</td>\n",
       "      <td>-1.405224</td>\n",
       "    </tr>\n",
       "    <tr>\n",
       "      <th>1</th>\n",
       "      <td>221</td>\n",
       "      <td>1321</td>\n",
       "      <td>-0.008624</td>\n",
       "      <td>0.499872</td>\n",
       "      <td>0.536979</td>\n",
       "      <td>1.519326</td>\n",
       "      <td>11</td>\n",
       "      <td>1.465974</td>\n",
       "      <td>-0.845911</td>\n",
       "      <td>1616</td>\n",
       "      <td>-0.189624</td>\n",
       "      <td>...</td>\n",
       "      <td>139</td>\n",
       "      <td>0.165459</td>\n",
       "      <td>29</td>\n",
       "      <td>2</td>\n",
       "      <td>2</td>\n",
       "      <td>-0.184068</td>\n",
       "      <td>-0.117349</td>\n",
       "      <td>-1.675835</td>\n",
       "      <td>0.0</td>\n",
       "      <td>-0.701446</td>\n",
       "      <td>1.054739</td>\n",
       "    </tr>\n",
       "    <tr>\n",
       "      <th>2</th>\n",
       "      <td>5773</td>\n",
       "      <td>1321</td>\n",
       "      <td>-1.223384</td>\n",
       "      <td>0.822625</td>\n",
       "      <td>-0.700166</td>\n",
       "      <td>1.187798</td>\n",
       "      <td>14</td>\n",
       "      <td>1.184184</td>\n",
       "      <td>1.182157</td>\n",
       "      <td>10452</td>\n",
       "      <td>1.456928</td>\n",
       "      <td>...</td>\n",
       "      <td>70</td>\n",
       "      <td>0.165459</td>\n",
       "      <td>29</td>\n",
       "      <td>2</td>\n",
       "      <td>2</td>\n",
       "      <td>-0.184068</td>\n",
       "      <td>0.461790</td>\n",
       "      <td>1.384388</td>\n",
       "      <td>0.0</td>\n",
       "      <td>0.454484</td>\n",
       "      <td>1.278372</td>\n",
       "    </tr>\n",
       "    <tr>\n",
       "      <th>3</th>\n",
       "      <td>2140</td>\n",
       "      <td>1321</td>\n",
       "      <td>-0.210496</td>\n",
       "      <td>0.100779</td>\n",
       "      <td>1.310194</td>\n",
       "      <td>-0.635606</td>\n",
       "      <td>20</td>\n",
       "      <td>-0.604353</td>\n",
       "      <td>-0.845911</td>\n",
       "      <td>10451</td>\n",
       "      <td>-1.378800</td>\n",
       "      <td>...</td>\n",
       "      <td>156</td>\n",
       "      <td>0.165459</td>\n",
       "      <td>29</td>\n",
       "      <td>2</td>\n",
       "      <td>2</td>\n",
       "      <td>-0.184068</td>\n",
       "      <td>1.620068</td>\n",
       "      <td>0.817680</td>\n",
       "      <td>0.0</td>\n",
       "      <td>1.610415</td>\n",
       "      <td>-1.405224</td>\n",
       "    </tr>\n",
       "    <tr>\n",
       "      <th>4</th>\n",
       "      <td>12375</td>\n",
       "      <td>1321</td>\n",
       "      <td>0.771538</td>\n",
       "      <td>-0.152398</td>\n",
       "      <td>-1.890918</td>\n",
       "      <td>0.690506</td>\n",
       "      <td>8</td>\n",
       "      <td>0.705141</td>\n",
       "      <td>1.182157</td>\n",
       "      <td>7434</td>\n",
       "      <td>0.313489</td>\n",
       "      <td>...</td>\n",
       "      <td>177</td>\n",
       "      <td>0.165459</td>\n",
       "      <td>29</td>\n",
       "      <td>1</td>\n",
       "      <td>1</td>\n",
       "      <td>-0.184068</td>\n",
       "      <td>0.461790</td>\n",
       "      <td>1.611072</td>\n",
       "      <td>0.0</td>\n",
       "      <td>0.454484</td>\n",
       "      <td>1.502005</td>\n",
       "    </tr>\n",
       "  </tbody>\n",
       "</table>\n",
       "<p>5 rows × 25 columns</p>\n",
       "</div>"
      ],
      "text/plain": [
       "   Location  Cross_Street  Latitude  Longitude  Time_Occurred   Area_ID  \\\n",
       "0     12375          1321 -0.535784   0.484411       1.000908 -1.298662   \n",
       "1       221          1321 -0.008624   0.499872       0.536979  1.519326   \n",
       "2      5773          1321 -1.223384   0.822625      -0.700166  1.187798   \n",
       "3      2140          1321 -0.210496   0.100779       1.310194 -0.635606   \n",
       "4     12375          1321  0.771538  -0.152398      -1.890918  0.690506   \n",
       "\n",
       "   Area_Name  Reporting_District_no  Part 1-2  Modus_Operandi  Victim_Age  \\\n",
       "0         15              -1.249154  1.182157           10452   -0.098149   \n",
       "1         11               1.465974 -0.845911            1616   -0.189624   \n",
       "2         14               1.184184  1.182157           10452    1.456928   \n",
       "3         20              -0.604353 -0.845911           10451   -1.378800   \n",
       "4          8               0.705141  1.182157            7434    0.313489   \n",
       "\n",
       "   ...  Premise_Description  Weapon_Used_Code  Weapon_Description  Status  \\\n",
       "0  ...                  177          0.165459                  48       2   \n",
       "1  ...                  139          0.165459                  29       2   \n",
       "2  ...                   70          0.165459                  29       2   \n",
       "3  ...                  156          0.165459                  29       2   \n",
       "4  ...                  177          0.165459                  29       1   \n",
       "\n",
       "   Status_Description  Reported_Year  Reported_Month  Reported_Day  \\\n",
       "0                   2      -0.184068       -0.986057     -1.449152   \n",
       "1                   2      -0.184068       -0.117349     -1.675835   \n",
       "2                   2      -0.184068        0.461790      1.384388   \n",
       "3                   2      -0.184068        1.620068      0.817680   \n",
       "4                   1      -0.184068        0.461790      1.611072   \n",
       "\n",
       "   Occurred_Year  Occurred_Month  Occurred_Day  \n",
       "0            0.0       -0.990429     -1.405224  \n",
       "1            0.0       -0.701446      1.054739  \n",
       "2            0.0        0.454484      1.278372  \n",
       "3            0.0        1.610415     -1.405224  \n",
       "4            0.0        0.454484      1.502005  \n",
       "\n",
       "[5 rows x 25 columns]"
      ]
     },
     "execution_count": 67,
     "metadata": {},
     "output_type": "execute_result"
    }
   ],
   "source": [
    "test_data.head()"
   ]
  },
  {
   "cell_type": "markdown",
   "id": "9d736de3",
   "metadata": {
    "papermill": {
     "duration": 0.075293,
     "end_time": "2024-08-10T17:49:52.073827",
     "exception": false,
     "start_time": "2024-08-10T17:49:51.998534",
     "status": "completed"
    },
    "tags": []
   },
   "source": [
    "## Drop the label from training dataset"
   ]
  },
  {
   "cell_type": "code",
   "execution_count": 68,
   "id": "5554a335",
   "metadata": {
    "execution": {
     "iopub.execute_input": "2024-08-10T17:49:52.226626Z",
     "iopub.status.busy": "2024-08-10T17:49:52.226192Z",
     "iopub.status.idle": "2024-08-10T17:49:52.258917Z",
     "shell.execute_reply": "2024-08-10T17:49:52.257600Z"
    },
    "papermill": {
     "duration": 0.112808,
     "end_time": "2024-08-10T17:49:52.261692",
     "exception": false,
     "start_time": "2024-08-10T17:49:52.148884",
     "status": "completed"
    },
    "tags": []
   },
   "outputs": [
    {
     "data": {
      "text/html": [
       "<div>\n",
       "<style scoped>\n",
       "    .dataframe tbody tr th:only-of-type {\n",
       "        vertical-align: middle;\n",
       "    }\n",
       "\n",
       "    .dataframe tbody tr th {\n",
       "        vertical-align: top;\n",
       "    }\n",
       "\n",
       "    .dataframe thead th {\n",
       "        text-align: right;\n",
       "    }\n",
       "</style>\n",
       "<table border=\"1\" class=\"dataframe\">\n",
       "  <thead>\n",
       "    <tr style=\"text-align: right;\">\n",
       "      <th></th>\n",
       "      <th>Location</th>\n",
       "      <th>Cross_Street</th>\n",
       "      <th>Latitude</th>\n",
       "      <th>Longitude</th>\n",
       "      <th>Time_Occurred</th>\n",
       "      <th>Area_ID</th>\n",
       "      <th>Area_Name</th>\n",
       "      <th>Reporting_District_no</th>\n",
       "      <th>Part 1-2</th>\n",
       "      <th>Modus_Operandi</th>\n",
       "      <th>Victim_Age</th>\n",
       "      <th>...</th>\n",
       "      <th>Premise_Description</th>\n",
       "      <th>Weapon_Used_Code</th>\n",
       "      <th>Weapon_Description</th>\n",
       "      <th>Status</th>\n",
       "      <th>Status_Description</th>\n",
       "      <th>Reported_Year</th>\n",
       "      <th>Reported_Month</th>\n",
       "      <th>Reported_Day</th>\n",
       "      <th>Occurred_Year</th>\n",
       "      <th>Occurred_Month</th>\n",
       "      <th>Occurred_Day</th>\n",
       "    </tr>\n",
       "  </thead>\n",
       "  <tbody>\n",
       "    <tr>\n",
       "      <th>0</th>\n",
       "      <td>7224</td>\n",
       "      <td>1321</td>\n",
       "      <td>0.693081</td>\n",
       "      <td>-0.351462</td>\n",
       "      <td>0.691622</td>\n",
       "      <td>0.690506</td>\n",
       "      <td>8</td>\n",
       "      <td>0.718402</td>\n",
       "      <td>-0.845911</td>\n",
       "      <td>2635</td>\n",
       "      <td>2.051516</td>\n",
       "      <td>...</td>\n",
       "      <td>186</td>\n",
       "      <td>0.165459</td>\n",
       "      <td>29</td>\n",
       "      <td>2</td>\n",
       "      <td>2</td>\n",
       "      <td>-0.184068</td>\n",
       "      <td>-0.986057</td>\n",
       "      <td>-0.769102</td>\n",
       "      <td>0.0</td>\n",
       "      <td>-0.990429</td>\n",
       "      <td>-1.069774</td>\n",
       "    </tr>\n",
       "    <tr>\n",
       "      <th>1</th>\n",
       "      <td>7286</td>\n",
       "      <td>167</td>\n",
       "      <td>-0.623938</td>\n",
       "      <td>1.116388</td>\n",
       "      <td>-0.012004</td>\n",
       "      <td>0.358978</td>\n",
       "      <td>9</td>\n",
       "      <td>0.393515</td>\n",
       "      <td>-0.845911</td>\n",
       "      <td>4421</td>\n",
       "      <td>0.496439</td>\n",
       "      <td>...</td>\n",
       "      <td>188</td>\n",
       "      <td>0.165459</td>\n",
       "      <td>48</td>\n",
       "      <td>2</td>\n",
       "      <td>2</td>\n",
       "      <td>-0.184068</td>\n",
       "      <td>-1.275626</td>\n",
       "      <td>1.271047</td>\n",
       "      <td>0.0</td>\n",
       "      <td>-1.279411</td>\n",
       "      <td>1.278372</td>\n",
       "    </tr>\n",
       "    <tr>\n",
       "      <th>2</th>\n",
       "      <td>8508</td>\n",
       "      <td>1321</td>\n",
       "      <td>-0.550770</td>\n",
       "      <td>0.863210</td>\n",
       "      <td>-1.156363</td>\n",
       "      <td>0.358978</td>\n",
       "      <td>9</td>\n",
       "      <td>0.353733</td>\n",
       "      <td>1.182157</td>\n",
       "      <td>747</td>\n",
       "      <td>1.685616</td>\n",
       "      <td>...</td>\n",
       "      <td>177</td>\n",
       "      <td>0.165459</td>\n",
       "      <td>29</td>\n",
       "      <td>2</td>\n",
       "      <td>2</td>\n",
       "      <td>-0.184068</td>\n",
       "      <td>0.461790</td>\n",
       "      <td>0.590997</td>\n",
       "      <td>0.0</td>\n",
       "      <td>0.454484</td>\n",
       "      <td>0.607473</td>\n",
       "    </tr>\n",
       "    <tr>\n",
       "      <th>3</th>\n",
       "      <td>2873</td>\n",
       "      <td>1321</td>\n",
       "      <td>1.954564</td>\n",
       "      <td>-1.008563</td>\n",
       "      <td>0.691622</td>\n",
       "      <td>1.353562</td>\n",
       "      <td>7</td>\n",
       "      <td>1.316791</td>\n",
       "      <td>-0.845911</td>\n",
       "      <td>777</td>\n",
       "      <td>1.411191</td>\n",
       "      <td>...</td>\n",
       "      <td>186</td>\n",
       "      <td>0.165459</td>\n",
       "      <td>29</td>\n",
       "      <td>2</td>\n",
       "      <td>2</td>\n",
       "      <td>-0.184068</td>\n",
       "      <td>1.330498</td>\n",
       "      <td>-0.882444</td>\n",
       "      <td>0.0</td>\n",
       "      <td>1.321432</td>\n",
       "      <td>-1.069774</td>\n",
       "    </tr>\n",
       "    <tr>\n",
       "      <th>4</th>\n",
       "      <td>9565</td>\n",
       "      <td>1321</td>\n",
       "      <td>-0.836389</td>\n",
       "      <td>0.607134</td>\n",
       "      <td>-0.344487</td>\n",
       "      <td>0.193214</td>\n",
       "      <td>0</td>\n",
       "      <td>0.191289</td>\n",
       "      <td>-0.845911</td>\n",
       "      <td>3409</td>\n",
       "      <td>-1.378800</td>\n",
       "      <td>...</td>\n",
       "      <td>88</td>\n",
       "      <td>0.165459</td>\n",
       "      <td>48</td>\n",
       "      <td>2</td>\n",
       "      <td>2</td>\n",
       "      <td>-0.184068</td>\n",
       "      <td>-1.275626</td>\n",
       "      <td>1.044364</td>\n",
       "      <td>0.0</td>\n",
       "      <td>-1.279411</td>\n",
       "      <td>1.054739</td>\n",
       "    </tr>\n",
       "  </tbody>\n",
       "</table>\n",
       "<p>5 rows × 25 columns</p>\n",
       "</div>"
      ],
      "text/plain": [
       "   Location  Cross_Street  Latitude  Longitude  Time_Occurred   Area_ID  \\\n",
       "0      7224          1321  0.693081  -0.351462       0.691622  0.690506   \n",
       "1      7286           167 -0.623938   1.116388      -0.012004  0.358978   \n",
       "2      8508          1321 -0.550770   0.863210      -1.156363  0.358978   \n",
       "3      2873          1321  1.954564  -1.008563       0.691622  1.353562   \n",
       "4      9565          1321 -0.836389   0.607134      -0.344487  0.193214   \n",
       "\n",
       "   Area_Name  Reporting_District_no  Part 1-2  Modus_Operandi  Victim_Age  \\\n",
       "0          8               0.718402 -0.845911            2635    2.051516   \n",
       "1          9               0.393515 -0.845911            4421    0.496439   \n",
       "2          9               0.353733  1.182157             747    1.685616   \n",
       "3          7               1.316791 -0.845911             777    1.411191   \n",
       "4          0               0.191289 -0.845911            3409   -1.378800   \n",
       "\n",
       "   ...  Premise_Description  Weapon_Used_Code  Weapon_Description  Status  \\\n",
       "0  ...                  186          0.165459                  29       2   \n",
       "1  ...                  188          0.165459                  48       2   \n",
       "2  ...                  177          0.165459                  29       2   \n",
       "3  ...                  186          0.165459                  29       2   \n",
       "4  ...                   88          0.165459                  48       2   \n",
       "\n",
       "   Status_Description  Reported_Year  Reported_Month  Reported_Day  \\\n",
       "0                   2      -0.184068       -0.986057     -0.769102   \n",
       "1                   2      -0.184068       -1.275626      1.271047   \n",
       "2                   2      -0.184068        0.461790      0.590997   \n",
       "3                   2      -0.184068        1.330498     -0.882444   \n",
       "4                   2      -0.184068       -1.275626      1.044364   \n",
       "\n",
       "   Occurred_Year  Occurred_Month  Occurred_Day  \n",
       "0            0.0       -0.990429     -1.069774  \n",
       "1            0.0       -1.279411      1.278372  \n",
       "2            0.0        0.454484      0.607473  \n",
       "3            0.0        1.321432     -1.069774  \n",
       "4            0.0       -1.279411      1.054739  \n",
       "\n",
       "[5 rows x 25 columns]"
      ]
     },
     "execution_count": 68,
     "metadata": {},
     "output_type": "execute_result"
    }
   ],
   "source": [
    "X=data.drop('Crime_Category',axis=1)\n",
    "X.head()\n"
   ]
  },
  {
   "cell_type": "markdown",
   "id": "8cfb8450",
   "metadata": {
    "papermill": {
     "duration": 0.077139,
     "end_time": "2024-08-10T17:49:52.415372",
     "exception": false,
     "start_time": "2024-08-10T17:49:52.338233",
     "status": "completed"
    },
    "tags": []
   },
   "source": [
    "## Label"
   ]
  },
  {
   "cell_type": "code",
   "execution_count": 69,
   "id": "daad9946",
   "metadata": {
    "execution": {
     "iopub.execute_input": "2024-08-10T17:49:52.570573Z",
     "iopub.status.busy": "2024-08-10T17:49:52.570159Z",
     "iopub.status.idle": "2024-08-10T17:49:52.578709Z",
     "shell.execute_reply": "2024-08-10T17:49:52.577665Z"
    },
    "papermill": {
     "duration": 0.089557,
     "end_time": "2024-08-10T17:49:52.581481",
     "exception": false,
     "start_time": "2024-08-10T17:49:52.491924",
     "status": "completed"
    },
    "tags": []
   },
   "outputs": [
    {
     "data": {
      "text/plain": [
       "0    4\n",
       "1    4\n",
       "2    4\n",
       "3    4\n",
       "4    4\n",
       "Name: Crime_Category, dtype: int64"
      ]
     },
     "execution_count": 69,
     "metadata": {},
     "output_type": "execute_result"
    }
   ],
   "source": [
    "y=data['Crime_Category']\n",
    "y.head()"
   ]
  },
  {
   "cell_type": "markdown",
   "id": "8e35a041",
   "metadata": {
    "papermill": {
     "duration": 0.07687,
     "end_time": "2024-08-10T17:49:52.735428",
     "exception": false,
     "start_time": "2024-08-10T17:49:52.658558",
     "status": "completed"
    },
    "tags": []
   },
   "source": [
    "## shape of feature matrix"
   ]
  },
  {
   "cell_type": "code",
   "execution_count": 70,
   "id": "dc01cf40",
   "metadata": {
    "execution": {
     "iopub.execute_input": "2024-08-10T17:49:52.892647Z",
     "iopub.status.busy": "2024-08-10T17:49:52.891126Z",
     "iopub.status.idle": "2024-08-10T17:49:52.897986Z",
     "shell.execute_reply": "2024-08-10T17:49:52.896727Z"
    },
    "papermill": {
     "duration": 0.088976,
     "end_time": "2024-08-10T17:49:52.901442",
     "exception": false,
     "start_time": "2024-08-10T17:49:52.812466",
     "status": "completed"
    },
    "tags": []
   },
   "outputs": [
    {
     "name": "stdout",
     "output_type": "stream",
     "text": [
      "(19916, 25)\n"
     ]
    }
   ],
   "source": [
    "print(X.shape)"
   ]
  },
  {
   "cell_type": "markdown",
   "id": "671eb1f5",
   "metadata": {
    "papermill": {
     "duration": 0.076182,
     "end_time": "2024-08-10T17:49:53.061082",
     "exception": false,
     "start_time": "2024-08-10T17:49:52.984900",
     "status": "completed"
    },
    "tags": []
   },
   "source": [
    "## shape of label"
   ]
  },
  {
   "cell_type": "code",
   "execution_count": 71,
   "id": "ed32f62b",
   "metadata": {
    "execution": {
     "iopub.execute_input": "2024-08-10T17:49:53.222775Z",
     "iopub.status.busy": "2024-08-10T17:49:53.222368Z",
     "iopub.status.idle": "2024-08-10T17:49:53.228502Z",
     "shell.execute_reply": "2024-08-10T17:49:53.227125Z"
    },
    "papermill": {
     "duration": 0.09259,
     "end_time": "2024-08-10T17:49:53.231644",
     "exception": false,
     "start_time": "2024-08-10T17:49:53.139054",
     "status": "completed"
    },
    "tags": []
   },
   "outputs": [
    {
     "name": "stdout",
     "output_type": "stream",
     "text": [
      "(19916,)\n"
     ]
    }
   ],
   "source": [
    "print(y.shape)"
   ]
  },
  {
   "cell_type": "code",
   "execution_count": 72,
   "id": "43eeea7f",
   "metadata": {
    "execution": {
     "iopub.execute_input": "2024-08-10T17:49:53.393394Z",
     "iopub.status.busy": "2024-08-10T17:49:53.392907Z",
     "iopub.status.idle": "2024-08-10T17:49:53.401524Z",
     "shell.execute_reply": "2024-08-10T17:49:53.400347Z"
    },
    "papermill": {
     "duration": 0.091991,
     "end_time": "2024-08-10T17:49:53.403923",
     "exception": false,
     "start_time": "2024-08-10T17:49:53.311932",
     "status": "completed"
    },
    "tags": []
   },
   "outputs": [
    {
     "data": {
      "text/plain": [
       "'multiclass'"
      ]
     },
     "execution_count": 72,
     "metadata": {},
     "output_type": "execute_result"
    }
   ],
   "source": [
    "type_of_target(y)"
   ]
  },
  {
   "cell_type": "markdown",
   "id": "6f1320d3",
   "metadata": {
    "papermill": {
     "duration": 0.13977,
     "end_time": "2024-08-10T17:49:53.621820",
     "exception": false,
     "start_time": "2024-08-10T17:49:53.482050",
     "status": "completed"
    },
    "tags": []
   },
   "source": [
    "## Training-test split"
   ]
  },
  {
   "cell_type": "code",
   "execution_count": 73,
   "id": "ed65cd3f",
   "metadata": {
    "execution": {
     "iopub.execute_input": "2024-08-10T17:49:53.780991Z",
     "iopub.status.busy": "2024-08-10T17:49:53.780541Z",
     "iopub.status.idle": "2024-08-10T17:49:53.798054Z",
     "shell.execute_reply": "2024-08-10T17:49:53.796825Z"
    },
    "papermill": {
     "duration": 0.10188,
     "end_time": "2024-08-10T17:49:53.801126",
     "exception": false,
     "start_time": "2024-08-10T17:49:53.699246",
     "status": "completed"
    },
    "tags": []
   },
   "outputs": [],
   "source": [
    "X_train,X_val,y_train,y_val=train_test_split(X,y,test_size=0.2,random_state=42)"
   ]
  },
  {
   "cell_type": "code",
   "execution_count": 74,
   "id": "5a56933a",
   "metadata": {
    "execution": {
     "iopub.execute_input": "2024-08-10T17:49:53.960336Z",
     "iopub.status.busy": "2024-08-10T17:49:53.959908Z",
     "iopub.status.idle": "2024-08-10T17:49:53.966279Z",
     "shell.execute_reply": "2024-08-10T17:49:53.964986Z"
    },
    "papermill": {
     "duration": 0.091067,
     "end_time": "2024-08-10T17:49:53.969782",
     "exception": false,
     "start_time": "2024-08-10T17:49:53.878715",
     "status": "completed"
    },
    "tags": []
   },
   "outputs": [
    {
     "name": "stdout",
     "output_type": "stream",
     "text": [
      "(15932, 25)\n",
      "(3984, 25)\n",
      "(15932,)\n",
      "(3984,)\n"
     ]
    }
   ],
   "source": [
    "print(X_train.shape)\n",
    "print(X_val.shape)\n",
    "\n",
    "print(y_train.shape)\n",
    "print(y_val.shape)"
   ]
  },
  {
   "cell_type": "markdown",
   "id": "2a9d9daa",
   "metadata": {
    "papermill": {
     "duration": 0.076911,
     "end_time": "2024-08-10T17:49:54.124885",
     "exception": false,
     "start_time": "2024-08-10T17:49:54.047974",
     "status": "completed"
    },
    "tags": []
   },
   "source": [
    "# Feature Extraction"
   ]
  },
  {
   "cell_type": "markdown",
   "id": "ba2193fe",
   "metadata": {
    "papermill": {
     "duration": 0.077178,
     "end_time": "2024-08-10T17:49:54.280026",
     "exception": false,
     "start_time": "2024-08-10T17:49:54.202848",
     "status": "completed"
    },
    "tags": []
   },
   "source": [
    "## Model based feature Importance"
   ]
  },
  {
   "cell_type": "markdown",
   "id": "31743df8",
   "metadata": {
    "papermill": {
     "duration": 0.076827,
     "end_time": "2024-08-10T17:49:54.435453",
     "exception": false,
     "start_time": "2024-08-10T17:49:54.358626",
     "status": "completed"
    },
    "tags": []
   },
   "source": [
    "## Understanding feature importance helps in refining the model and focusing on the most influential features."
   ]
  },
  {
   "cell_type": "code",
   "execution_count": 75,
   "id": "f315124b",
   "metadata": {
    "execution": {
     "iopub.execute_input": "2024-08-10T17:49:54.593232Z",
     "iopub.status.busy": "2024-08-10T17:49:54.592815Z",
     "iopub.status.idle": "2024-08-10T17:49:58.460126Z",
     "shell.execute_reply": "2024-08-10T17:49:58.458840Z"
    },
    "papermill": {
     "duration": 3.948641,
     "end_time": "2024-08-10T17:49:58.463228",
     "exception": false,
     "start_time": "2024-08-10T17:49:54.514587",
     "status": "completed"
    },
    "tags": []
   },
   "outputs": [
    {
     "name": "stdout",
     "output_type": "stream",
     "text": [
      "[0.02200006 0.00810537 0.02243181 0.02257912 0.02368349 0.01110347\n",
      " 0.0125153  0.0203197  0.13023945 0.14318159 0.04789606 0.01895818\n",
      " 0.02183222 0.04034136 0.0275158  0.07736049 0.23554507 0.01850724\n",
      " 0.027784   0.01008495 0.01239129 0.01625557 0.         0.01274031\n",
      " 0.0166281 ]\n",
      "                  Feature  Importance\n",
      "16     Weapon_Description    0.235545\n",
      "9          Modus_Operandi    0.143182\n",
      "8                Part 1-2    0.130239\n",
      "15       Weapon_Used_Code    0.077360\n",
      "10             Victim_Age    0.047896\n",
      "13           Premise_Code    0.040341\n",
      "18     Status_Description    0.027784\n",
      "14    Premise_Description    0.027516\n",
      "4           Time_Occurred    0.023683\n",
      "3               Longitude    0.022579\n",
      "2                Latitude    0.022432\n",
      "0                Location    0.022000\n",
      "12         Victim_Descent    0.021832\n",
      "7   Reporting_District_no    0.020320\n",
      "11             Victim_Sex    0.018958\n",
      "17                 Status    0.018507\n",
      "24           Occurred_Day    0.016628\n",
      "21           Reported_Day    0.016256\n"
     ]
    }
   ],
   "source": [
    "# Training a Random Forest Classifier model to compute feature importance\n",
    "ran_for_model = RandomForestClassifier(n_estimators=100, random_state=42)\n",
    "ran_for_model.fit(X_train, y_train)\n",
    "\n",
    "# Get feature importances\n",
    "important_feature = ran_for_model.feature_importances_\n",
    "print(important_feature)\n",
    "\n",
    "important_feature_frame = pd.DataFrame({'Feature': X.columns, 'Importance': important_feature})\n",
    "important_feature_frame.sort_values(by='Importance', ascending=False, inplace=True)\n",
    "\n",
    "# Top 18 Important features\n",
    "top_features = important_feature_frame.head(18)\n",
    "print(top_features)"
   ]
  },
  {
   "cell_type": "code",
   "execution_count": 76,
   "id": "e4d902d8",
   "metadata": {
    "execution": {
     "iopub.execute_input": "2024-08-10T17:49:58.620409Z",
     "iopub.status.busy": "2024-08-10T17:49:58.619954Z",
     "iopub.status.idle": "2024-08-10T17:49:58.651605Z",
     "shell.execute_reply": "2024-08-10T17:49:58.650443Z"
    },
    "papermill": {
     "duration": 0.11282,
     "end_time": "2024-08-10T17:49:58.654061",
     "exception": false,
     "start_time": "2024-08-10T17:49:58.541241",
     "status": "completed"
    },
    "tags": []
   },
   "outputs": [
    {
     "name": "stdout",
     "output_type": "stream",
     "text": [
      "\n",
      "Top 18 Important features\n",
      "\n",
      "['Weapon_Description', 'Modus_Operandi', 'Part 1-2', 'Weapon_Used_Code', 'Victim_Age', 'Premise_Code', 'Status_Description', 'Premise_Description', 'Time_Occurred', 'Longitude', 'Latitude', 'Location', 'Victim_Descent', 'Reporting_District_no', 'Victim_Sex', 'Status', 'Occurred_Day', 'Reported_Day']\n"
     ]
    },
    {
     "data": {
      "text/html": [
       "<div>\n",
       "<style scoped>\n",
       "    .dataframe tbody tr th:only-of-type {\n",
       "        vertical-align: middle;\n",
       "    }\n",
       "\n",
       "    .dataframe tbody tr th {\n",
       "        vertical-align: top;\n",
       "    }\n",
       "\n",
       "    .dataframe thead th {\n",
       "        text-align: right;\n",
       "    }\n",
       "</style>\n",
       "<table border=\"1\" class=\"dataframe\">\n",
       "  <thead>\n",
       "    <tr style=\"text-align: right;\">\n",
       "      <th></th>\n",
       "      <th>Weapon_Description</th>\n",
       "      <th>Modus_Operandi</th>\n",
       "      <th>Part 1-2</th>\n",
       "      <th>Weapon_Used_Code</th>\n",
       "      <th>Victim_Age</th>\n",
       "      <th>Premise_Code</th>\n",
       "      <th>Status_Description</th>\n",
       "      <th>Premise_Description</th>\n",
       "      <th>Time_Occurred</th>\n",
       "      <th>Longitude</th>\n",
       "      <th>Latitude</th>\n",
       "      <th>Location</th>\n",
       "      <th>Victim_Descent</th>\n",
       "      <th>Reporting_District_no</th>\n",
       "      <th>Victim_Sex</th>\n",
       "      <th>Status</th>\n",
       "      <th>Occurred_Day</th>\n",
       "      <th>Reported_Day</th>\n",
       "    </tr>\n",
       "  </thead>\n",
       "  <tbody>\n",
       "    <tr>\n",
       "      <th>8278</th>\n",
       "      <td>29</td>\n",
       "      <td>2459</td>\n",
       "      <td>-0.845911</td>\n",
       "      <td>0.165459</td>\n",
       "      <td>0.176277</td>\n",
       "      <td>-0.924358</td>\n",
       "      <td>2</td>\n",
       "      <td>186</td>\n",
       "      <td>0.738015</td>\n",
       "      <td>0.984001</td>\n",
       "      <td>0.204709</td>\n",
       "      <td>12294</td>\n",
       "      <td>15</td>\n",
       "      <td>0.025531</td>\n",
       "      <td>0</td>\n",
       "      <td>2</td>\n",
       "      <td>-1.628857</td>\n",
       "      <td>-1.562493</td>\n",
       "    </tr>\n",
       "    <tr>\n",
       "      <th>11951</th>\n",
       "      <td>29</td>\n",
       "      <td>5854</td>\n",
       "      <td>-0.845911</td>\n",
       "      <td>0.165459</td>\n",
       "      <td>1.868566</td>\n",
       "      <td>-0.839463</td>\n",
       "      <td>2</td>\n",
       "      <td>162</td>\n",
       "      <td>0.846265</td>\n",
       "      <td>-0.639427</td>\n",
       "      <td>-0.230771</td>\n",
       "      <td>5024</td>\n",
       "      <td>15</td>\n",
       "      <td>-0.468431</td>\n",
       "      <td>2</td>\n",
       "      <td>2</td>\n",
       "      <td>1.390188</td>\n",
       "      <td>0.590997</td>\n",
       "    </tr>\n",
       "    <tr>\n",
       "      <th>8311</th>\n",
       "      <td>29</td>\n",
       "      <td>1815</td>\n",
       "      <td>-0.845911</td>\n",
       "      <td>0.165459</td>\n",
       "      <td>1.091028</td>\n",
       "      <td>-0.924358</td>\n",
       "      <td>2</td>\n",
       "      <td>186</td>\n",
       "      <td>0.691622</td>\n",
       "      <td>-1.133219</td>\n",
       "      <td>-0.712973</td>\n",
       "      <td>321</td>\n",
       "      <td>6</td>\n",
       "      <td>0.469764</td>\n",
       "      <td>2</td>\n",
       "      <td>2</td>\n",
       "      <td>0.719289</td>\n",
       "      <td>0.817680</td>\n",
       "    </tr>\n",
       "    <tr>\n",
       "      <th>4340</th>\n",
       "      <td>29</td>\n",
       "      <td>209</td>\n",
       "      <td>1.182157</td>\n",
       "      <td>0.165459</td>\n",
       "      <td>-0.509787</td>\n",
       "      <td>0.499991</td>\n",
       "      <td>2</td>\n",
       "      <td>50</td>\n",
       "      <td>-0.499130</td>\n",
       "      <td>0.188715</td>\n",
       "      <td>-0.480247</td>\n",
       "      <td>6451</td>\n",
       "      <td>16</td>\n",
       "      <td>-1.287279</td>\n",
       "      <td>4</td>\n",
       "      <td>2</td>\n",
       "      <td>0.495657</td>\n",
       "      <td>0.477656</td>\n",
       "    </tr>\n",
       "    <tr>\n",
       "      <th>2472</th>\n",
       "      <td>29</td>\n",
       "      <td>1338</td>\n",
       "      <td>-0.845911</td>\n",
       "      <td>0.165459</td>\n",
       "      <td>1.228240</td>\n",
       "      <td>-0.834747</td>\n",
       "      <td>1</td>\n",
       "      <td>185</td>\n",
       "      <td>0.598836</td>\n",
       "      <td>-0.705137</td>\n",
       "      <td>1.460020</td>\n",
       "      <td>2373</td>\n",
       "      <td>6</td>\n",
       "      <td>1.404643</td>\n",
       "      <td>0</td>\n",
       "      <td>1</td>\n",
       "      <td>-0.175242</td>\n",
       "      <td>-0.202394</td>\n",
       "    </tr>\n",
       "  </tbody>\n",
       "</table>\n",
       "</div>"
      ],
      "text/plain": [
       "       Weapon_Description  Modus_Operandi  Part 1-2  Weapon_Used_Code  \\\n",
       "8278                   29            2459 -0.845911          0.165459   \n",
       "11951                  29            5854 -0.845911          0.165459   \n",
       "8311                   29            1815 -0.845911          0.165459   \n",
       "4340                   29             209  1.182157          0.165459   \n",
       "2472                   29            1338 -0.845911          0.165459   \n",
       "\n",
       "       Victim_Age  Premise_Code  Status_Description  Premise_Description  \\\n",
       "8278     0.176277     -0.924358                   2                  186   \n",
       "11951    1.868566     -0.839463                   2                  162   \n",
       "8311     1.091028     -0.924358                   2                  186   \n",
       "4340    -0.509787      0.499991                   2                   50   \n",
       "2472     1.228240     -0.834747                   1                  185   \n",
       "\n",
       "       Time_Occurred  Longitude  Latitude  Location  Victim_Descent  \\\n",
       "8278        0.738015   0.984001  0.204709     12294              15   \n",
       "11951       0.846265  -0.639427 -0.230771      5024              15   \n",
       "8311        0.691622  -1.133219 -0.712973       321               6   \n",
       "4340       -0.499130   0.188715 -0.480247      6451              16   \n",
       "2472        0.598836  -0.705137  1.460020      2373               6   \n",
       "\n",
       "       Reporting_District_no  Victim_Sex  Status  Occurred_Day  Reported_Day  \n",
       "8278                0.025531           0       2     -1.628857     -1.562493  \n",
       "11951              -0.468431           2       2      1.390188      0.590997  \n",
       "8311                0.469764           2       2      0.719289      0.817680  \n",
       "4340               -1.287279           4       2      0.495657      0.477656  \n",
       "2472                1.404643           0       1     -0.175242     -0.202394  "
      ]
     },
     "execution_count": 76,
     "metadata": {},
     "output_type": "execute_result"
    }
   ],
   "source": [
    "# Select top 18 Important features for training\n",
    "print(\"\\nTop 18 Important features\\n\")\n",
    "new_selected_features = list(top_features['Feature'])\n",
    "print(new_selected_features)\n",
    "X_train_new=X_train[new_selected_features]\n",
    "X_val_new=X_val[new_selected_features]\n",
    "test_data_new = test_data[new_selected_features]\n",
    "X_train_new[:5]"
   ]
  },
  {
   "cell_type": "code",
   "execution_count": 77,
   "id": "8e0e5c54",
   "metadata": {
    "execution": {
     "iopub.execute_input": "2024-08-10T17:49:58.812070Z",
     "iopub.status.busy": "2024-08-10T17:49:58.811637Z",
     "iopub.status.idle": "2024-08-10T17:50:02.470179Z",
     "shell.execute_reply": "2024-08-10T17:50:02.468846Z"
    },
    "papermill": {
     "duration": 3.741491,
     "end_time": "2024-08-10T17:50:02.473052",
     "exception": false,
     "start_time": "2024-08-10T17:49:58.731561",
     "status": "completed"
    },
    "tags": []
   },
   "outputs": [
    {
     "name": "stdout",
     "output_type": "stream",
     "text": [
      "Validation Accuracy: 0.9106425702811245 \n"
     ]
    }
   ],
   "source": [
    "# Training the Random Forest Classifier model with the 10 selected features\n",
    "r_f_c_model = RandomForestClassifier(n_estimators=100, random_state=42)\n",
    "r_f_c_model.fit(X_train_new, y_train)\n",
    "# Predict on the validation set\n",
    "y_pred=r_f_c_model.predict(X_val_new)\n",
    "# Evaluate the model\n",
    "accuracy = accuracy_score(y_val, y_pred)\n",
    "#  y_val_new = y_val.values\n",
    "# classification_report = classification_report(y_val_new, y_pred)\n",
    "print('Validation Accuracy: {} '.format(accuracy))\n",
    "# print('Classification_report: {}'.format(classification_report))\n",
    "# Predict on the test set\n",
    "test_pred_rf=r_f_c_model.predict(test_data_new)"
   ]
  },
  {
   "cell_type": "code",
   "execution_count": 78,
   "id": "8a12e282",
   "metadata": {
    "execution": {
     "iopub.execute_input": "2024-08-10T17:50:02.632421Z",
     "iopub.status.busy": "2024-08-10T17:50:02.631979Z",
     "iopub.status.idle": "2024-08-10T17:50:04.358234Z",
     "shell.execute_reply": "2024-08-10T17:50:04.357181Z"
    },
    "papermill": {
     "duration": 1.809277,
     "end_time": "2024-08-10T17:50:04.361131",
     "exception": false,
     "start_time": "2024-08-10T17:50:02.551854",
     "status": "completed"
    },
    "tags": []
   },
   "outputs": [
    {
     "name": "stdout",
     "output_type": "stream",
     "text": [
      "Validation Accuracy: 0.9201807228915663 \n"
     ]
    }
   ],
   "source": [
    "# Training the XGBoost Classifier model with the 10 selected features\n",
    "# xgb_model = XGBClassifier(objective='multi:softmax',num_class= 6,depth=4,learning_rate=0.1)\n",
    "xgb_model = XGBClassifier(n_estimators=100, random_state=42)\n",
    "xgb_model.fit(X_train_new, y_train)\n",
    "\n",
    "# Predict on the validation set\n",
    "y_pred=xgb_model.predict(X_val_new)\n",
    "\n",
    "# Evaluate the model\n",
    "accuracy=accuracy_score(y_val, y_pred)\n",
    "# y_val_new = y_val.values\n",
    "# classification = classification_report(y_val_new, y_pred)\n",
    "\n",
    "print('Validation Accuracy: {} '.format(accuracy))\n",
    "# print('Classification_report: {}'.format(classification))\n",
    "\n",
    "# Predict on the test set\n",
    "test_pred_xgb=xgb_model.predict(test_data_new)"
   ]
  },
  {
   "cell_type": "code",
   "execution_count": 79,
   "id": "c6a58dd4",
   "metadata": {
    "execution": {
     "iopub.execute_input": "2024-08-10T17:50:04.527233Z",
     "iopub.status.busy": "2024-08-10T17:50:04.526819Z",
     "iopub.status.idle": "2024-08-10T17:50:04.534519Z",
     "shell.execute_reply": "2024-08-10T17:50:04.532969Z"
    },
    "papermill": {
     "duration": 0.095375,
     "end_time": "2024-08-10T17:50:04.537022",
     "exception": false,
     "start_time": "2024-08-10T17:50:04.441647",
     "status": "completed"
    },
    "scrolled": true,
    "tags": []
   },
   "outputs": [],
   "source": [
    "# # Define the model\n",
    "# log_model = LogisticRegression(max_iter=1000, random_state=42)\n",
    "\n",
    "# # Initialize variables\n",
    "# selected_features_lg = []\n",
    "# all_features = list(X_train.columns)\n",
    "# best_score = 0\n",
    "\n",
    "\n",
    "# while all_features:\n",
    "#     scores = []\n",
    "#     for feat in all_features:\n",
    "#         # Try adding the feature to the set of selected features\n",
    "#         current_features = selected_features_lg + [feat]\n",
    "#         X_train_1 = X_train[current_features]\n",
    "#         # Perform cross-validation and compute the average score\n",
    "#         score = cross_val_score(log_model, X_train_1, y_train, cv=5, scoring='accuracy').mean()\n",
    "#         scores.append((score, feat))\n",
    "    \n",
    "    \n",
    "#     # Get the best feature and score\n",
    "#     scores.sort(reverse=True)\n",
    "#     new_best_score, new_best_feature = scores[0]\n",
    "#     print('scores:',scores)\n",
    "#     print('new_best_score:',new_best_score)\n",
    "#     print('new_best_feature:',new_best_feature)\n",
    "    \n",
    "#     if new_best_score > best_score:\n",
    "#         selected_features_lg.append(new_best_feature)\n",
    "#         all_features.remove(new_best_feature)\n",
    "#         best_score = new_best_score\n",
    "#         print(f\"Added {new_best_feature} with score {new_best_score}\")\n",
    "#         print('selected_features_lg:',selected_features_lg)\n",
    "#     else:\n",
    "#         # No improvement\n",
    "#         print(\"Thats all\")\n",
    "#         break\n",
    "\n",
    "# print(f\"Selected features lg: {selected_features_lg}\")"
   ]
  },
  {
   "cell_type": "code",
   "execution_count": 80,
   "id": "882f96e4",
   "metadata": {
    "execution": {
     "iopub.execute_input": "2024-08-10T17:50:04.694955Z",
     "iopub.status.busy": "2024-08-10T17:50:04.694536Z",
     "iopub.status.idle": "2024-08-10T17:50:04.699796Z",
     "shell.execute_reply": "2024-08-10T17:50:04.698504Z"
    },
    "papermill": {
     "duration": 0.08761,
     "end_time": "2024-08-10T17:50:04.702053",
     "exception": false,
     "start_time": "2024-08-10T17:50:04.614443",
     "status": "completed"
    },
    "tags": []
   },
   "outputs": [],
   "source": [
    "# selected_features_lg=['Weapon_Description', 'Weapon_Used_Code', 'Victim_Sex', 'Part 1-2', 'Premise_Code', \n",
    "#                       'Status_Description', 'Victim_Age', 'Victim_Descent', 'Area_Name', 'Longitude']\n",
    "\n",
    "# X_train_new_1=X_train[selected_features_lg]\n",
    "# X_val_new_1=X_val[selected_features_lg]\n",
    "# test_data_new_1 = test_data[selected_features_lg]\n",
    "# X_train_new_1[:5]"
   ]
  },
  {
   "cell_type": "code",
   "execution_count": 81,
   "id": "71b6c48c",
   "metadata": {
    "_kg_hide-input": true,
    "execution": {
     "iopub.execute_input": "2024-08-10T17:50:04.858880Z",
     "iopub.status.busy": "2024-08-10T17:50:04.858466Z",
     "iopub.status.idle": "2024-08-10T17:50:04.864132Z",
     "shell.execute_reply": "2024-08-10T17:50:04.862976Z"
    },
    "papermill": {
     "duration": 0.087205,
     "end_time": "2024-08-10T17:50:04.866734",
     "exception": false,
     "start_time": "2024-08-10T17:50:04.779529",
     "status": "completed"
    },
    "tags": []
   },
   "outputs": [],
   "source": [
    "# # Training the Random Forest Classifier model with the 10 selected features\n",
    "# r_f_c_model = RandomForestClassifier(n_estimators=100, random_state=42)\n",
    "# r_f_c_model.fit(X_train_new_1, y_train)\n",
    "# # Predict on the validation set\n",
    "# y_pred=r_f_c_model.predict(X_val_new_1)\n",
    "# # Evaluate the model\n",
    "# accuracy = accuracy_score(y_val, y_pred)\n",
    "# #  y_val_new = y_val.values\n",
    "# # classification_report = classification_report(y_val_new, y_pred)\n",
    "# print('Validation Accuracy: {} '.format(accuracy))\n",
    "# # print('Classification_report: {}'.format(classification_report))\n",
    "# # Predict on the test set\n",
    "# test_pred_rf_1=r_f_c_model.predict(test_data_new_1)\n",
    "# print(test_pred_rf_1[:5])"
   ]
  },
  {
   "cell_type": "code",
   "execution_count": 82,
   "id": "7e2323ed",
   "metadata": {
    "_kg_hide-input": false,
    "execution": {
     "iopub.execute_input": "2024-08-10T17:50:05.027695Z",
     "iopub.status.busy": "2024-08-10T17:50:05.027252Z",
     "iopub.status.idle": "2024-08-10T17:50:05.032906Z",
     "shell.execute_reply": "2024-08-10T17:50:05.031757Z"
    },
    "papermill": {
     "duration": 0.089686,
     "end_time": "2024-08-10T17:50:05.035459",
     "exception": false,
     "start_time": "2024-08-10T17:50:04.945773",
     "status": "completed"
    },
    "tags": []
   },
   "outputs": [],
   "source": [
    "# # Training the XGBoost Classifier model with the 10 selected features\n",
    "# # xgb_model = XGBClassifier(objective='multi:softmax',num_class= 6,depth=4,learning_rate=0.1)\n",
    "# xgb_model = XGBClassifier(n_estimators=100, random_state=42)\n",
    "# xgb_model.fit(X_train_new_1, y_train)\n",
    "\n",
    "# # Predict on the validation set\n",
    "# y_pred=xgb_model.predict(X_val_new_1)\n",
    "\n",
    "# # Evaluate the model\n",
    "# accuracy=accuracy_score(y_val, y_pred)\n",
    "# # y_val_new = y_val.values\n",
    "# # classification = classification_report(y_val_new, y_pred)\n",
    "\n",
    "# print('Validation Accuracy: {} '.format(accuracy))\n",
    "# # print('Classification_report: {}'.format(classification))\n",
    "\n",
    "# # Predict on the test set\n",
    "# test_pred_xgb_1=xgb_model.predict(test_data_new_1)\n",
    "# print(test_pred_xgb_1[:5])"
   ]
  },
  {
   "cell_type": "code",
   "execution_count": 83,
   "id": "ac99dfa3",
   "metadata": {
    "execution": {
     "iopub.execute_input": "2024-08-10T17:50:05.193366Z",
     "iopub.status.busy": "2024-08-10T17:50:05.192905Z",
     "iopub.status.idle": "2024-08-10T17:50:05.199672Z",
     "shell.execute_reply": "2024-08-10T17:50:05.198494Z"
    },
    "papermill": {
     "duration": 0.088818,
     "end_time": "2024-08-10T17:50:05.202259",
     "exception": false,
     "start_time": "2024-08-10T17:50:05.113441",
     "status": "completed"
    },
    "scrolled": true,
    "tags": []
   },
   "outputs": [],
   "source": [
    "# # Define the model\n",
    "# xgb_model = XGBClassifier(n_estimators=100, random_state=42)\n",
    "\n",
    "# # Initialize variables\n",
    "# selected_features_xgb = []\n",
    "# all_features = list(X_train.columns)\n",
    "# best_score = 0\n",
    "\n",
    "# while all_features:\n",
    "#     scores = []\n",
    "#     for feat in all_features:\n",
    "#         # Try adding the feature to the set of selected features\n",
    "#         current_features = selected_features_xgb + [feat]\n",
    "#         X_train_2 = X_train[current_features]\n",
    "#         # Perform cross-validation and compute the average score\n",
    "#         score = cross_val_score(xgb_model, X_train_2, y_train, cv=5, scoring='accuracy').mean()\n",
    "#         scores.append((score, feat))\n",
    "    \n",
    "    \n",
    "#     # Get the best feature and score\n",
    "#     scores.sort(reverse=True)\n",
    "#     new_best_score, new_best_feature = scores[0]\n",
    "#     print('scores:',scores)\n",
    "#     print('new_best_score:',new_best_score)\n",
    "#     print('new_best_feature:',new_best_feature)\n",
    "    \n",
    "#     if new_best_score > best_score:\n",
    "#         selected_features_xgb.append(new_best_feature)\n",
    "#         all_features.remove(new_best_feature)\n",
    "#         best_score = new_best_score\n",
    "#         print(f\"Added {new_best_feature} with score {new_best_score}\")\n",
    "#         print('selected_features_xgb:',selected_features_xgb)\n",
    "#     else:\n",
    "#         # No improvement\n",
    "#         print(\"Thats all\")\n",
    "#         break\n",
    "\n",
    "# print(f\"Selected features xgb: {selected_features_xgb}\")"
   ]
  },
  {
   "cell_type": "code",
   "execution_count": 84,
   "id": "9b938834",
   "metadata": {
    "execution": {
     "iopub.execute_input": "2024-08-10T17:50:05.361057Z",
     "iopub.status.busy": "2024-08-10T17:50:05.360626Z",
     "iopub.status.idle": "2024-08-10T17:50:05.366312Z",
     "shell.execute_reply": "2024-08-10T17:50:05.364802Z"
    },
    "papermill": {
     "duration": 0.087857,
     "end_time": "2024-08-10T17:50:05.369017",
     "exception": false,
     "start_time": "2024-08-10T17:50:05.281160",
     "status": "completed"
    },
    "tags": []
   },
   "outputs": [],
   "source": [
    "# selected_features_xgb=['Modus_Operandi', 'Weapon_Description', 'Part 1-2', 'Premise_Code', 'Victim_Age', \n",
    "#                        'Status_Description', 'Reported_Year', 'Weapon_Used_Code']\n",
    "\n",
    "# X_train_new_2=X_train[selected_features_xgb]\n",
    "# X_val_new_2=X_val[selected_features_xgb]\n",
    "# test_data_new_2 = test_data[selected_features_xgb]\n",
    "# X_train_new_2[:5]"
   ]
  },
  {
   "cell_type": "code",
   "execution_count": 85,
   "id": "1f5b8313",
   "metadata": {
    "execution": {
     "iopub.execute_input": "2024-08-10T17:50:05.527827Z",
     "iopub.status.busy": "2024-08-10T17:50:05.527415Z",
     "iopub.status.idle": "2024-08-10T17:50:05.533465Z",
     "shell.execute_reply": "2024-08-10T17:50:05.532223Z"
    },
    "papermill": {
     "duration": 0.088887,
     "end_time": "2024-08-10T17:50:05.536102",
     "exception": false,
     "start_time": "2024-08-10T17:50:05.447215",
     "status": "completed"
    },
    "tags": []
   },
   "outputs": [],
   "source": [
    "# # Training the Random Forest Classifier model with the 10 selected features\n",
    "# r_f_c_model = RandomForestClassifier(n_estimators=100, random_state=42)\n",
    "# r_f_c_model.fit(X_train_new_2, y_train)\n",
    "# # Predict on the validation set\n",
    "# y_pred=r_f_c_model.predict(X_val_new_2)\n",
    "# # Evaluate the model\n",
    "# accuracy = accuracy_score(y_val, y_pred)\n",
    "# #  y_val_new = y_val.values\n",
    "# # classification_report = classification_report(y_val_new, y_pred)\n",
    "# print('Validation Accuracy: {} '.format(accuracy))\n",
    "# # print('Classification_report: {}'.format(classification_report))\n",
    "# # Predict on the test set\n",
    "# test_pred_rf_2=r_f_c_model.predict(test_data_new_2)\n",
    "# print(test_pred_rf_2[:5])"
   ]
  },
  {
   "cell_type": "code",
   "execution_count": 86,
   "id": "4893bcf7",
   "metadata": {
    "execution": {
     "iopub.execute_input": "2024-08-10T17:50:05.694539Z",
     "iopub.status.busy": "2024-08-10T17:50:05.694123Z",
     "iopub.status.idle": "2024-08-10T17:50:05.699981Z",
     "shell.execute_reply": "2024-08-10T17:50:05.698758Z"
    },
    "papermill": {
     "duration": 0.088462,
     "end_time": "2024-08-10T17:50:05.702756",
     "exception": false,
     "start_time": "2024-08-10T17:50:05.614294",
     "status": "completed"
    },
    "tags": []
   },
   "outputs": [],
   "source": [
    "# # Training the XGBoost Classifier model with the 10 selected features\n",
    "# # xgb_model = XGBClassifier(objective='multi:softmax',num_class= 6,depth=4,learning_rate=0.1)\n",
    "# xgb_model = XGBClassifier(n_estimators=100, random_state=42)\n",
    "# xgb_model.fit(X_train_new_2, y_train)\n",
    "\n",
    "# # Predict on the validation set\n",
    "# y_pred=xgb_model.predict(X_val_new_2)\n",
    "\n",
    "# # Evaluate the model\n",
    "# accuracy=accuracy_score(y_val, y_pred)\n",
    "# # y_val_new = y_val.values\n",
    "# # classification = classification_report(y_val_new, y_pred)\n",
    "\n",
    "# print('Validation Accuracy: {} '.format(accuracy))\n",
    "# # print('Classification_report: {}'.format(classification))\n",
    "\n",
    "# # Predict on the test set\n",
    "# test_pred_xgb_2=xgb_model.predict(test_data_new_2)\n",
    "# print(test_pred_xgb_2[:5])"
   ]
  },
  {
   "cell_type": "code",
   "execution_count": null,
   "id": "2be2fd14",
   "metadata": {
    "papermill": {
     "duration": 0.078511,
     "end_time": "2024-08-10T17:50:05.860306",
     "exception": false,
     "start_time": "2024-08-10T17:50:05.781795",
     "status": "completed"
    },
    "tags": []
   },
   "outputs": [],
   "source": []
  },
  {
   "cell_type": "code",
   "execution_count": null,
   "id": "cbcd907d",
   "metadata": {
    "papermill": {
     "duration": 0.079459,
     "end_time": "2024-08-10T17:50:06.022658",
     "exception": false,
     "start_time": "2024-08-10T17:50:05.943199",
     "status": "completed"
    },
    "tags": []
   },
   "outputs": [],
   "source": []
  },
  {
   "cell_type": "code",
   "execution_count": 87,
   "id": "f6fa0441",
   "metadata": {
    "_kg_hide-input": true,
    "execution": {
     "iopub.execute_input": "2024-08-10T17:50:06.181919Z",
     "iopub.status.busy": "2024-08-10T17:50:06.181534Z",
     "iopub.status.idle": "2024-08-10T17:50:06.186865Z",
     "shell.execute_reply": "2024-08-10T17:50:06.185623Z"
    },
    "papermill": {
     "duration": 0.087233,
     "end_time": "2024-08-10T17:50:06.189367",
     "exception": false,
     "start_time": "2024-08-10T17:50:06.102134",
     "status": "completed"
    },
    "tags": []
   },
   "outputs": [],
   "source": [
    "# from sklearn.multiclass import OneVsRestClassifier\n",
    "# svc=LinearSVC(random_state=0)\n",
    "# rest=OneVsRestClassifier(svc)\n",
    "# rest.fit(X_train,y_train)\n",
    "# n=rest.predict(X_val)\n",
    "# print(n[:5])\n",
    "# s_c=accuracy_score(y_val,n)\n",
    "# print(s_c)"
   ]
  },
  {
   "cell_type": "code",
   "execution_count": 88,
   "id": "b32de909",
   "metadata": {
    "execution": {
     "iopub.execute_input": "2024-08-10T17:50:06.353913Z",
     "iopub.status.busy": "2024-08-10T17:50:06.353476Z",
     "iopub.status.idle": "2024-08-10T17:50:06.358984Z",
     "shell.execute_reply": "2024-08-10T17:50:06.357705Z"
    },
    "papermill": {
     "duration": 0.090554,
     "end_time": "2024-08-10T17:50:06.361587",
     "exception": false,
     "start_time": "2024-08-10T17:50:06.271033",
     "status": "completed"
    },
    "tags": []
   },
   "outputs": [],
   "source": [
    "# from sklearn.multiclass import OneVsOneClassifier\n",
    "# svc=LinearSVC(random_state=0)\n",
    "# one=OneVsOneClassifier(svc)\n",
    "# one.fit(X_train,y_train)\n",
    "# y_one_pred=one.predict(X_val)\n",
    "# print(y_one_pred[:5])\n",
    "# s_c=accuracy_score(y_val,y_one_pred)\n",
    "# print(s_c)"
   ]
  },
  {
   "cell_type": "code",
   "execution_count": 89,
   "id": "751f73c4",
   "metadata": {
    "execution": {
     "iopub.execute_input": "2024-08-10T17:50:06.523067Z",
     "iopub.status.busy": "2024-08-10T17:50:06.522650Z",
     "iopub.status.idle": "2024-08-10T17:50:06.527891Z",
     "shell.execute_reply": "2024-08-10T17:50:06.526581Z"
    },
    "papermill": {
     "duration": 0.087981,
     "end_time": "2024-08-10T17:50:06.530639",
     "exception": false,
     "start_time": "2024-08-10T17:50:06.442658",
     "status": "completed"
    },
    "tags": []
   },
   "outputs": [],
   "source": [
    "# model=DummyClassifier(strategy='most_frequent')\n",
    "# model.fit(X_train, y_train)\n",
    "# y_pred=model.predict(X_val)\n",
    "# s_c=accuracy_score(y_val,y_pred)\n",
    "# print(s_c)"
   ]
  },
  {
   "cell_type": "code",
   "execution_count": 90,
   "id": "f57e95a0",
   "metadata": {
    "execution": {
     "iopub.execute_input": "2024-08-10T17:50:06.689114Z",
     "iopub.status.busy": "2024-08-10T17:50:06.688702Z",
     "iopub.status.idle": "2024-08-10T17:50:06.694559Z",
     "shell.execute_reply": "2024-08-10T17:50:06.693056Z"
    },
    "papermill": {
     "duration": 0.088346,
     "end_time": "2024-08-10T17:50:06.696968",
     "exception": false,
     "start_time": "2024-08-10T17:50:06.608622",
     "status": "completed"
    },
    "tags": []
   },
   "outputs": [],
   "source": [
    "# svm_model=SVC(random_state=42)\n",
    "# svm_model.fit(X_train,y_train)\n",
    "# y_svm_pred=svm_model.predict(X_val)\n",
    "# print(y_svm_pred[:5])\n",
    "# svm_acc=accuracy_score(y_val,y_svm_pred)\n",
    "# print(svm_acc)"
   ]
  },
  {
   "cell_type": "code",
   "execution_count": 91,
   "id": "eeb7eaf9",
   "metadata": {
    "execution": {
     "iopub.execute_input": "2024-08-10T17:50:06.856392Z",
     "iopub.status.busy": "2024-08-10T17:50:06.855343Z",
     "iopub.status.idle": "2024-08-10T17:50:06.861051Z",
     "shell.execute_reply": "2024-08-10T17:50:06.859892Z"
    },
    "papermill": {
     "duration": 0.087966,
     "end_time": "2024-08-10T17:50:06.863579",
     "exception": false,
     "start_time": "2024-08-10T17:50:06.775613",
     "status": "completed"
    },
    "scrolled": true,
    "tags": []
   },
   "outputs": [],
   "source": [
    "#  svm_model=SVC(random_state=42)\n",
    "# # param_grid = {'C': [0.1, 1, 10, 100, 1000],  \n",
    "# #               'gamma': [1, 0.1, 0.01, 0.001, 0.0001], \n",
    "# #               'kernel': ['rbf']}  \n",
    "# param_grid = {'C': [0.1, 1, 10],  \n",
    "#               'gamma': [1, 0.1, 0.01], \n",
    "#               'kernel': ['rbf', 'ploy'],\n",
    "#               'degree':[5,7]}  \n",
    "# svm_gscv = GridSearchCV(svm_model, param_grid, refit = True, verbose = 3)\n",
    "# svm_gscv.fit(X_train, y_train)\n",
    "# print(svm_gscv.best_params_)\n",
    "# y_p = svm_gscv.best_estimator_.predict(X_val)\n",
    "# accuracy_score(y_val,y_p)\n"
   ]
  },
  {
   "cell_type": "code",
   "execution_count": 92,
   "id": "80025ce2",
   "metadata": {
    "execution": {
     "iopub.execute_input": "2024-08-10T17:50:07.027667Z",
     "iopub.status.busy": "2024-08-10T17:50:07.026768Z",
     "iopub.status.idle": "2024-08-10T17:50:07.031907Z",
     "shell.execute_reply": "2024-08-10T17:50:07.030656Z"
    },
    "papermill": {
     "duration": 0.091227,
     "end_time": "2024-08-10T17:50:07.034688",
     "exception": false,
     "start_time": "2024-08-10T17:50:06.943461",
     "status": "completed"
    },
    "tags": []
   },
   "outputs": [],
   "source": [
    "# svm_model=SVC(kernel=\"poly\",random_state=42,degree=7,gamma=1, C=1.0)\n",
    "# svm_model.fit(X_train,y_train)\n",
    "# y_svm_pred=svm_model.predict(X_val)\n",
    "# print(y_svm_pred[:5])\n",
    "# svm_acc=accuracy_score(y_val,y_svm_pred)\n",
    "# print(svm_acc)"
   ]
  },
  {
   "cell_type": "code",
   "execution_count": null,
   "id": "e00cc721",
   "metadata": {
    "papermill": {
     "duration": 0.077464,
     "end_time": "2024-08-10T17:50:07.190006",
     "exception": false,
     "start_time": "2024-08-10T17:50:07.112542",
     "status": "completed"
    },
    "tags": []
   },
   "outputs": [],
   "source": [
    "\n"
   ]
  },
  {
   "cell_type": "markdown",
   "id": "d8e23278",
   "metadata": {
    "papermill": {
     "duration": 0.078299,
     "end_time": "2024-08-10T17:50:07.345967",
     "exception": false,
     "start_time": "2024-08-10T17:50:07.267668",
     "status": "completed"
    },
    "tags": []
   },
   "source": [
    "# Model building"
   ]
  },
  {
   "cell_type": "markdown",
   "id": "144fd047",
   "metadata": {
    "papermill": {
     "duration": 0.08192,
     "end_time": "2024-08-10T17:50:07.506114",
     "exception": false,
     "start_time": "2024-08-10T17:50:07.424194",
     "status": "completed"
    },
    "tags": []
   },
   "source": [
    "## Tuning the model using XGBClassifier using 18 important features"
   ]
  },
  {
   "cell_type": "code",
   "execution_count": 93,
   "id": "01cf00bc",
   "metadata": {
    "execution": {
     "iopub.execute_input": "2024-08-10T17:50:07.664043Z",
     "iopub.status.busy": "2024-08-10T17:50:07.663650Z",
     "iopub.status.idle": "2024-08-10T17:50:07.668990Z",
     "shell.execute_reply": "2024-08-10T17:50:07.667870Z"
    },
    "papermill": {
     "duration": 0.087761,
     "end_time": "2024-08-10T17:50:07.671504",
     "exception": false,
     "start_time": "2024-08-10T17:50:07.583743",
     "status": "completed"
    },
    "scrolled": true,
    "tags": []
   },
   "outputs": [],
   "source": [
    "# class_1=XGBClassifier(random_state=42)\n",
    "# param_grid = {\n",
    "#     'learning_rate' : [0.1,0.15,0.2],\n",
    "#     'n_estimators': [100,115,110],\n",
    "#     'max_depth' : [7,8],              \n",
    "#     'min_child_weight' : [3,4,5],\n",
    "#     'subsample': [0.9,1.0,1.1],\n",
    "#     'gamma' : [0.1,0.2],            \n",
    "#     'colsample_bytree':[0.4,0.5,0.6]    \n",
    "# }\n",
    "\n",
    "# gscv_1 = GridSearchCV(class_1, param_grid, n_jobs=-1, cv=cv, verbose=2)\n",
    "# gscv_1.fit(X_train_new,y_train)"
   ]
  },
  {
   "cell_type": "code",
   "execution_count": 94,
   "id": "ec98ef74",
   "metadata": {
    "execution": {
     "iopub.execute_input": "2024-08-10T17:50:07.829894Z",
     "iopub.status.busy": "2024-08-10T17:50:07.828620Z",
     "iopub.status.idle": "2024-08-10T17:50:07.834601Z",
     "shell.execute_reply": "2024-08-10T17:50:07.833176Z"
    },
    "papermill": {
     "duration": 0.0882,
     "end_time": "2024-08-10T17:50:07.837168",
     "exception": false,
     "start_time": "2024-08-10T17:50:07.748968",
     "status": "completed"
    },
    "tags": []
   },
   "outputs": [],
   "source": [
    "# print(gscv_1.best_params_)\n",
    "# print('Best parameters: {}'.format(gscv_1.best_params_))\n",
    "# print('Best cross-validation score: {}'.format(gscv_1.best_score_))"
   ]
  },
  {
   "cell_type": "code",
   "execution_count": 95,
   "id": "ef86ddba",
   "metadata": {
    "execution": {
     "iopub.execute_input": "2024-08-10T17:50:07.997198Z",
     "iopub.status.busy": "2024-08-10T17:50:07.996768Z",
     "iopub.status.idle": "2024-08-10T17:50:08.003562Z",
     "shell.execute_reply": "2024-08-10T17:50:08.002188Z"
    },
    "papermill": {
     "duration": 0.089659,
     "end_time": "2024-08-10T17:50:08.006164",
     "exception": false,
     "start_time": "2024-08-10T17:50:07.916505",
     "status": "completed"
    },
    "tags": []
   },
   "outputs": [],
   "source": [
    "# xgb_model_1=gscv_1.best_estimator_\n",
    "# y_p = xgb_model_1.predict(X_val_new)\n",
    "# print(y_p[:5])\n",
    "# accuracy=accuracy_score(y_val,y_p)\n",
    "# print('Validation Accuracy: {} '.format(accuracy))\n",
    "# test_pred_xgb=xgb_model.predict(test_data_new)"
   ]
  },
  {
   "cell_type": "code",
   "execution_count": 96,
   "id": "aa12c57a",
   "metadata": {
    "execution": {
     "iopub.execute_input": "2024-08-10T17:50:08.167517Z",
     "iopub.status.busy": "2024-08-10T17:50:08.167070Z",
     "iopub.status.idle": "2024-08-10T17:50:10.059443Z",
     "shell.execute_reply": "2024-08-10T17:50:10.057829Z"
    },
    "papermill": {
     "duration": 1.978655,
     "end_time": "2024-08-10T17:50:10.064344",
     "exception": false,
     "start_time": "2024-08-10T17:50:08.085689",
     "status": "completed"
    },
    "tags": []
   },
   "outputs": [
    {
     "name": "stdout",
     "output_type": "stream",
     "text": [
      "[4 5 2 4 4]\n",
      "Validation Accuracy: 0.9221887550200804 \n"
     ]
    }
   ],
   "source": [
    "classifier_1=XGBClassifier(colsample_bytree=0.4, gamma=0.1, learning_rate=0.1, \n",
    "                         max_depth=7, min_child_weight= 3, n_estimators= 115, \n",
    "                         subsample=1.0)\n",
    "\n",
    "classifier_1.fit(X_train_new,y_train)\n",
    "y_pred=classifier_1.predict(X_val_new)\n",
    "print(y_pred[:5])\n",
    "acc=accuracy_score(y_val,y_pred)\n",
    "print('Validation Accuracy: {} '.format(acc))\n",
    "test_pred_1=classifier_1.predict(test_data_new)"
   ]
  },
  {
   "cell_type": "code",
   "execution_count": 97,
   "id": "6574d0d8",
   "metadata": {
    "execution": {
     "iopub.execute_input": "2024-08-10T17:50:10.239886Z",
     "iopub.status.busy": "2024-08-10T17:50:10.239497Z",
     "iopub.status.idle": "2024-08-10T17:50:10.244959Z",
     "shell.execute_reply": "2024-08-10T17:50:10.243627Z"
    },
    "papermill": {
     "duration": 0.099593,
     "end_time": "2024-08-10T17:50:10.247721",
     "exception": false,
     "start_time": "2024-08-10T17:50:10.148128",
     "status": "completed"
    },
    "scrolled": true,
    "tags": []
   },
   "outputs": [],
   "source": [
    "# class_2=XGBClassifier(random_state=42)\n",
    "# param_grid = {\n",
    "#     'learning_rate' : [0.1,0.15,0.2],\n",
    "#     'n_estimators': [100,115,110],\n",
    "#     'max_depth' : [7,8],              \n",
    "#     'min_child_weight' : [3,4,5],\n",
    "#     'subsample': [0.9,1.0,1.1],\n",
    "#     'gamma' : [0.1,0.2],            \n",
    "#     'colsample_bytree':[0.4,0.5,0.6]    \n",
    "# }\n",
    "\n",
    "# gscv_2 = GridSearchCV(class_2, param_grid, n_jobs=-1, cv=cv, verbose=2)\n",
    "# gscv_2.fit(X_train_new_1,y_train)"
   ]
  },
  {
   "cell_type": "code",
   "execution_count": 98,
   "id": "37b09cd9",
   "metadata": {
    "execution": {
     "iopub.execute_input": "2024-08-10T17:50:10.405993Z",
     "iopub.status.busy": "2024-08-10T17:50:10.405600Z",
     "iopub.status.idle": "2024-08-10T17:50:10.411232Z",
     "shell.execute_reply": "2024-08-10T17:50:10.409803Z"
    },
    "papermill": {
     "duration": 0.087107,
     "end_time": "2024-08-10T17:50:10.413830",
     "exception": false,
     "start_time": "2024-08-10T17:50:10.326723",
     "status": "completed"
    },
    "tags": []
   },
   "outputs": [],
   "source": [
    "# print(gscv_2.best_params_)"
   ]
  },
  {
   "cell_type": "code",
   "execution_count": 99,
   "id": "b59bbfad",
   "metadata": {
    "execution": {
     "iopub.execute_input": "2024-08-10T17:50:10.576964Z",
     "iopub.status.busy": "2024-08-10T17:50:10.576568Z",
     "iopub.status.idle": "2024-08-10T17:50:10.582524Z",
     "shell.execute_reply": "2024-08-10T17:50:10.580996Z"
    },
    "papermill": {
     "duration": 0.08965,
     "end_time": "2024-08-10T17:50:10.585048",
     "exception": false,
     "start_time": "2024-08-10T17:50:10.495398",
     "status": "completed"
    },
    "scrolled": true,
    "tags": []
   },
   "outputs": [],
   "source": [
    "# classifier_2=XGBClassifier(colsample_bytree=0.6, gamma=0.2, learning_rate=0.1, \n",
    "#                          max_depth=7, min_child_weight= 4, n_estimators= 100, \n",
    "#                          subsample=1.0)\n",
    "# classifier_2.fit(X_train_new_1,y_train)\n",
    "# y_pred=classifier_2.predict(X_val_new_1)\n",
    "# print(y_pred[:5])\n",
    "# acc=accuracy_score(y_val,y_pred)\n",
    "# print('Validation Accuracy: {} '.format(acc))\n",
    "# test_pred_2=classifier_2.predict(test_data_new_1)"
   ]
  },
  {
   "cell_type": "code",
   "execution_count": 100,
   "id": "d2053d91",
   "metadata": {
    "execution": {
     "iopub.execute_input": "2024-08-10T17:50:10.744236Z",
     "iopub.status.busy": "2024-08-10T17:50:10.743804Z",
     "iopub.status.idle": "2024-08-10T17:50:10.749231Z",
     "shell.execute_reply": "2024-08-10T17:50:10.748073Z"
    },
    "papermill": {
     "duration": 0.089334,
     "end_time": "2024-08-10T17:50:10.753079",
     "exception": false,
     "start_time": "2024-08-10T17:50:10.663745",
     "status": "completed"
    },
    "scrolled": true,
    "tags": []
   },
   "outputs": [],
   "source": [
    "# class_3=XGBClassifier(random_state=42)\n",
    "# param_grid = {\n",
    "#     'learning_rate' : [0.1,0.15,0.2],\n",
    "#     'n_estimators': [100,115,110],\n",
    "#     'max_depth' : [7,8],              \n",
    "#     'min_child_weight' : [3,4,5],\n",
    "#     'subsample': [0.9,1.0,1.1],\n",
    "#     'gamma' : [0.1,0.2],            \n",
    "#     'colsample_bytree':[0.4,0.5,0.6]    \n",
    "# }\n",
    "\n",
    "# gscv_3 = GridSearchCV(class_3, param_grid, n_jobs=-1, cv=cv, verbose=2)\n",
    "# gscv_3.fit(X_train_new_2,y_train)"
   ]
  },
  {
   "cell_type": "code",
   "execution_count": 101,
   "id": "ac4224fd",
   "metadata": {
    "execution": {
     "iopub.execute_input": "2024-08-10T17:50:10.915894Z",
     "iopub.status.busy": "2024-08-10T17:50:10.915468Z",
     "iopub.status.idle": "2024-08-10T17:50:10.920577Z",
     "shell.execute_reply": "2024-08-10T17:50:10.919239Z"
    },
    "papermill": {
     "duration": 0.087021,
     "end_time": "2024-08-10T17:50:10.923209",
     "exception": false,
     "start_time": "2024-08-10T17:50:10.836188",
     "status": "completed"
    },
    "tags": []
   },
   "outputs": [],
   "source": [
    "# print(gscv_3.best_params_)"
   ]
  },
  {
   "cell_type": "code",
   "execution_count": 102,
   "id": "f1797201",
   "metadata": {
    "execution": {
     "iopub.execute_input": "2024-08-10T17:50:11.105067Z",
     "iopub.status.busy": "2024-08-10T17:50:11.104617Z",
     "iopub.status.idle": "2024-08-10T17:50:11.110388Z",
     "shell.execute_reply": "2024-08-10T17:50:11.109059Z"
    },
    "papermill": {
     "duration": 0.089859,
     "end_time": "2024-08-10T17:50:11.112923",
     "exception": false,
     "start_time": "2024-08-10T17:50:11.023064",
     "status": "completed"
    },
    "tags": []
   },
   "outputs": [],
   "source": [
    "# classifier_3=XGBClassifier(colsample_bytree=0.5, gamma=0.1, learning_rate=0.1, \n",
    "#                          max_depth=8, min_child_weight= 4, n_estimators= 100, \n",
    "#                          subsample=0.9)\n",
    "\n",
    "# classifier_3.fit(X_train_new_2,y_train)\n",
    "# y_pred=classifier_3.predict(X_val_new_2)\n",
    "# print(y_pred[:5])\n",
    "# acc=accuracy_score(y_val,y_pred)\n",
    "# print('Validation Accuracy: {} '.format(acc))\n",
    "# test_pred_3=classifier_3.predict(test_data_new_2)"
   ]
  },
  {
   "cell_type": "markdown",
   "id": "7111dfcb",
   "metadata": {
    "papermill": {
     "duration": 0.078293,
     "end_time": "2024-08-10T17:50:11.269110",
     "exception": false,
     "start_time": "2024-08-10T17:50:11.190817",
     "status": "completed"
    },
    "tags": []
   },
   "source": [
    "## Tuning of model hyperparameters using techniques like GridSearchCV to find the optimal parameters for each model."
   ]
  },
  {
   "cell_type": "markdown",
   "id": "8cff7041",
   "metadata": {
    "papermill": {
     "duration": 0.079842,
     "end_time": "2024-08-10T17:50:11.428085",
     "exception": false,
     "start_time": "2024-08-10T17:50:11.348243",
     "status": "completed"
    },
    "tags": []
   },
   "source": [
    "# *Hyperparameter Tuning for Random Forest*"
   ]
  },
  {
   "cell_type": "markdown",
   "id": "f182b86c",
   "metadata": {
    "papermill": {
     "duration": 0.079208,
     "end_time": "2024-08-10T17:50:11.588112",
     "exception": false,
     "start_time": "2024-08-10T17:50:11.508904",
     "status": "completed"
    },
    "tags": []
   },
   "source": [
    "## Random Forests are robust and are less prone to overfitting. It works well with a large number of features and can provide feature importance and help in understanding which features contribute the most to the prediction."
   ]
  },
  {
   "cell_type": "code",
   "execution_count": 103,
   "id": "e03ca98f",
   "metadata": {
    "execution": {
     "iopub.execute_input": "2024-08-10T17:50:11.747505Z",
     "iopub.status.busy": "2024-08-10T17:50:11.747079Z",
     "iopub.status.idle": "2024-08-10T17:50:11.753185Z",
     "shell.execute_reply": "2024-08-10T17:50:11.752044Z"
    },
    "papermill": {
     "duration": 0.08852,
     "end_time": "2024-08-10T17:50:11.755696",
     "exception": false,
     "start_time": "2024-08-10T17:50:11.667176",
     "status": "completed"
    },
    "scrolled": true,
    "tags": []
   },
   "outputs": [],
   "source": [
    "# # Define the model\n",
    "# rf_model = RandomForestClassifier(random_state=42)\n",
    "\n",
    "# # Define the parameter grid\n",
    "# param_grid = {\n",
    "#     'n_estimators': [100, 200, 300, 400, 500],\n",
    "#     'max_depth': [5, 10, 15, 20, None],\n",
    "#     'min_samples_split': [2, 5, 10],\n",
    "#     'min_samples_leaf': [1, 2, 4],\n",
    "#     'max_features': ['sqrt', 'log2']\n",
    "# }\n",
    "\n",
    "# # Set up GridSearchCV\n",
    "# grid_search_cv_1 = GridSearchCV(rf_model, param_grid=param_grid, cv=5, scoring='accuracy', verbose=2, n_jobs=-1)\n",
    "\n",
    "# # Fit the model\n",
    "# grid_search_cv_1.fit(X_train_new, y_train)\n",
    "\n",
    "# # Get the best parameters and score\n",
    "# rf_best_params = grid_search_cv.best_params_\n",
    "# rf_best_score = grid_search_cv.best_score_\n",
    "# print('Random Forest Best Parameter: {}'.format(rf_best_params))\n",
    "# print('Random Forest Best Cross-Validation Score: {}'.format(rf_best_score))"
   ]
  },
  {
   "cell_type": "code",
   "execution_count": 104,
   "id": "a3f34918",
   "metadata": {
    "execution": {
     "iopub.execute_input": "2024-08-10T17:50:11.915594Z",
     "iopub.status.busy": "2024-08-10T17:50:11.915118Z",
     "iopub.status.idle": "2024-08-10T17:50:11.920688Z",
     "shell.execute_reply": "2024-08-10T17:50:11.919357Z"
    },
    "papermill": {
     "duration": 0.089052,
     "end_time": "2024-08-10T17:50:11.923350",
     "exception": false,
     "start_time": "2024-08-10T17:50:11.834298",
     "status": "completed"
    },
    "tags": []
   },
   "outputs": [],
   "source": [
    "# print('Random Forest Best Parameter: {}'.format(rf_best_params))\n",
    "# print('Random Forest Best Cross-Validation Score: {}'.format(rf_best_score))\n",
    "\n",
    "# Random Forest Best Parameter: {'max_depth': 20, 'max_features': 'sqrt', 'min_samples_leaf': 1, 'min_samples_split': 5, 'n_estimators': 500}\n",
    "# Random Forest Best Cross-Validation Score: 0.9072303233761279"
   ]
  },
  {
   "cell_type": "code",
   "execution_count": 105,
   "id": "b964f1c8",
   "metadata": {
    "execution": {
     "iopub.execute_input": "2024-08-10T17:50:12.085385Z",
     "iopub.status.busy": "2024-08-10T17:50:12.084934Z",
     "iopub.status.idle": "2024-08-10T17:50:30.343901Z",
     "shell.execute_reply": "2024-08-10T17:50:30.342408Z"
    },
    "papermill": {
     "duration": 18.344407,
     "end_time": "2024-08-10T17:50:30.346709",
     "exception": false,
     "start_time": "2024-08-10T17:50:12.002302",
     "status": "completed"
    },
    "tags": []
   },
   "outputs": [
    {
     "name": "stdout",
     "output_type": "stream",
     "text": [
      "[4 5 2 4 4]\n",
      "Validation Accuracy: 0.9123995983935743\n",
      "\n",
      "Classification Report:\n",
      "               precision    recall  f1-score   support\n",
      "\n",
      "           0       0.80      0.44      0.57        45\n",
      "           1       0.79      0.70      0.74       338\n",
      "           2       0.81      0.90      0.86       276\n",
      "           3       0.67      0.05      0.10        38\n",
      "           4       0.96      0.96      0.96      2372\n",
      "           5       0.87      0.93      0.90       915\n",
      "\n",
      "    accuracy                           0.91      3984\n",
      "   macro avg       0.82      0.67      0.69      3984\n",
      "weighted avg       0.91      0.91      0.91      3984\n",
      "\n"
     ]
    },
    {
     "data": {
      "image/png": "[encoded data removed]",
      "text/plain": [
       "<Figure size 640x480 with 2 Axes>"
      ]
     },
     "metadata": {},
     "output_type": "display_data"
    }
   ],
   "source": [
    "forest = RandomForestClassifier(max_depth= 20, max_features= 'sqrt', min_samples_leaf= 1, min_samples_split= 5, \n",
    "                                n_estimators= 500)\n",
    "\n",
    "forest.fit(X_train_new,y_train)\n",
    "y_pred = forest.predict(X_val_new)\n",
    "print(y_pred[:5])\n",
    "\n",
    "#  Calculate the test accuracy\n",
    "accuracy = accuracy_score(y_val,y_pred)\n",
    "\n",
    "# Generate the classification report\n",
    "classification_report_forest = classification_report(y_val, y_pred)\n",
    "\n",
    "# Generate the confusion matrix\n",
    "confusion_matrix_forest = confusion_matrix(y_val, y_pred)\n",
    "\n",
    "print('Validation Accuracy: {}'.format(accuracy))\n",
    "print(\"\\nClassification Report:\\n\", classification_report_forest)\n",
    "# print(\"\\nConfusion Matrix:\\n\", confusion_matrix_forest)\n",
    "\n",
    "# Display the confusion matrix using ConfusionMatrixDisplay\n",
    "display = ConfusionMatrixDisplay(confusion_matrix_forest, display_labels=np.unique(y_val))\n",
    "display.plot(cmap='Blues')\n",
    "plt.title('\\nConfusion Matrix for Random Forest Model\\n')\n",
    "plt.show()\n",
    "\n",
    "test_pred_forest = forest.predict(test_data_new)"
   ]
  },
  {
   "cell_type": "markdown",
   "id": "7628ea97",
   "metadata": {
    "papermill": {
     "duration": 0.08225,
     "end_time": "2024-08-10T17:50:30.509794",
     "exception": false,
     "start_time": "2024-08-10T17:50:30.427544",
     "status": "completed"
    },
    "tags": []
   },
   "source": [
    "## *Insights*\n",
    "## *The parameters of RandomForestClassifier provide flexibility to control the complexity and performance of the model. By adjusting these parameters, we can improve the model's accuracy, reduce overfitting, and optimize the performance of the dataset.*\n"
   ]
  },
  {
   "cell_type": "markdown",
   "id": "e0ba3679",
   "metadata": {
    "papermill": {
     "duration": 0.080109,
     "end_time": "2024-08-10T17:50:30.669598",
     "exception": false,
     "start_time": "2024-08-10T17:50:30.589489",
     "status": "completed"
    },
    "tags": []
   },
   "source": [
    "## Hyperparameter Tuning for XGBoost"
   ]
  },
  {
   "cell_type": "markdown",
   "id": "f0083fb2",
   "metadata": {
    "papermill": {
     "duration": 0.082759,
     "end_time": "2024-08-10T17:50:30.831970",
     "exception": false,
     "start_time": "2024-08-10T17:50:30.749211",
     "status": "completed"
    },
    "tags": []
   },
   "source": [
    "## XGBoost (Extreme Gradient Boosting) is a flexible and powerful model and perform well on  variety of tasks due to its ability to handle different types of data. And because of its built-in regularization.\n",
    "## Hyperparameter tuning e.g., learning rate, number of estimators and max depth can improve performance."
   ]
  },
  {
   "cell_type": "code",
   "execution_count": 106,
   "id": "7db47144",
   "metadata": {
    "execution": {
     "iopub.execute_input": "2024-08-10T17:50:31.012694Z",
     "iopub.status.busy": "2024-08-10T17:50:31.011227Z",
     "iopub.status.idle": "2024-08-10T17:50:31.021471Z",
     "shell.execute_reply": "2024-08-10T17:50:31.019744Z"
    },
    "papermill": {
     "duration": 0.114106,
     "end_time": "2024-08-10T17:50:31.024790",
     "exception": false,
     "start_time": "2024-08-10T17:50:30.910684",
     "status": "completed"
    },
    "scrolled": true,
    "tags": []
   },
   "outputs": [],
   "source": [
    "# # Define the model\n",
    "# xgb_model = XGBClassifier(use_label_encoder=False, eval_metric='mlogloss',random_state=42)\n",
    "\n",
    "# # # Define the parameter grid\n",
    "# param_grid = {\n",
    "    \n",
    "#     'n_estimators': [70,80,90,100,125],\n",
    "#     'max_depth': np.arange(10,13),\n",
    "#     'learning_rate': [0.01,0.05,0.1],\n",
    "#     'subsample': [0.7,0.8,0.9],\n",
    "#     'colsample_bytree': [0.4,0.5,0.6],\n",
    "#     'gamma': [0.01, 0.1, 0.2],\n",
    "#     'min_child_weight': [5, 8, 10],\n",
    "#     'reg_alpha': [0.01, 0.1, 1],\n",
    "#     'reg_lambda': [0.001, 0.01, 0.1]\n",
    "# }\n",
    "\n",
    "\n",
    "# # param_grid = {\n",
    "# #     'n_estimators': [100, 200, 300],\n",
    "# #     'learning_rate': [0.01, 0.1, 0.2],\n",
    "# #     'max_depth': [3, 6, 9],\n",
    "# #     'min_child_weight': [1, 5, 10],\n",
    "# #     'gamma': [0, 0.1, 0.2],\n",
    "# #     'subsample': [0.8, 0.9, 1.0],\n",
    "# #     'colsample_bytree': [0.8, 0.9, 1.0]\n",
    "# # }\n",
    "\n",
    "# # param_grid = {\n",
    "# #     'n_estimators': [200,225,250,300],\n",
    "# # #     'learning_rate': [0.001,0.005,0.01,0.05,0.1,0.2],\n",
    "# #     'max_depth': [9, 10,11,12],\n",
    "# # #     'min_child_weight': [1, 5, 10],\n",
    "# #     'gamma': [0.05,0.01,0.08,0.005,0.001],\n",
    "# # #     'subsample': [0.8, 0.9, 1.0],\n",
    "# # #     'colsample_bytree': [0.8, 0.9, 1.0]\n",
    "# # }\n",
    "\n",
    "\n",
    "\n",
    "\n",
    "# param_grid = { 'n_estimators': [100, 200, 300, 500, 1000],\n",
    "#               'learning_rate': [0.001,0.005,0.01,0.05,0.02],\n",
    "#               'subsample': np.arange()\n",
    "# }\n",
    "\n",
    "\n",
    "\n",
    "\n",
    "\n",
    "\n",
    "\n",
    "\n",
    "\n",
    "\n",
    "\n",
    "\n",
    "\n",
    "\n",
    "\n",
    "\n",
    "\n",
    "\n",
    "\n",
    "\n",
    "\n",
    "\n",
    "# random_search_cv = RandomizedSearchCV(xgb_model, param_distributions=param_grid, n_iter=50, cv=5, \n",
    "#                                    scoring='accuracy', verbose=1, n_jobs=-1)\n",
    "\n",
    "# grid_search_cv_2 = GridSearchCV(xgb_model, param_grid=param_grid, cv=5, scoring='accuracy', verbose=1, n_jobs=-1)\n",
    "\n",
    "# # Fit the random search model\n",
    "# grid_search_cv_2.fit(X_train_new, y_train)\n",
    "\n",
    "# # Output the best parameters and score\n",
    "# xgb_best_params = grid_search_cv_2.best_params_\n",
    "# xgb_best_score = grid_search_cv_2.best_score_\n",
    "# print('Best parameters: {}'.format(xgb_best_params))\n",
    "# print('Best cross-validation score: {}'.format(xgb_best_score))"
   ]
  },
  {
   "cell_type": "code",
   "execution_count": 107,
   "id": "a108521f",
   "metadata": {
    "execution": {
     "iopub.execute_input": "2024-08-10T17:50:31.189858Z",
     "iopub.status.busy": "2024-08-10T17:50:31.189411Z",
     "iopub.status.idle": "2024-08-10T17:50:31.195521Z",
     "shell.execute_reply": "2024-08-10T17:50:31.194095Z"
    },
    "papermill": {
     "duration": 0.089404,
     "end_time": "2024-08-10T17:50:31.198099",
     "exception": false,
     "start_time": "2024-08-10T17:50:31.108695",
     "status": "completed"
    },
    "tags": []
   },
   "outputs": [],
   "source": [
    "# print('Best parameters: {}'.format(xgb_best_params))\n",
    "# print('Best cross-validation score: {}'.format(xgb_best_score))\n",
    "\n",
    "\n",
    "# Best parameters: {'subsample': 0.6, 'reg_lambda': 0.001, 'reg_alpha': 1, 'n_estimators': 200, \n",
    "# 'min_child_weight': 9, 'max_depth': 8, 'learning_rate': 0.05, 'gamma': 0.0, 'colsample_bytree': 0.5}\n",
    "# Best cross-validation score: 0.9227174414906039\n",
    "# [2 5 5 5 5]\n",
    "# Validation Accuracy: 0.9266666666666666\n",
    "\n",
    "# Best parameters: {'subsample': 0.8, 'reg_lambda': 0.001, 'reg_alpha': 1, 'n_estimators': 70, \n",
    "# 'min_child_weight': 8, 'max_depth': 12, 'learning_rate': 0.1, 'gamma': 0.01, 'colsample_bytree': 0.5}\n",
    "# Best cross-validation score: 0.9227174414906039\n",
    "# [2 5 5 5 5]"
   ]
  },
  {
   "cell_type": "code",
   "execution_count": 108,
   "id": "fadeab5e",
   "metadata": {
    "execution": {
     "iopub.execute_input": "2024-08-10T17:50:31.364151Z",
     "iopub.status.busy": "2024-08-10T17:50:31.363159Z",
     "iopub.status.idle": "2024-08-10T17:50:41.986338Z",
     "shell.execute_reply": "2024-08-10T17:50:41.984890Z"
    },
    "papermill": {
     "duration": 10.71028,
     "end_time": "2024-08-10T17:50:41.988917",
     "exception": false,
     "start_time": "2024-08-10T17:50:31.278637",
     "status": "completed"
    },
    "tags": []
   },
   "outputs": [
    {
     "name": "stdout",
     "output_type": "stream",
     "text": [
      "[4 5 2 4 4]\n",
      "Validation Accuracy: 0.9244477911646586\n",
      "\n",
      "Classification Report:\n",
      "               precision    recall  f1-score   support\n",
      "\n",
      "           0       0.76      0.49      0.59        45\n",
      "           1       0.76      0.80      0.78       338\n",
      "           2       0.91      0.91      0.91       276\n",
      "           3       0.57      0.11      0.18        38\n",
      "           4       0.97      0.96      0.97      2372\n",
      "           5       0.87      0.93      0.90       915\n",
      "\n",
      "    accuracy                           0.92      3984\n",
      "   macro avg       0.81      0.70      0.72      3984\n",
      "weighted avg       0.92      0.92      0.92      3984\n",
      "\n"
     ]
    },
    {
     "data": {
      "image/png": "[encoded data removed]",
      "text/plain": [
       "<Figure size 640x480 with 2 Axes>"
      ]
     },
     "metadata": {},
     "output_type": "display_data"
    }
   ],
   "source": [
    "# pipe_1 = Pipeline(steps=[('scaler', StandardScaler()),\n",
    "#                        ('xgb', XGBClassifier(colsample_bytree = 0.7, gamma = 0.1, learning_rate = 0.01, \n",
    "#                          max_depth = 9, min_child_weight = 1, n_estimators = 500, subsample = 0.8))])\n",
    "\n",
    "# pipe_1 = Pipeline(steps=[('scaler', Standarder()),\n",
    "#                        ('xgb', XGBClassifier(subsample = 0.7, reg_lambda = 0, reg_alpha = 0.1, n_estimators = 300, \n",
    "#                         min_child_weight = 7, max_depth = 6, learning_rate = 0.05, gamScalma = 0.4, colsample_bytree = 0.7))])\n",
    "\n",
    "# pipe_1 = Pipeline(steps=[('scaler', StandardScaler()),\n",
    "#                        ('xgb', XGBClassifier(subsample = 0.9999999999999999, reg_lambda = 0.01, reg_alpha = 0, \n",
    "#                         n_estimators = 280, min_child_weight = 11, max_depth = 12, learning_rate = 0.1, gamma = 0.8, \n",
    "#                         colsample_bytree = 0.5))])\n",
    "\n",
    "\n",
    "\n",
    "# pipe_1 = Pipeline(steps=[('scaler', StandardScaler()),\n",
    "#                        ('xgb', XGBClassifier(objective='multi:softmax',num_class=6,n_estimators = 200, min_child_weight = 9, max_depth = 10, learning_rate = 0.1, gamma = 0.01, \n",
    "#                         ))])\n",
    "\n",
    "\n",
    "\n",
    "\n",
    "\n",
    "\n",
    "pipe_1 = Pipeline(steps=[('scaler', StandardScaler()),\n",
    "                       ('xgb', XGBClassifier(subsample = 0.8, reg_lambda = 0.001, n_estimators = 650, \n",
    "                        min_child_weight = 8, max_depth = 12, learning_rate = 0.1, gamma = 0.01, \n",
    "                        colsample_bytree = 0.5))])\n",
    "\n",
    "                         \n",
    "# pipe_1 = Pipeline(steps=[('scaler', StandardScaler()),\n",
    "#                        ('xgb', XGBClassifier(learning_rate = 0.01, n_estimators = 650, subsample=0.8,\n",
    "#                          min_samples_split=2,min_samples_leaf=2,min_weight_fraction_leaf=0.5,loss='softmax',\n",
    "#                          min_child_weight = 8,max_depth = 12,min_impurity_decrease=0.5,\n",
    "#                           max_features='sqrt',n_iter_no_change=5, tol=0.001,colsample_bytree=0.5))])\n",
    "\n",
    "pipe_1.fit(X_train_new,y_train)\n",
    "                 \n",
    "y_pred = pipe_1.predict(X_val_new)\n",
    "print(y_pred[:5])\n",
    "\n",
    "\n",
    "# Calculate the test accuracy\n",
    "accuracy = accuracy_score(y_val,y_pred)\n",
    "\n",
    "# Generate the classification report\n",
    "classification_report_xgb = classification_report(y_val, y_pred)\n",
    "\n",
    "# Generate the confusion matrix\n",
    "confusion_matrix_xgb = confusion_matrix(y_val, y_pred)\n",
    "\n",
    "print('Validation Accuracy: {}'.format(accuracy))\n",
    "print(\"\\nClassification Report:\\n\", classification_report_xgb)\n",
    "\n",
    "test_pred_xgb_1 = pipe_1.predict(test_data_new)\n",
    "\n",
    "# Display the confusion matrix using ConfusionMatrixDisplay\n",
    "display = ConfusionMatrixDisplay(confusion_matrix_xgb, display_labels=np.unique(y_val))\n",
    "display.plot(cmap='Blues')\n",
    "plt.title('\\nConfusion Matrix for XGBoost Model\\n')\n",
    "plt.show()"
   ]
  },
  {
   "cell_type": "markdown",
   "id": "19dc5d0f",
   "metadata": {
    "papermill": {
     "duration": 0.080556,
     "end_time": "2024-08-10T17:50:42.148298",
     "exception": false,
     "start_time": "2024-08-10T17:50:42.067742",
     "status": "completed"
    },
    "tags": []
   },
   "source": [
    "## *Insights*\n",
    "## *It is a powerful tool for classification , it combine the strength of gradient boosting with optimization that make it fast and effective. The flexibility of various parameters allow us to fine-tune the modelel.*"
   ]
  },
  {
   "cell_type": "code",
   "execution_count": 109,
   "id": "bdf4d716",
   "metadata": {
    "execution": {
     "iopub.execute_input": "2024-08-10T17:50:42.312442Z",
     "iopub.status.busy": "2024-08-10T17:50:42.311987Z",
     "iopub.status.idle": "2024-08-10T17:50:42.336119Z",
     "shell.execute_reply": "2024-08-10T17:50:42.334889Z"
    },
    "papermill": {
     "duration": 0.109672,
     "end_time": "2024-08-10T17:50:42.338863",
     "exception": false,
     "start_time": "2024-08-10T17:50:42.229191",
     "status": "completed"
    },
    "tags": []
   },
   "outputs": [
    {
     "data": {
      "text/html": [
       "<div>\n",
       "<style scoped>\n",
       "    .dataframe tbody tr th:only-of-type {\n",
       "        vertical-align: middle;\n",
       "    }\n",
       "\n",
       "    .dataframe tbody tr th {\n",
       "        vertical-align: top;\n",
       "    }\n",
       "\n",
       "    .dataframe thead th {\n",
       "        text-align: right;\n",
       "    }\n",
       "</style>\n",
       "<table border=\"1\" class=\"dataframe\">\n",
       "  <thead>\n",
       "    <tr style=\"text-align: right;\">\n",
       "      <th></th>\n",
       "      <th>Weapon_Description</th>\n",
       "      <th>Modus_Operandi</th>\n",
       "      <th>Part 1-2</th>\n",
       "      <th>Weapon_Used_Code</th>\n",
       "      <th>Victim_Age</th>\n",
       "      <th>Premise_Code</th>\n",
       "      <th>Status_Description</th>\n",
       "      <th>Premise_Description</th>\n",
       "      <th>Time_Occurred</th>\n",
       "      <th>Longitude</th>\n",
       "      <th>Latitude</th>\n",
       "      <th>Location</th>\n",
       "      <th>Victim_Descent</th>\n",
       "      <th>Reporting_District_no</th>\n",
       "      <th>Victim_Sex</th>\n",
       "      <th>Status</th>\n",
       "      <th>Occurred_Day</th>\n",
       "      <th>Reported_Day</th>\n",
       "    </tr>\n",
       "  </thead>\n",
       "  <tbody>\n",
       "    <tr>\n",
       "      <th>8278</th>\n",
       "      <td>29</td>\n",
       "      <td>2459</td>\n",
       "      <td>-0.845911</td>\n",
       "      <td>0.165459</td>\n",
       "      <td>0.176277</td>\n",
       "      <td>-0.924358</td>\n",
       "      <td>2</td>\n",
       "      <td>186</td>\n",
       "      <td>0.738015</td>\n",
       "      <td>0.984001</td>\n",
       "      <td>0.204709</td>\n",
       "      <td>12294</td>\n",
       "      <td>15</td>\n",
       "      <td>0.025531</td>\n",
       "      <td>0</td>\n",
       "      <td>2</td>\n",
       "      <td>-1.628857</td>\n",
       "      <td>-1.562493</td>\n",
       "    </tr>\n",
       "    <tr>\n",
       "      <th>11951</th>\n",
       "      <td>29</td>\n",
       "      <td>5854</td>\n",
       "      <td>-0.845911</td>\n",
       "      <td>0.165459</td>\n",
       "      <td>1.868566</td>\n",
       "      <td>-0.839463</td>\n",
       "      <td>2</td>\n",
       "      <td>162</td>\n",
       "      <td>0.846265</td>\n",
       "      <td>-0.639427</td>\n",
       "      <td>-0.230771</td>\n",
       "      <td>5024</td>\n",
       "      <td>15</td>\n",
       "      <td>-0.468431</td>\n",
       "      <td>2</td>\n",
       "      <td>2</td>\n",
       "      <td>1.390188</td>\n",
       "      <td>0.590997</td>\n",
       "    </tr>\n",
       "    <tr>\n",
       "      <th>8311</th>\n",
       "      <td>29</td>\n",
       "      <td>1815</td>\n",
       "      <td>-0.845911</td>\n",
       "      <td>0.165459</td>\n",
       "      <td>1.091028</td>\n",
       "      <td>-0.924358</td>\n",
       "      <td>2</td>\n",
       "      <td>186</td>\n",
       "      <td>0.691622</td>\n",
       "      <td>-1.133219</td>\n",
       "      <td>-0.712973</td>\n",
       "      <td>321</td>\n",
       "      <td>6</td>\n",
       "      <td>0.469764</td>\n",
       "      <td>2</td>\n",
       "      <td>2</td>\n",
       "      <td>0.719289</td>\n",
       "      <td>0.817680</td>\n",
       "    </tr>\n",
       "    <tr>\n",
       "      <th>4340</th>\n",
       "      <td>29</td>\n",
       "      <td>209</td>\n",
       "      <td>1.182157</td>\n",
       "      <td>0.165459</td>\n",
       "      <td>-0.509787</td>\n",
       "      <td>0.499991</td>\n",
       "      <td>2</td>\n",
       "      <td>50</td>\n",
       "      <td>-0.499130</td>\n",
       "      <td>0.188715</td>\n",
       "      <td>-0.480247</td>\n",
       "      <td>6451</td>\n",
       "      <td>16</td>\n",
       "      <td>-1.287279</td>\n",
       "      <td>4</td>\n",
       "      <td>2</td>\n",
       "      <td>0.495657</td>\n",
       "      <td>0.477656</td>\n",
       "    </tr>\n",
       "    <tr>\n",
       "      <th>2472</th>\n",
       "      <td>29</td>\n",
       "      <td>1338</td>\n",
       "      <td>-0.845911</td>\n",
       "      <td>0.165459</td>\n",
       "      <td>1.228240</td>\n",
       "      <td>-0.834747</td>\n",
       "      <td>1</td>\n",
       "      <td>185</td>\n",
       "      <td>0.598836</td>\n",
       "      <td>-0.705137</td>\n",
       "      <td>1.460020</td>\n",
       "      <td>2373</td>\n",
       "      <td>6</td>\n",
       "      <td>1.404643</td>\n",
       "      <td>0</td>\n",
       "      <td>1</td>\n",
       "      <td>-0.175242</td>\n",
       "      <td>-0.202394</td>\n",
       "    </tr>\n",
       "  </tbody>\n",
       "</table>\n",
       "</div>"
      ],
      "text/plain": [
       "       Weapon_Description  Modus_Operandi  Part 1-2  Weapon_Used_Code  \\\n",
       "8278                   29            2459 -0.845911          0.165459   \n",
       "11951                  29            5854 -0.845911          0.165459   \n",
       "8311                   29            1815 -0.845911          0.165459   \n",
       "4340                   29             209  1.182157          0.165459   \n",
       "2472                   29            1338 -0.845911          0.165459   \n",
       "\n",
       "       Victim_Age  Premise_Code  Status_Description  Premise_Description  \\\n",
       "8278     0.176277     -0.924358                   2                  186   \n",
       "11951    1.868566     -0.839463                   2                  162   \n",
       "8311     1.091028     -0.924358                   2                  186   \n",
       "4340    -0.509787      0.499991                   2                   50   \n",
       "2472     1.228240     -0.834747                   1                  185   \n",
       "\n",
       "       Time_Occurred  Longitude  Latitude  Location  Victim_Descent  \\\n",
       "8278        0.738015   0.984001  0.204709     12294              15   \n",
       "11951       0.846265  -0.639427 -0.230771      5024              15   \n",
       "8311        0.691622  -1.133219 -0.712973       321               6   \n",
       "4340       -0.499130   0.188715 -0.480247      6451              16   \n",
       "2472        0.598836  -0.705137  1.460020      2373               6   \n",
       "\n",
       "       Reporting_District_no  Victim_Sex  Status  Occurred_Day  Reported_Day  \n",
       "8278                0.025531           0       2     -1.628857     -1.562493  \n",
       "11951              -0.468431           2       2      1.390188      0.590997  \n",
       "8311                0.469764           2       2      0.719289      0.817680  \n",
       "4340               -1.287279           4       2      0.495657      0.477656  \n",
       "2472                1.404643           0       1     -0.175242     -0.202394  "
      ]
     },
     "execution_count": 109,
     "metadata": {},
     "output_type": "execute_result"
    }
   ],
   "source": [
    "X_train_new.head()"
   ]
  },
  {
   "cell_type": "markdown",
   "id": "17f06541",
   "metadata": {
    "papermill": {
     "duration": 0.081842,
     "end_time": "2024-08-10T17:50:42.563152",
     "exception": false,
     "start_time": "2024-08-10T17:50:42.481310",
     "status": "completed"
    },
    "tags": []
   },
   "source": [
    "## Hyperparameter Tuning for Logistic Regression"
   ]
  },
  {
   "cell_type": "markdown",
   "id": "f94bc481",
   "metadata": {
    "papermill": {
     "duration": 0.08053,
     "end_time": "2024-08-10T17:50:42.725178",
     "exception": false,
     "start_time": "2024-08-10T17:50:42.644648",
     "status": "completed"
    },
    "tags": []
   },
   "source": [
    "## Logistic Regression is a simple but effective linear model for classification problems, especially when the relationship between the features and the target variable is approximately linear.\n",
    "## It provides probabilistic outputs and can be regularized to prevent overfitting, making it suitable for high-dimensional datasets."
   ]
  },
  {
   "cell_type": "code",
   "execution_count": 110,
   "id": "17bb92a4",
   "metadata": {
    "execution": {
     "iopub.execute_input": "2024-08-10T17:50:42.891344Z",
     "iopub.status.busy": "2024-08-10T17:50:42.890894Z",
     "iopub.status.idle": "2024-08-10T17:50:42.897603Z",
     "shell.execute_reply": "2024-08-10T17:50:42.896351Z"
    },
    "papermill": {
     "duration": 0.092991,
     "end_time": "2024-08-10T17:50:42.900632",
     "exception": false,
     "start_time": "2024-08-10T17:50:42.807641",
     "status": "completed"
    },
    "scrolled": true,
    "tags": []
   },
   "outputs": [],
   "source": [
    "# # Define the model\n",
    "# lg_model = LogisticRegression(max_iter=10000,random_state=42)\n",
    "\n",
    "# # Define the parameter grid\n",
    "# param_grid = {\n",
    "#     'penalty': ['l1', 'l2', 'elasticnet'],\n",
    "# #     'penalty': ['l2'],\n",
    "#     'C': [0.01, 0.1, 1, 10, 100],\n",
    "#     'solver': ['liblinear', 'saga']\n",
    "# }\n",
    "\n",
    "# # Set up GridSearchCV\n",
    "# grid_search_cv_3 = GridSearchCV(lg_model, param_grid=param_grid, cv=5, scoring='accuracy', n_jobs=-1, verbose=2)\n",
    "\n",
    "# # Fit the model\n",
    "# grid_search_cv_3.fit(X_train_new, y_train)\n",
    "\n",
    "# # Get the best parameters and score\n",
    "# lg_best_params = grid_search_cv_3.best_params_\n",
    "# lg_best_score = grid_search_cv_3.best_score_\n",
    "# print('Logistic Regression Best Parameter: {}'.format(lg_best_params))\n",
    "# print('RLogistic Regression Best Cross-Validation Score: {}'.format(lg_best_score))"
   ]
  },
  {
   "cell_type": "code",
   "execution_count": 111,
   "id": "2cb37b05",
   "metadata": {
    "execution": {
     "iopub.execute_input": "2024-08-10T17:50:43.065312Z",
     "iopub.status.busy": "2024-08-10T17:50:43.064858Z",
     "iopub.status.idle": "2024-08-10T17:50:43.070744Z",
     "shell.execute_reply": "2024-08-10T17:50:43.069490Z"
    },
    "papermill": {
     "duration": 0.091217,
     "end_time": "2024-08-10T17:50:43.073303",
     "exception": false,
     "start_time": "2024-08-10T17:50:42.982086",
     "status": "completed"
    },
    "scrolled": true,
    "tags": []
   },
   "outputs": [],
   "source": [
    "# pipeline = Pipeline([\n",
    "#     ('scaler', StandardScaler()),\n",
    "#     ('logistic', LogisticRegression(max_iter=20000, tol=1e-4))  \n",
    "# ])\n",
    "\n",
    "# param_grid = {\n",
    "#     'logistic__C': [0.001, 0.01, 0.1, 1, 10, 100],  \n",
    "#     'logistic__penalty': ['l2'],  \n",
    "#     'logistic__solver': ['liblinear', 'saga']  \n",
    "# }\n",
    "\n",
    "# # Set up GridSearchCV\n",
    "# grid_search_cv_2 = GridSearchCV(pipeline, param_grid=param_grid, cv=5, scoring='accuracy', n_jobs=-1)\n",
    "# grid_search_cv_2.fit(X_train_new, y_train)\n",
    "\n",
    "# # Get the best parameters and score\n",
    "# lg_best_params = grid_search_cv_2.best_params_\n",
    "# lg_best_score = grid_search_cv_2.best_score_\n",
    "# print('Logistic Regression Best Parameter: {}'.format(lg_best_params))\n",
    "# print('RLogistic Regression Best Cross-Validation Score: {}'.format(lg_best_score))"
   ]
  },
  {
   "cell_type": "code",
   "execution_count": 112,
   "id": "1ee6efe7",
   "metadata": {
    "execution": {
     "iopub.execute_input": "2024-08-10T17:50:43.238738Z",
     "iopub.status.busy": "2024-08-10T17:50:43.238305Z",
     "iopub.status.idle": "2024-08-10T17:50:43.244248Z",
     "shell.execute_reply": "2024-08-10T17:50:43.242841Z"
    },
    "papermill": {
     "duration": 0.091825,
     "end_time": "2024-08-10T17:50:43.247041",
     "exception": false,
     "start_time": "2024-08-10T17:50:43.155216",
     "status": "completed"
    },
    "tags": []
   },
   "outputs": [],
   "source": [
    "# print('Logistic Regression Best Parameter: {}'.format(lg_best_params))\n",
    "# print('Logistic Regression Best Cross-Validation Score: {}'.format(lg_best_score))\n",
    "\n",
    "# # Logistic Regression Best Parameter: {'logistic__C': 100, 'logistic__penalty': 'l2', 'logistic__solver': 'saga'}\n",
    "# # Logistic Regression Best Cross-Validation Score: 0.7994816585225347"
   ]
  },
  {
   "cell_type": "code",
   "execution_count": 113,
   "id": "fcb2e416",
   "metadata": {
    "execution": {
     "iopub.execute_input": "2024-08-10T17:50:43.415837Z",
     "iopub.status.busy": "2024-08-10T17:50:43.415422Z",
     "iopub.status.idle": "2024-08-10T17:50:56.125671Z",
     "shell.execute_reply": "2024-08-10T17:50:56.124542Z"
    },
    "papermill": {
     "duration": 12.796288,
     "end_time": "2024-08-10T17:50:56.128152",
     "exception": false,
     "start_time": "2024-08-10T17:50:43.331864",
     "status": "completed"
    },
    "tags": []
   },
   "outputs": [
    {
     "name": "stdout",
     "output_type": "stream",
     "text": [
      "[4 5 2 4 4]\n",
      "Validation Accuracy: 0.8087349397590361\n",
      "\n",
      "Classification Report:\n",
      "               precision    recall  f1-score   support\n",
      "\n",
      "           0       0.44      0.16      0.23        45\n",
      "           1       0.72      0.22      0.34       338\n",
      "           2       0.55      0.70      0.61       276\n",
      "           3       0.00      0.00      0.00        38\n",
      "           4       0.88      0.92      0.90      2372\n",
      "           5       0.74      0.84      0.79       915\n",
      "\n",
      "    accuracy                           0.81      3984\n",
      "   macro avg       0.55      0.47      0.48      3984\n",
      "weighted avg       0.80      0.81      0.79      3984\n",
      "\n"
     ]
    },
    {
     "data": {
      "image/png": "[encoded data removed]",
      "text/plain": [
       "<Figure size 640x480 with 2 Axes>"
      ]
     },
     "metadata": {},
     "output_type": "display_data"
    }
   ],
   "source": [
    "pipe_2 = Pipeline(steps=[('scaler', StandardScaler()),\n",
    "                       ('logreg', LogisticRegression(C = 100, penalty = 'l2', solver = 'saga', max_iter = 10000, \n",
    "                        multi_class = 'multinomial', dual = False, tol = 0.0001))])\n",
    "\n",
    "pipe_2.fit(X_train_new, y_train)\n",
    "\n",
    "y_pred = pipe_2.predict(X_val_new)\n",
    "print(y_pred[:5])\n",
    "\n",
    "# Calculate the test accuracy\n",
    "accuracy = accuracy_score(y_val,y_pred)\n",
    "\n",
    "# Generate the classification report\n",
    "classification_report_lg = classification_report(y_val, y_pred)\n",
    "\n",
    "# Generate the confusion matrix\n",
    "confusion_matrix_lg = confusion_matrix(y_val, y_pred)\n",
    "\n",
    "print('Validation Accuracy: {}'.format(accuracy))\n",
    "print(\"\\nClassification Report:\\n\", classification_report_lg)\n",
    "\n",
    "test_pred_lg = pipe_2.predict(test_data_new)\n",
    "\n",
    "# Display the confusion matrix using ConfusionMatrixDisplay\n",
    "display = ConfusionMatrixDisplay(confusion_matrix_lg, display_labels=np.unique(y_val))\n",
    "display.plot(cmap='Blues')\n",
    "plt.title('\\nConfusion Matrix for Logistic Regression Model\\n')\n",
    "plt.show()"
   ]
  },
  {
   "cell_type": "markdown",
   "id": "2a024a7f",
   "metadata": {
    "papermill": {
     "duration": 0.082106,
     "end_time": "2024-08-10T17:50:56.293188",
     "exception": false,
     "start_time": "2024-08-10T17:50:56.211082",
     "status": "completed"
    },
    "tags": []
   },
   "source": [
    "## *Insights*\n",
    "## *Logistic regression (using the softmax function) is often preferred for its ability to directly model the probabilities of multiple classes.*"
   ]
  },
  {
   "cell_type": "code",
   "execution_count": 114,
   "id": "03ac8d6c",
   "metadata": {
    "execution": {
     "iopub.execute_input": "2024-08-10T17:50:56.458721Z",
     "iopub.status.busy": "2024-08-10T17:50:56.458282Z",
     "iopub.status.idle": "2024-08-10T17:50:56.463597Z",
     "shell.execute_reply": "2024-08-10T17:50:56.462339Z"
    },
    "papermill": {
     "duration": 0.090577,
     "end_time": "2024-08-10T17:50:56.466063",
     "exception": false,
     "start_time": "2024-08-10T17:50:56.375486",
     "status": "completed"
    },
    "tags": []
   },
   "outputs": [],
   "source": [
    "# print(pipe_2[-1].coef_.shape)\n",
    "# print(pipe_2[-1].intercept_.shape)\n",
    "# print(pipe_2[-1].classes_)"
   ]
  },
  {
   "cell_type": "markdown",
   "id": "c118a491",
   "metadata": {
    "papermill": {
     "duration": 0.081749,
     "end_time": "2024-08-10T17:50:56.629909",
     "exception": false,
     "start_time": "2024-08-10T17:50:56.548160",
     "status": "completed"
    },
    "tags": []
   },
   "source": [
    "## Gaussian Naive Bayes model"
   ]
  },
  {
   "cell_type": "code",
   "execution_count": 115,
   "id": "c2d9dda5",
   "metadata": {
    "execution": {
     "iopub.execute_input": "2024-08-10T17:50:56.796693Z",
     "iopub.status.busy": "2024-08-10T17:50:56.796255Z",
     "iopub.status.idle": "2024-08-10T17:50:56.802438Z",
     "shell.execute_reply": "2024-08-10T17:50:56.801054Z"
    },
    "papermill": {
     "duration": 0.092316,
     "end_time": "2024-08-10T17:50:56.804856",
     "exception": false,
     "start_time": "2024-08-10T17:50:56.712540",
     "status": "completed"
    },
    "tags": []
   },
   "outputs": [],
   "source": [
    "# # Define the model\n",
    "# naive_bayes_model = GaussianNB()\n",
    "\n",
    "# param_grid = {\n",
    "#     'var_smoothing': np.logspace(-9, -6, 10)  \n",
    "# }\n",
    "\n",
    "# # Set up GridSearchCV\n",
    "# grid_search_cv_2 = GridSearchCV(naive_bayes_model, param_grid=param_grid, cv=5, scoring='accuracy', verbose=1,n_jobs=-1)\n",
    "\n",
    "# # Fit the model\n",
    "# grid_search_cv_2.fit(X_train_new, y_train)\n",
    "\n",
    "# # Get the best parameters and score\n",
    "# nb_best_params = grid_search_cv_2.best_params_\n",
    "# nb_best_score = grid_search_cv_2.best_score_\n",
    "# print('Naive Bayes Best Parameter: {}'.format(nb_best_params))\n",
    "# print('Naive Bayes Best Cross-Validation Score: {}'.format(nb_best_score))"
   ]
  },
  {
   "cell_type": "code",
   "execution_count": 116,
   "id": "e0999c7f",
   "metadata": {
    "execution": {
     "iopub.execute_input": "2024-08-10T17:50:56.971175Z",
     "iopub.status.busy": "2024-08-10T17:50:56.970754Z",
     "iopub.status.idle": "2024-08-10T17:50:56.976763Z",
     "shell.execute_reply": "2024-08-10T17:50:56.975389Z"
    },
    "papermill": {
     "duration": 0.092845,
     "end_time": "2024-08-10T17:50:56.979424",
     "exception": false,
     "start_time": "2024-08-10T17:50:56.886579",
     "status": "completed"
    },
    "tags": []
   },
   "outputs": [],
   "source": [
    "# print('Naive Bayes Best Parameter: {}'.format(nb_best_params))\n",
    "# print('Naive Bayes Best Cross-Validation Score: {}'.format(nb_best_score))\n",
    "\n",
    "# Naive Bayes Best Parameter: {'var_smoothing': 1e-07}\n",
    "# Naive Bayes Best Cross-Validation Score: 0.7492634824290336"
   ]
  },
  {
   "cell_type": "code",
   "execution_count": 117,
   "id": "bf6281b4",
   "metadata": {
    "execution": {
     "iopub.execute_input": "2024-08-10T17:50:57.146628Z",
     "iopub.status.busy": "2024-08-10T17:50:57.146189Z",
     "iopub.status.idle": "2024-08-10T17:50:57.152000Z",
     "shell.execute_reply": "2024-08-10T17:50:57.150753Z"
    },
    "papermill": {
     "duration": 0.092415,
     "end_time": "2024-08-10T17:50:57.154613",
     "exception": false,
     "start_time": "2024-08-10T17:50:57.062198",
     "status": "completed"
    },
    "tags": []
   },
   "outputs": [],
   "source": [
    "# nb = GaussianNB(var_smoothing = 1e-07)\n",
    "# nb.fit(X_train_new,y_train)\n",
    "\n",
    "# y_pred = nb.predict(X_val_new)\n",
    "# print(y_pred[:5])\n",
    "\n",
    "# # Calculate the test accuracy\n",
    "# accuracy = accuracy_score(y_val,y_pred)\n",
    "\n",
    "# # Generate the classification report\n",
    "# classification_report_nb = classification_report(y_val, y_pred)\n",
    "\n",
    "# # Generate the confusion matrix\n",
    "# confusion_matrix_nb = confusion_matrix(y_val, y_pred)\n",
    "\n",
    "# print('Validation Accuracy: {}'.format(accuracy))\n",
    "# print(\"\\nClassification Report:\\n\", classification_report_nb)\n",
    "\n",
    "# test_pred_nb = nb.predict(test_data_new)\n",
    "\n",
    "# # Display the confusion matrix using ConfusionMatrixDisplay\n",
    "# display = ConfusionMatrixDisplay(confusion_matrix_nb, display_labels=np.unique(y_val))\n",
    "# display.plot(cmap='Blues')\n",
    "# plt.title('\\nConfusion Matrix for Naive Bayes Model\\n')\n",
    "# plt.show()"
   ]
  },
  {
   "cell_type": "markdown",
   "id": "ae2cc7a0",
   "metadata": {
    "papermill": {
     "duration": 0.083102,
     "end_time": "2024-08-10T17:50:57.322175",
     "exception": false,
     "start_time": "2024-08-10T17:50:57.239073",
     "status": "completed"
    },
    "tags": []
   },
   "source": [
    "## Accuracy: Gives a general idea of each model's performance level. \n",
    "## Precision, recall, and F1-score are included in the classification report, which provides additional insights into the performance of the model, especially for datasets that are imbalanced."
   ]
  },
  {
   "cell_type": "markdown",
   "id": "d00c0b67",
   "metadata": {
    "papermill": {
     "duration": 0.083329,
     "end_time": "2024-08-10T17:50:57.486884",
     "exception": false,
     "start_time": "2024-08-10T17:50:57.403555",
     "status": "completed"
    },
    "tags": []
   },
   "source": [
    "## XGBClassifier and RandomForestClassifier models can provide feature importance scores and indicate which features are most influential in making predictions."
   ]
  },
  {
   "cell_type": "markdown",
   "id": "e71761d6",
   "metadata": {
    "papermill": {
     "duration": 0.082616,
     "end_time": "2024-08-10T17:50:57.653021",
     "exception": false,
     "start_time": "2024-08-10T17:50:57.570405",
     "status": "completed"
    },
    "tags": []
   },
   "source": [
    "## To compare the three models Random Forest, XGBoost, and Logistic Regression after hyperparameter tuning, will use the best cross-validation scores obtained for each model."
   ]
  },
  {
   "cell_type": "code",
   "execution_count": 118,
   "id": "4cda44bd",
   "metadata": {
    "execution": {
     "iopub.execute_input": "2024-08-10T17:50:57.821375Z",
     "iopub.status.busy": "2024-08-10T17:50:57.820955Z",
     "iopub.status.idle": "2024-08-10T17:50:57.826659Z",
     "shell.execute_reply": "2024-08-10T17:50:57.825520Z"
    },
    "papermill": {
     "duration": 0.091585,
     "end_time": "2024-08-10T17:50:57.829077",
     "exception": false,
     "start_time": "2024-08-10T17:50:57.737492",
     "status": "completed"
    },
    "tags": []
   },
   "outputs": [],
   "source": [
    "# rf_best_params = {'max_depth': 20, 'max_features': 'sqrt', 'min_samples_leaf': 1, 'min_samples_split': 5, 'n_estimators': 500}\n",
    "# rf_best_score = 0.9072303233761279\n",
    "\n",
    "# xgb_best_params = {'subsample': 0.8, 'reg_lambda': 0.001, 'reg_alpha': 1, 'n_estimators': 70, \n",
    "#                    'min_child_weight': 8, 'max_depth': 12, 'learning_rate': 0.1, 'gamma': 0.01, \n",
    "#                    'colsample_bytree': 0.5}\n",
    "# xgb_best_score = 0.9227174414906039\n",
    "\n",
    "# lg_best_params = {'C': 100, 'penalty': 'l2', 'solver': 'saga'}\n",
    "# lg_best_score = 0.7994816585225347\n"
   ]
  },
  {
   "cell_type": "code",
   "execution_count": 119,
   "id": "e032308d",
   "metadata": {
    "execution": {
     "iopub.execute_input": "2024-08-10T17:50:57.996570Z",
     "iopub.status.busy": "2024-08-10T17:50:57.996129Z",
     "iopub.status.idle": "2024-08-10T17:50:58.002112Z",
     "shell.execute_reply": "2024-08-10T17:50:58.000984Z"
    },
    "papermill": {
     "duration": 0.092452,
     "end_time": "2024-08-10T17:50:58.004638",
     "exception": false,
     "start_time": "2024-08-10T17:50:57.912186",
     "status": "completed"
    },
    "tags": []
   },
   "outputs": [],
   "source": [
    "# model_comparison = {\n",
    "#     'Model': ['Random Forest', 'XGBoost', 'Logistic Regression'],\n",
    "#     'Best Score': [rf_best_score, xgb_best_score, lg_best_score],\n",
    "#     'Best Parameters': [rf_best_params, xgb_best_params, lg_best_params]\n",
    "# }\n",
    "\n",
    "# # Create the DataFrame \n",
    "\n",
    "# model_comparison_data_frame = pd.DataFrame(model_comparison)\n",
    "\n",
    "# # Print the  model comparison DataFrame\n",
    "# print(\"Model Comparison:\")\n",
    "# print(model_comparison_data_frame)\n",
    "\n",
    "# # Determine the best model based on the best score\n",
    "# best_model_index = model_comparison_data_frame['Best Score'].idxmax()    # idxmax() returns the index for the maximum value in each column.\n",
    "# print(\"\\nBest_model_index\",best_model_index)\n",
    "# best_model_name = model_comparison_data_frame['Model'][best_model_index]\n",
    "# best_model_score = model_comparison_data_frame['Best Score'][best_model_index]\n",
    "\n",
    "\n",
    "# print('\\nBest Model: {}'.format(best_model_name))\n",
    "# print('Best Score: {}'.format(best_model_score))\n",
    "# print('Best Parameters: {}'.format(model_comparison_data_frame['Best Parameters'][best_model_index]))"
   ]
  },
  {
   "cell_type": "markdown",
   "id": "800e9b13",
   "metadata": {
    "papermill": {
     "duration": 0.08244,
     "end_time": "2024-08-10T17:50:58.169419",
     "exception": false,
     "start_time": "2024-08-10T17:50:58.086979",
     "status": "completed"
    },
    "tags": []
   },
   "source": [
    "## KNN Model"
   ]
  },
  {
   "cell_type": "code",
   "execution_count": 120,
   "id": "ebcf837a",
   "metadata": {
    "execution": {
     "iopub.execute_input": "2024-08-10T17:50:58.338388Z",
     "iopub.status.busy": "2024-08-10T17:50:58.337931Z",
     "iopub.status.idle": "2024-08-10T17:50:58.344929Z",
     "shell.execute_reply": "2024-08-10T17:50:58.343424Z"
    },
    "papermill": {
     "duration": 0.094348,
     "end_time": "2024-08-10T17:50:58.347807",
     "exception": false,
     "start_time": "2024-08-10T17:50:58.253459",
     "status": "completed"
    },
    "scrolled": true,
    "tags": []
   },
   "outputs": [],
   "source": [
    "# knn_model = KNeighborsClassifier()\n",
    "\n",
    "# # Define the parameter grid\n",
    "# param_grid = {\n",
    "#     'n_neighbors': [3, 5, 7, 9, 11, 13, 15],  \n",
    "#     'weights': ['uniform', 'distance'],      \n",
    "#     'metric': ['euclidean', 'manhattan', 'minkowski'] \n",
    "# }\n",
    "\n",
    "# grid_search_knn = GridSearchCV(knn_model, param_grid=param_grid, cv=5, scoring='accuracy', verbose=1, n_jobs=-1)\n",
    "\n",
    "# # Fit the GridSearchCV\n",
    "# grid_search_knn.fit(X_train_new, y_train)\n",
    "\n",
    "# # Get the best parameters and best score\n",
    "# best_params_knn = grid_search_knn.best_params_\n",
    "# best_score_knn = grid_search_knn.best_score_\n",
    "\n",
    "# print('Best Parameters for KNN: {}'.format(best_params_knn))\n",
    "# print('Best Cross-Validation Accuracy for KNN: {}'.format(best_score_knn))"
   ]
  },
  {
   "cell_type": "code",
   "execution_count": 121,
   "id": "cb2e2e8a",
   "metadata": {
    "execution": {
     "iopub.execute_input": "2024-08-10T17:50:58.523153Z",
     "iopub.status.busy": "2024-08-10T17:50:58.522059Z",
     "iopub.status.idle": "2024-08-10T17:50:58.528973Z",
     "shell.execute_reply": "2024-08-10T17:50:58.527376Z"
    },
    "papermill": {
     "duration": 0.097969,
     "end_time": "2024-08-10T17:50:58.531759",
     "exception": false,
     "start_time": "2024-08-10T17:50:58.433790",
     "status": "completed"
    },
    "tags": []
   },
   "outputs": [],
   "source": [
    "# print('Best Parameters for KNN: {}'.format(best_params_knn))\n",
    "# print('Best Cross-Validation Accuracy for KNN: {}'.format(best_score_knn))\n",
    "\n",
    "# Best Parameters for KNN: {'metric': 'manhattan', 'n_neighbors': 9, 'weights': 'distance'}\n",
    "# Best Cross-Validation Accuracy for KNN: 0.7776479066041542"
   ]
  },
  {
   "cell_type": "code",
   "execution_count": 122,
   "id": "058ea7f0",
   "metadata": {
    "execution": {
     "iopub.execute_input": "2024-08-10T17:50:58.703582Z",
     "iopub.status.busy": "2024-08-10T17:50:58.703089Z",
     "iopub.status.idle": "2024-08-10T17:50:58.709622Z",
     "shell.execute_reply": "2024-08-10T17:50:58.708359Z"
    },
    "papermill": {
     "duration": 0.093475,
     "end_time": "2024-08-10T17:50:58.712047",
     "exception": false,
     "start_time": "2024-08-10T17:50:58.618572",
     "status": "completed"
    },
    "tags": []
   },
   "outputs": [],
   "source": [
    "# knn = KNeighborsClassifier(metric = 'manhattan', n_neighbors = 9, weights = 'distance')\n",
    "# knn.fit(X_train_new,y_train)\n",
    "\n",
    "# y_pred = knn.predict(X_val_new)\n",
    "# print(y_pred[:5])\n",
    "\n",
    "# # Calculate the test accuracy\n",
    "# accuracy = accuracy_score(y_val,y_pred)\n",
    "\n",
    "# # Generate the classification report\n",
    "# classification_report_knn = classification_report(y_val, y_pred)\n",
    "\n",
    "# # Generate the confusion matrix\n",
    "# confusion_matrix_knn = confusion_matrix(y_val, y_pred)\n",
    "\n",
    "# print('Validation Accuracy: {}'.format(accuracy))\n",
    "# print(\"\\nClassification Report:\\n\", classification_report_knn)\n",
    "\n",
    "# test_pred_knn = knn.predict(test_data_new)\n",
    "\n",
    "# # Display the confusion matrix using ConfusionMatrixDisplay\n",
    "# display = ConfusionMatrixDisplay(confusion_matrix_knn, display_labels=np.unique(y_val))\n",
    "# display.plot(cmap='Blues')\n",
    "# plt.title('\\nConfusion Matrix for KNN Model\\n')\n",
    "# plt.show()"
   ]
  },
  {
   "cell_type": "markdown",
   "id": "ffa355bf",
   "metadata": {
    "papermill": {
     "duration": 0.08444,
     "end_time": "2024-08-10T17:50:58.879317",
     "exception": false,
     "start_time": "2024-08-10T17:50:58.794877",
     "status": "completed"
    },
    "tags": []
   },
   "source": [
    "## SVM Model"
   ]
  },
  {
   "cell_type": "code",
   "execution_count": 123,
   "id": "da883059",
   "metadata": {
    "execution": {
     "iopub.execute_input": "2024-08-10T17:50:59.048331Z",
     "iopub.status.busy": "2024-08-10T17:50:59.047884Z",
     "iopub.status.idle": "2024-08-10T17:50:59.053760Z",
     "shell.execute_reply": "2024-08-10T17:50:59.052382Z"
    },
    "papermill": {
     "duration": 0.093258,
     "end_time": "2024-08-10T17:50:59.056555",
     "exception": false,
     "start_time": "2024-08-10T17:50:58.963297",
     "status": "completed"
    },
    "scrolled": true,
    "tags": []
   },
   "outputs": [],
   "source": [
    "# svm_model = SVC((random_state=42)\n",
    "\n",
    "# # Define the parameter grid \n",
    "# param_grid = {\n",
    "#     'C': [0.1, 1, 10, 100],  \n",
    "#     'gamma': [1, 0.1, 0.01, 0.001], \n",
    "#     'kernel': ['rbf', 'ploy']  \n",
    "# }\n",
    "\n",
    "# grid_search_svm = GridSearchCV(svm_model, param_grid, refit = True, verbose = 3)\n",
    "\n",
    "# # Fit the GridSearchCV\n",
    "# grid_search_svm.fit(X_train_new, y_train)\n",
    "\n",
    "# # Get the best parameters and best score\n",
    "# best_params_svm = grid_search_svm.best_params_\n",
    "# best_score_svm = grid_search_svm.best_score_\n",
    "\n",
    "# print('Best Parameters for SVM: {}'.format(best_params_svm))\n",
    "# print('Best Cross-Validation Accuracy for SVM: {}'.format(best_score_svm))"
   ]
  },
  {
   "cell_type": "code",
   "execution_count": 124,
   "id": "0edf7e08",
   "metadata": {
    "execution": {
     "iopub.execute_input": "2024-08-10T17:50:59.229203Z",
     "iopub.status.busy": "2024-08-10T17:50:59.228758Z",
     "iopub.status.idle": "2024-08-10T17:50:59.235126Z",
     "shell.execute_reply": "2024-08-10T17:50:59.233650Z"
    },
    "papermill": {
     "duration": 0.098759,
     "end_time": "2024-08-10T17:50:59.237848",
     "exception": false,
     "start_time": "2024-08-10T17:50:59.139089",
     "status": "completed"
    },
    "tags": []
   },
   "outputs": [],
   "source": [
    "# print('Best Parameters for SVM: {}'.format(best_params_svm))\n",
    "# print('Best Cross-Validation Accuracy for SVM: {}'.format(best_score_svm))\n",
    "\n",
    "# kernel=\"poly\",random_state=42,gamma=1, C=1.0"
   ]
  },
  {
   "cell_type": "code",
   "execution_count": 125,
   "id": "144b107e",
   "metadata": {
    "execution": {
     "iopub.execute_input": "2024-08-10T17:50:59.408847Z",
     "iopub.status.busy": "2024-08-10T17:50:59.408422Z",
     "iopub.status.idle": "2024-08-10T17:50:59.414421Z",
     "shell.execute_reply": "2024-08-10T17:50:59.413175Z"
    },
    "papermill": {
     "duration": 0.095489,
     "end_time": "2024-08-10T17:50:59.416960",
     "exception": false,
     "start_time": "2024-08-10T17:50:59.321471",
     "status": "completed"
    },
    "tags": []
   },
   "outputs": [],
   "source": [
    "# svm = SVC()\n",
    "# svm.fit(X_train_new,y_train)\n",
    "\n",
    "# y_pred = svm.predict(X_val_new)\n",
    "# print(y_pred[:5])\n",
    "\n",
    "# # Calculate the test accuracy\n",
    "# accuracy = accuracy_score(y_val,y_pred)\n",
    "\n",
    "# # Generate the classification report\n",
    "# classification_report_svm = classification_report(y_val, y_pred)\n",
    "\n",
    "# # Generate the confusion matrix\n",
    "# confusion_matrix_svm = confusion_matrix(y_val, y_pred)\n",
    "\n",
    "# print('Validation Accuracy: {}'.format(accuracy))\n",
    "# print(\"\\nClassification Report:\\n\", classification_report_svm)\n",
    "\n",
    "# test_pred_svm = svm.predict(test_data_new)\n",
    "\n",
    "# # Display the confusion matrix using ConfusionMatrixDisplay\n",
    "# display = ConfusionMatrixDisplay(confusion_matrix_svm, display_labels=np.unique(y_val))\n",
    "# display.plot(cmap='Blues')\n",
    "# plt.title('\\nConfusion Matrix for SVM Model\\n')\n",
    "# plt.show()"
   ]
  },
  {
   "cell_type": "markdown",
   "id": "76b6ca8f",
   "metadata": {
    "papermill": {
     "duration": 0.085161,
     "end_time": "2024-08-10T17:50:59.590406",
     "exception": false,
     "start_time": "2024-08-10T17:50:59.505245",
     "status": "completed"
    },
    "tags": []
   },
   "source": [
    "## MLP Model (Multi-Layer Perceptron) "
   ]
  },
  {
   "cell_type": "code",
   "execution_count": 126,
   "id": "a7df6cbb",
   "metadata": {
    "execution": {
     "iopub.execute_input": "2024-08-10T17:50:59.760283Z",
     "iopub.status.busy": "2024-08-10T17:50:59.759822Z",
     "iopub.status.idle": "2024-08-10T17:50:59.765765Z",
     "shell.execute_reply": "2024-08-10T17:50:59.764605Z"
    },
    "papermill": {
     "duration": 0.093046,
     "end_time": "2024-08-10T17:50:59.768133",
     "exception": false,
     "start_time": "2024-08-10T17:50:59.675087",
     "status": "completed"
    },
    "scrolled": true,
    "tags": []
   },
   "outputs": [],
   "source": [
    "# mlp_model = MLPClassifier(max_iter=10000, random_state=42)\n",
    "\n",
    "# # Define the parameter grid \n",
    "# param_grid = {\n",
    "#     'hidden_layer_sizes': [(50,), (100,), (100, 50), (100, 100, 50)],  \n",
    "#     'activation': ['tanh', 'relu'],  \n",
    "#     'solver': ['adam', 'sgd'], \n",
    "#     'alpha': [0.0001, 0.001, 0.01],  \n",
    "#     'learning_rate': ['constant', 'adaptive']  \n",
    "# }\n",
    "\n",
    "# # Set up GridSearchCV\n",
    "# grid_search_mlp = GridSearchCV(mlp_model, param_grid=param_grid, cv=5, scoring='accuracy', n_jobs=-1, verbose=1)\n",
    "\n",
    "# # Fit the GridSearchCV\n",
    "# grid_search_mlp.fit(X_train_new, y_train)\n",
    "\n",
    "# # Get the best parameters and best score\n",
    "# best_params_mlp = grid_search_mlp.best_params_\n",
    "# best_score_mlp = grid_search_mlp.best_score_\n",
    "\n",
    "# print('Best Parameters for MLP: {}'.format(best_params_mlp))\n",
    "# print('Best Cross-Validation Accuracy for MLP: {}'.format(best_score_mlp))"
   ]
  },
  {
   "cell_type": "code",
   "execution_count": 127,
   "id": "74a89f50",
   "metadata": {
    "execution": {
     "iopub.execute_input": "2024-08-10T17:50:59.936241Z",
     "iopub.status.busy": "2024-08-10T17:50:59.935789Z",
     "iopub.status.idle": "2024-08-10T17:50:59.940953Z",
     "shell.execute_reply": "2024-08-10T17:50:59.939776Z"
    },
    "papermill": {
     "duration": 0.09278,
     "end_time": "2024-08-10T17:50:59.943675",
     "exception": false,
     "start_time": "2024-08-10T17:50:59.850895",
     "status": "completed"
    },
    "tags": []
   },
   "outputs": [],
   "source": [
    "# print('Best Parameters for MLP: {}'.format(best_params_mlp))\n",
    "# print('Best Cross-Validation Accuracy for MLP: {}'.format(best_score_mlp))\n",
    "\n",
    "# Best Parameters for MLP: {'activation': 'relu', 'alpha': 0.001, 'hidden_layer_sizes': (100, 100, 50), 'learning_rate': 'constant', 'solver': 'adam'}\n",
    "# Best Cross-Validation Accuracy for MLP: 0.7642922779600693"
   ]
  },
  {
   "cell_type": "code",
   "execution_count": 128,
   "id": "eb78c430",
   "metadata": {
    "execution": {
     "iopub.execute_input": "2024-08-10T17:51:00.113473Z",
     "iopub.status.busy": "2024-08-10T17:51:00.113019Z",
     "iopub.status.idle": "2024-08-10T17:51:00.118772Z",
     "shell.execute_reply": "2024-08-10T17:51:00.117688Z"
    },
    "papermill": {
     "duration": 0.092129,
     "end_time": "2024-08-10T17:51:00.121147",
     "exception": false,
     "start_time": "2024-08-10T17:51:00.029018",
     "status": "completed"
    },
    "tags": []
   },
   "outputs": [],
   "source": [
    "# mlp = MLPClassifier(activation = 'logistic', alpha = 0.001, hidden_layer_sizes= (100, 100, 50), learning_rate = 'constant', solver = 'adam')\n",
    "# mlp.fit(X_train_new,y_train)\n",
    "\n",
    "# y_pred = mlp.predict(X_val_new)\n",
    "# print(y_pred[:5])\n",
    "\n",
    "# # Calculate the test accuracy\n",
    "# accuracy = accuracy_score(y_val,y_pred)\n",
    "\n",
    "# # Generate the classification report\n",
    "# classification_report_mlp = classification_report(y_val, y_pred)\n",
    "\n",
    "# # Generate the confusion matrix\n",
    "# confusion_matrix_mlp = confusion_matrix(y_val, y_pred)\n",
    "\n",
    "# print('Validation Accuracy: {}'.format(accuracy))\n",
    "# print(\"\\nClassification Report:\\n\", classification_report_mlp)\n",
    "\n",
    "# test_pred_mlp = mlp.predict(test_data_new)\n",
    "\n",
    "# # Display the confusion matrix using ConfusionMatrixDisplay\n",
    "# display = ConfusionMatrixDisplay(confusion_matrix_mlp, display_labels=np.unique(y_val))\n",
    "# display.plot(cmap='Blues')\n",
    "# plt.title('\\nConfusion Matrix for MLP Model\\n')\n",
    "# plt.show()"
   ]
  },
  {
   "cell_type": "markdown",
   "id": "6f804200",
   "metadata": {
    "papermill": {
     "duration": 0.086428,
     "end_time": "2024-08-10T17:51:00.289424",
     "exception": false,
     "start_time": "2024-08-10T17:51:00.202996",
     "status": "completed"
    },
    "tags": []
   },
   "source": [
    "## Function to Plot Learning Curves"
   ]
  },
  {
   "cell_type": "code",
   "execution_count": 129,
   "id": "64cdd240",
   "metadata": {
    "execution": {
     "iopub.execute_input": "2024-08-10T17:51:00.456961Z",
     "iopub.status.busy": "2024-08-10T17:51:00.456538Z",
     "iopub.status.idle": "2024-08-10T17:51:00.463899Z",
     "shell.execute_reply": "2024-08-10T17:51:00.462378Z"
    },
    "papermill": {
     "duration": 0.095226,
     "end_time": "2024-08-10T17:51:00.466674",
     "exception": false,
     "start_time": "2024-08-10T17:51:00.371448",
     "status": "completed"
    },
    "tags": []
   },
   "outputs": [],
   "source": [
    "# def plot_learning_curve(estimator, title, X, y, cv=5, n_jobs=-1, train_sizes=np.linspace(0.1, 1.0, 5)):\n",
    "#     plt.figure()\n",
    "#     plt.title(title)\n",
    "#     plt.xlabel(\"Training examples\")\n",
    "#     plt.ylabel(\"Score\")\n",
    "    \n",
    "#     train_sizes, train_scores, test_scores = learning_curve(\n",
    "#         estimator, X, y, cv=cv, n_jobs=n_jobs, train_sizes=train_sizes, scoring='accuracy'\n",
    "#     )\n",
    "    \n",
    "#     train_scores_mean = np.mean(train_scores, axis=1)\n",
    "#     train_scores_std = np.std(train_scores, axis=1)\n",
    "#     test_scores_mean = np.mean(test_scores, axis=1)\n",
    "#     test_scores_std = np.std(test_scores, axis=1)\n",
    "    \n",
    "#     plt.grid()\n",
    "    \n",
    "#     plt.fill_between(train_sizes, train_scores_mean - train_scores_std,\n",
    "#                      train_scores_mean + train_scores_std, alpha=0.1,\n",
    "#                      color=\"r\")\n",
    "#     plt.fill_between(train_sizes, test_scores_mean - test_scores_std,\n",
    "#                      test_scores_mean + test_scores_std, alpha=0.1, color=\"g\")\n",
    "#     plt.plot(train_sizes, train_scores_mean, 'o-', color=\"r\",\n",
    "#              label=\"Training score\")\n",
    "#     plt.plot(train_sizes, test_scores_mean, 'o-', color=\"g\",\n",
    "#              label=\"Cross-validation score\")\n",
    "    \n",
    "#     plt.legend(loc=\"best\")\n",
    "#     return plt"
   ]
  },
  {
   "cell_type": "markdown",
   "id": "7f9048d5",
   "metadata": {
    "papermill": {
     "duration": 0.082703,
     "end_time": "2024-08-10T17:51:00.634886",
     "exception": false,
     "start_time": "2024-08-10T17:51:00.552183",
     "status": "completed"
    },
    "tags": []
   },
   "source": [
    "## Plotting Learning Curves for Each Model\n",
    "##  1. Random Forest Classifier"
   ]
  },
  {
   "cell_type": "code",
   "execution_count": 130,
   "id": "cd673ca0",
   "metadata": {
    "execution": {
     "iopub.execute_input": "2024-08-10T17:51:00.806748Z",
     "iopub.status.busy": "2024-08-10T17:51:00.806363Z",
     "iopub.status.idle": "2024-08-10T17:51:00.811538Z",
     "shell.execute_reply": "2024-08-10T17:51:00.810251Z"
    },
    "papermill": {
     "duration": 0.096666,
     "end_time": "2024-08-10T17:51:00.813979",
     "exception": false,
     "start_time": "2024-08-10T17:51:00.717313",
     "status": "completed"
    },
    "tags": []
   },
   "outputs": [],
   "source": [
    "# plot_learning_curve(forest, \"Learning Curves (Random Forest)\", X_train_new, y_train)\n",
    "# plt.show()"
   ]
  },
  {
   "cell_type": "markdown",
   "id": "5cd0b0fc",
   "metadata": {
    "papermill": {
     "duration": 0.101781,
     "end_time": "2024-08-10T17:51:00.998854",
     "exception": false,
     "start_time": "2024-08-10T17:51:00.897073",
     "status": "completed"
    },
    "tags": []
   },
   "source": [
    "## 2. XGBoost Classifier"
   ]
  },
  {
   "cell_type": "code",
   "execution_count": 131,
   "id": "3514b7c4",
   "metadata": {
    "execution": {
     "iopub.execute_input": "2024-08-10T17:51:01.174303Z",
     "iopub.status.busy": "2024-08-10T17:51:01.173894Z",
     "iopub.status.idle": "2024-08-10T17:51:01.179360Z",
     "shell.execute_reply": "2024-08-10T17:51:01.177935Z"
    },
    "papermill": {
     "duration": 0.092438,
     "end_time": "2024-08-10T17:51:01.182051",
     "exception": false,
     "start_time": "2024-08-10T17:51:01.089613",
     "status": "completed"
    },
    "tags": []
   },
   "outputs": [],
   "source": [
    "# plot_learning_curve(pipe_1, \"Learning Curves (XGBoost)\", X_train_new, y_train)\n",
    "# plt.show()"
   ]
  },
  {
   "cell_type": "markdown",
   "id": "cfd02d6b",
   "metadata": {
    "papermill": {
     "duration": 0.082996,
     "end_time": "2024-08-10T17:51:01.351378",
     "exception": false,
     "start_time": "2024-08-10T17:51:01.268382",
     "status": "completed"
    },
    "tags": []
   },
   "source": [
    "## 3. Logistic Regression:"
   ]
  },
  {
   "cell_type": "code",
   "execution_count": 132,
   "id": "cf693857",
   "metadata": {
    "execution": {
     "iopub.execute_input": "2024-08-10T17:51:01.526436Z",
     "iopub.status.busy": "2024-08-10T17:51:01.525987Z",
     "iopub.status.idle": "2024-08-10T17:51:01.531316Z",
     "shell.execute_reply": "2024-08-10T17:51:01.529930Z"
    },
    "papermill": {
     "duration": 0.09979,
     "end_time": "2024-08-10T17:51:01.534077",
     "exception": false,
     "start_time": "2024-08-10T17:51:01.434287",
     "status": "completed"
    },
    "tags": []
   },
   "outputs": [],
   "source": [
    "# plot_learning_curve(pipe_2, \"Learning Curves (Logistic Regression)\", X_train_new, y_train)\n",
    "# plt.show()"
   ]
  },
  {
   "cell_type": "code",
   "execution_count": 133,
   "id": "ce81b8f7",
   "metadata": {
    "execution": {
     "iopub.execute_input": "2024-08-10T17:51:01.705579Z",
     "iopub.status.busy": "2024-08-10T17:51:01.705107Z",
     "iopub.status.idle": "2024-08-10T17:51:01.710102Z",
     "shell.execute_reply": "2024-08-10T17:51:01.708940Z"
    },
    "papermill": {
     "duration": 0.09343,
     "end_time": "2024-08-10T17:51:01.712720",
     "exception": false,
     "start_time": "2024-08-10T17:51:01.619290",
     "status": "completed"
    },
    "tags": []
   },
   "outputs": [],
   "source": [
    "# best_model=classifier"
   ]
  },
  {
   "cell_type": "code",
   "execution_count": 134,
   "id": "a02be2a4",
   "metadata": {
    "execution": {
     "iopub.execute_input": "2024-08-10T17:51:01.882798Z",
     "iopub.status.busy": "2024-08-10T17:51:01.882396Z",
     "iopub.status.idle": "2024-08-10T17:51:01.887582Z",
     "shell.execute_reply": "2024-08-10T17:51:01.886377Z"
    },
    "papermill": {
     "duration": 0.093311,
     "end_time": "2024-08-10T17:51:01.890091",
     "exception": false,
     "start_time": "2024-08-10T17:51:01.796780",
     "status": "completed"
    },
    "tags": []
   },
   "outputs": [],
   "source": [
    "# test_pred=best_model.predict(test_data)"
   ]
  },
  {
   "cell_type": "code",
   "execution_count": 135,
   "id": "ead02bef",
   "metadata": {
    "execution": {
     "iopub.execute_input": "2024-08-10T17:51:02.059150Z",
     "iopub.status.busy": "2024-08-10T17:51:02.058779Z",
     "iopub.status.idle": "2024-08-10T17:51:02.067019Z",
     "shell.execute_reply": "2024-08-10T17:51:02.065915Z"
    },
    "papermill": {
     "duration": 0.094777,
     "end_time": "2024-08-10T17:51:02.069658",
     "exception": false,
     "start_time": "2024-08-10T17:51:01.974881",
     "status": "completed"
    },
    "tags": []
   },
   "outputs": [
    {
     "data": {
      "text/plain": [
       "array(['Violent Crimes', 'Property Crimes',\n",
       "       'Fraud and White-Collar Crimes', ..., 'Violent Crimes',\n",
       "       'Violent Crimes', 'Property Crimes'], dtype=object)"
      ]
     },
     "execution_count": 135,
     "metadata": {},
     "output_type": "execute_result"
    }
   ],
   "source": [
    "test_pred_decode = label_encoder_crime.inverse_transform(test_pred_xgb_1)\n",
    "test_pred_decode\n",
    "\n"
   ]
  },
  {
   "cell_type": "code",
   "execution_count": 136,
   "id": "15d310cd",
   "metadata": {
    "execution": {
     "iopub.execute_input": "2024-08-10T17:51:02.239635Z",
     "iopub.status.busy": "2024-08-10T17:51:02.239223Z",
     "iopub.status.idle": "2024-08-10T17:51:02.254467Z",
     "shell.execute_reply": "2024-08-10T17:51:02.253302Z"
    },
    "papermill": {
     "duration": 0.10475,
     "end_time": "2024-08-10T17:51:02.257195",
     "exception": false,
     "start_time": "2024-08-10T17:51:02.152445",
     "status": "completed"
    },
    "tags": []
   },
   "outputs": [],
   "source": [
    "sample=pd.read_csv(\"/kaggle/input/crime-cast-forecasting-crime-categories/sample.csv\")"
   ]
  },
  {
   "cell_type": "code",
   "execution_count": 137,
   "id": "167b78c8",
   "metadata": {
    "execution": {
     "iopub.execute_input": "2024-08-10T17:51:02.427226Z",
     "iopub.status.busy": "2024-08-10T17:51:02.426775Z",
     "iopub.status.idle": "2024-08-10T17:51:02.434247Z",
     "shell.execute_reply": "2024-08-10T17:51:02.433059Z"
    },
    "papermill": {
     "duration": 0.096419,
     "end_time": "2024-08-10T17:51:02.436813",
     "exception": false,
     "start_time": "2024-08-10T17:51:02.340394",
     "status": "completed"
    },
    "tags": []
   },
   "outputs": [
    {
     "data": {
      "text/plain": [
       "(1000, 3)"
      ]
     },
     "execution_count": 137,
     "metadata": {},
     "output_type": "execute_result"
    }
   ],
   "source": [
    "sample.shape"
   ]
  },
  {
   "cell_type": "code",
   "execution_count": 138,
   "id": "d952554e",
   "metadata": {
    "execution": {
     "iopub.execute_input": "2024-08-10T17:51:02.609140Z",
     "iopub.status.busy": "2024-08-10T17:51:02.608730Z",
     "iopub.status.idle": "2024-08-10T17:51:02.621458Z",
     "shell.execute_reply": "2024-08-10T17:51:02.620281Z"
    },
    "papermill": {
     "duration": 0.100889,
     "end_time": "2024-08-10T17:51:02.623822",
     "exception": false,
     "start_time": "2024-08-10T17:51:02.522933",
     "status": "completed"
    },
    "tags": []
   },
   "outputs": [
    {
     "data": {
      "text/html": [
       "<div>\n",
       "<style scoped>\n",
       "    .dataframe tbody tr th:only-of-type {\n",
       "        vertical-align: middle;\n",
       "    }\n",
       "\n",
       "    .dataframe tbody tr th {\n",
       "        vertical-align: top;\n",
       "    }\n",
       "\n",
       "    .dataframe thead th {\n",
       "        text-align: right;\n",
       "    }\n",
       "</style>\n",
       "<table border=\"1\" class=\"dataframe\">\n",
       "  <thead>\n",
       "    <tr style=\"text-align: right;\">\n",
       "      <th></th>\n",
       "      <th>ID</th>\n",
       "      <th>Crime_Category</th>\n",
       "      <th>Unnamed: 2</th>\n",
       "    </tr>\n",
       "  </thead>\n",
       "  <tbody>\n",
       "    <tr>\n",
       "      <th>0</th>\n",
       "      <td>1</td>\n",
       "      <td>Crimes against Persons</td>\n",
       "      <td>NaN</td>\n",
       "    </tr>\n",
       "    <tr>\n",
       "      <th>1</th>\n",
       "      <td>2</td>\n",
       "      <td>Crimes against Public Order</td>\n",
       "      <td>NaN</td>\n",
       "    </tr>\n",
       "    <tr>\n",
       "      <th>2</th>\n",
       "      <td>3</td>\n",
       "      <td>Other Crimes</td>\n",
       "      <td>NaN</td>\n",
       "    </tr>\n",
       "    <tr>\n",
       "      <th>3</th>\n",
       "      <td>4</td>\n",
       "      <td>Crimes against Public Order</td>\n",
       "      <td>NaN</td>\n",
       "    </tr>\n",
       "    <tr>\n",
       "      <th>4</th>\n",
       "      <td>5</td>\n",
       "      <td>Other Crimes</td>\n",
       "      <td>NaN</td>\n",
       "    </tr>\n",
       "  </tbody>\n",
       "</table>\n",
       "</div>"
      ],
      "text/plain": [
       "   ID              Crime_Category   Unnamed: 2\n",
       "0   1       Crimes against Persons         NaN\n",
       "1   2  Crimes against Public Order         NaN\n",
       "2   3                 Other Crimes         NaN\n",
       "3   4  Crimes against Public Order         NaN\n",
       "4   5                 Other Crimes         NaN"
      ]
     },
     "execution_count": 138,
     "metadata": {},
     "output_type": "execute_result"
    }
   ],
   "source": [
    "sample.head()"
   ]
  },
  {
   "cell_type": "code",
   "execution_count": 139,
   "id": "11c8c763",
   "metadata": {
    "execution": {
     "iopub.execute_input": "2024-08-10T17:51:02.794874Z",
     "iopub.status.busy": "2024-08-10T17:51:02.794478Z",
     "iopub.status.idle": "2024-08-10T17:51:02.801783Z",
     "shell.execute_reply": "2024-08-10T17:51:02.800664Z"
    },
    "papermill": {
     "duration": 0.095834,
     "end_time": "2024-08-10T17:51:02.804170",
     "exception": false,
     "start_time": "2024-08-10T17:51:02.708336",
     "status": "completed"
    },
    "tags": []
   },
   "outputs": [
    {
     "data": {
      "text/plain": [
       "(5000, 25)"
      ]
     },
     "execution_count": 139,
     "metadata": {},
     "output_type": "execute_result"
    }
   ],
   "source": [
    "test_data.shape"
   ]
  },
  {
   "cell_type": "code",
   "execution_count": 140,
   "id": "f813d085",
   "metadata": {
    "execution": {
     "iopub.execute_input": "2024-08-10T17:51:02.975335Z",
     "iopub.status.busy": "2024-08-10T17:51:02.974930Z",
     "iopub.status.idle": "2024-08-10T17:51:02.999070Z",
     "shell.execute_reply": "2024-08-10T17:51:02.997669Z"
    },
    "papermill": {
     "duration": 0.112099,
     "end_time": "2024-08-10T17:51:03.001853",
     "exception": false,
     "start_time": "2024-08-10T17:51:02.889754",
     "status": "completed"
    },
    "tags": []
   },
   "outputs": [
    {
     "name": "stdout",
     "output_type": "stream",
     "text": [
      "   ID                 Crime_Category\n",
      "0   1                 Violent Crimes\n",
      "1   2                Property Crimes\n",
      "2   3  Fraud and White-Collar Crimes\n",
      "3   4                Property Crimes\n",
      "4   5    Crimes against Public Order\n"
     ]
    }
   ],
   "source": [
    "submission=pd.DataFrame({\"ID\": np.arange(1,5001),\n",
    "                         \"Crime_Category\": test_pred_decode})\n",
    "print(submission.head())\n",
    "submission.to_csv('submission.csv',index=False)"
   ]
  }
 ],
 "metadata": {
  "kaggle": {
   "accelerator": "none",
   "dataSources": [
    {
     "databundleVersionId": 8446444,
     "sourceId": 77420,
     "sourceType": "competition"
    }
   ],
   "dockerImageVersionId": 30732,
   "isGpuEnabled": false,
   "isInternetEnabled": true,
   "language": "python",
   "sourceType": "notebook"
  },
  "kernelspec": {
   "display_name": "Python 3",
   "language": "python",
   "name": "python3"
  },
  "language_info": {
   "codemirror_mode": {
    "name": "ipython",
    "version": 3
   },
   "file_extension": ".py",
   "mimetype": "text/x-python",
   "name": "python",
   "nbconvert_exporter": "python",
   "pygments_lexer": "ipython3",
   "version": "3.10.13"
  },
  "papermill": {
   "default_parameters": {},
   "duration": 109.985767,
   "end_time": "2024-08-10T17:51:03.908238",
   "environment_variables": {},
   "exception": null,
   "input_path": "__notebook__.ipynb",
   "output_path": "__notebook__.ipynb",
   "parameters": {},
   "start_time": "2024-08-10T17:49:13.922471",
   "version": "2.5.0"
  }
 },
 "nbformat": 4,
 "nbformat_minor": 5
}
